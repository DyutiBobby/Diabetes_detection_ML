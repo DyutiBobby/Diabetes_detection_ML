{
  "nbformat": 4,
  "nbformat_minor": 0,
  "metadata": {
    "colab": {
      "name": "FINAL_RANDOMFOREST.ipynb",
      "provenance": []
    },
    "kernelspec": {
      "name": "python3",
      "display_name": "Python 3"
    },
    "language_info": {
      "name": "python"
    }
  },
  "cells": [
    {
      "cell_type": "markdown",
      "source": [
        "#**Random Forest**"
      ],
      "metadata": {
        "id": "QyB4YJ178ygw"
      }
    },
    {
      "cell_type": "code",
      "execution_count": 1,
      "metadata": {
        "colab": {
          "base_uri": "https://localhost:8080/"
        },
        "id": "lEAKcUAC8R1J",
        "outputId": "fddd866c-9c3b-4dfa-eeb5-32ab3a0bf046"
      },
      "outputs": [
        {
          "output_type": "stream",
          "name": "stdout",
          "text": [
            "Drive already mounted at /content/gdrive; to attempt to forcibly remount, call drive.mount(\"/content/gdrive\", force_remount=True).\n"
          ]
        }
      ],
      "source": [
        "from google.colab import drive\n",
        "drive.mount(\"/content/gdrive\")"
      ]
    },
    {
      "cell_type": "code",
      "source": [
        "%load_ext rpy2.ipython"
      ],
      "metadata": {
        "id": "Yt_CzJiO9KUQ"
      },
      "execution_count": 2,
      "outputs": []
    },
    {
      "cell_type": "code",
      "source": [
        "#%%R\n",
        "#install.packages(\"dplyr\") \n",
        "#install.packages(\"ggplot2\") \n",
        "#install.packages(\"caret\") \n",
        "#install.packages(\"e1071\") \n",
        "#install.packages(\"cowplot\") \n",
        "#install.packages(\"matrix\")\n",
        "#install.packages(\"magrittr\")\n",
        "#install.packages(\"glmnet\", dependencies=TRUE)\n",
        "#install.packages(\"groupdata2\")\n",
        "#install.packages(\"randomForest\")\n",
        "#tar(\"libraryrf.tar.gz\", \"/usr/local/lib/R/site-library\")"
      ],
      "metadata": {
        "id": "PrssOvGc9VN9"
      },
      "execution_count": 3,
      "outputs": []
    },
    {
      "cell_type": "code",
      "source": [
        "#%cp libraryrf.tar.gz gdrive/MyDrive"
      ],
      "metadata": {
        "id": "-c42y2Uo4zD8"
      },
      "execution_count": 4,
      "outputs": []
    },
    {
      "cell_type": "code",
      "source": [
        "%cp gdrive/MyDrive/libraryrf.tar.gz ."
      ],
      "metadata": {
        "id": "-irRrFNE48h6"
      },
      "execution_count": 5,
      "outputs": []
    },
    {
      "cell_type": "code",
      "source": [
        "!tar xf libraryrf.tar.gz"
      ],
      "metadata": {
        "colab": {
          "base_uri": "https://localhost:8080/"
        },
        "id": "PTuSZBjr5CPh",
        "outputId": "d50f13f0-240d-409a-810a-e7a8eedb62a7"
      },
      "execution_count": 6,
      "outputs": [
        {
          "output_type": "stream",
          "name": "stdout",
          "text": [
            "tar: Removing leading `/' from member names\n"
          ]
        }
      ]
    },
    {
      "cell_type": "code",
      "source": [
        "%%R\n",
        ".libPaths('usr/local/lib/R/site-library/')\n",
        "install.packages(\"caTools\")"
      ],
      "metadata": {
        "id": "b9KgRhCs5D7i",
        "colab": {
          "base_uri": "https://localhost:8080/"
        },
        "outputId": "460a1a45-c702-4c46-869b-48f912cc5dff"
      },
      "execution_count": 7,
      "outputs": [
        {
          "output_type": "stream",
          "name": "stderr",
          "text": [
            "R[write to console]: Installing package into ‘/content/usr/local/lib/R/site-library’\n",
            "(as ‘lib’ is unspecified)\n",
            "\n",
            "R[write to console]: trying URL 'https://cran.rstudio.com/src/contrib/caTools_1.18.2.tar.gz'\n",
            "\n",
            "R[write to console]: Content type 'application/x-gzip'\n",
            "R[write to console]:  length 64960 bytes (63 KB)\n",
            "\n",
            "R[write to console]: =\n",
            "R[write to console]: =\n",
            "R[write to console]: =\n",
            "R[write to console]: =\n",
            "R[write to console]: =\n",
            "R[write to console]: =\n",
            "R[write to console]: =\n",
            "R[write to console]: =\n",
            "R[write to console]: =\n",
            "R[write to console]: =\n",
            "R[write to console]: =\n",
            "R[write to console]: =\n",
            "R[write to console]: =\n",
            "R[write to console]: =\n",
            "R[write to console]: =\n",
            "R[write to console]: =\n",
            "R[write to console]: =\n",
            "R[write to console]: =\n",
            "R[write to console]: =\n",
            "R[write to console]: =\n",
            "R[write to console]: =\n",
            "R[write to console]: =\n",
            "R[write to console]: =\n",
            "R[write to console]: =\n",
            "R[write to console]: =\n",
            "R[write to console]: =\n",
            "R[write to console]: =\n",
            "R[write to console]: =\n",
            "R[write to console]: =\n",
            "R[write to console]: =\n",
            "R[write to console]: =\n",
            "R[write to console]: =\n",
            "R[write to console]: =\n",
            "R[write to console]: =\n",
            "R[write to console]: =\n",
            "R[write to console]: =\n",
            "R[write to console]: =\n",
            "R[write to console]: =\n",
            "R[write to console]: =\n",
            "R[write to console]: =\n",
            "R[write to console]: =\n",
            "R[write to console]: =\n",
            "R[write to console]: =\n",
            "R[write to console]: =\n",
            "R[write to console]: =\n",
            "R[write to console]: =\n",
            "R[write to console]: =\n",
            "R[write to console]: =\n",
            "R[write to console]: =\n",
            "R[write to console]: =\n",
            "R[write to console]: \n",
            "\n",
            "R[write to console]: downloaded 63 KB\n",
            "\n",
            "\n",
            "R[write to console]: \n",
            "\n",
            "R[write to console]: \n",
            "R[write to console]: The downloaded source packages are in\n",
            "\t‘/tmp/RtmpzoI9Rx/downloaded_packages’\n",
            "R[write to console]: \n",
            "R[write to console]: \n",
            "\n"
          ]
        }
      ]
    },
    {
      "cell_type": "code",
      "source": [
        "%%R\n",
        "library(data.table) \n",
        "library(ggplot2)  \n",
        "library(caret)        \n",
        "library(e1071)      \n",
        "library(cowplot)    \n",
        "library(Matrix)\n",
        "library(magrittr)\n",
        "library(glmnet)\n",
        "library(groupdata2)\n",
        "library(class)\n",
        "library(randomForest)\n",
        "library(caTools)"
      ],
      "metadata": {
        "id": "xUJVFBuI9jBm",
        "colab": {
          "base_uri": "https://localhost:8080/"
        },
        "outputId": "c4582527-1fa8-440d-fc87-44400253ed65"
      },
      "execution_count": 8,
      "outputs": [
        {
          "output_type": "stream",
          "name": "stderr",
          "text": [
            "R[write to console]: data.table 1.14.2 using 1 threads (see ?getDTthreads).  Latest news: r-datatable.com\n",
            "\n",
            "R[write to console]: Loading required package: lattice\n",
            "\n",
            "R[write to console]: Loaded glmnet 4.1-3\n",
            "\n",
            "R[write to console]: randomForest 4.6-14\n",
            "\n",
            "R[write to console]: Type rfNews() to see new features/changes/bug fixes.\n",
            "\n",
            "R[write to console]: \n",
            "Attaching package: ‘randomForest’\n",
            "\n",
            "\n",
            "R[write to console]: The following object is masked from ‘package:ggplot2’:\n",
            "\n",
            "    margin\n",
            "\n",
            "\n"
          ]
        }
      ]
    },
    {
      "cell_type": "code",
      "source": [
        "%%R\n",
        "data = read.csv(\"/content/gdrive/MyDrive/DS_CP/diabetes.csv\")"
      ],
      "metadata": {
        "id": "MCzdv_-w9mXf"
      },
      "execution_count": 9,
      "outputs": []
    },
    {
      "cell_type": "code",
      "source": [
        "%%R\n",
        "colnames(data)"
      ],
      "metadata": {
        "colab": {
          "base_uri": "https://localhost:8080/"
        },
        "id": "f1PXjTfg966n",
        "outputId": "e1bf6dc3-486b-4476-9695-b73373e0f09e"
      },
      "execution_count": 10,
      "outputs": [
        {
          "output_type": "stream",
          "name": "stdout",
          "text": [
            "[1] \"Pregnancies\"              \"Glucose\"                 \n",
            "[3] \"BloodPressure\"            \"SkinThickness\"           \n",
            "[5] \"Insulin\"                  \"BMI\"                     \n",
            "[7] \"DiabetesPedigreeFunction\" \"Age\"                     \n",
            "[9] \"Outcome\"                 \n"
          ]
        }
      ]
    },
    {
      "cell_type": "code",
      "source": [
        "%%R\n",
        "dim(data)"
      ],
      "metadata": {
        "colab": {
          "base_uri": "https://localhost:8080/"
        },
        "id": "nYMLPu5c99Gv",
        "outputId": "7e9b3ef8-49be-46fb-adcf-f862bffa0a24"
      },
      "execution_count": 11,
      "outputs": [
        {
          "output_type": "stream",
          "name": "stdout",
          "text": [
            "[1] 768   9\n"
          ]
        }
      ]
    },
    {
      "cell_type": "code",
      "source": [
        "%%R\n",
        "sapply(data, function(x) sum(is.na(x)))"
      ],
      "metadata": {
        "colab": {
          "base_uri": "https://localhost:8080/"
        },
        "id": "R1g9OY509_oK",
        "outputId": "7daee705-a290-4cfa-cd9e-6fcca66fa7a0"
      },
      "execution_count": 12,
      "outputs": [
        {
          "output_type": "stream",
          "name": "stdout",
          "text": [
            "             Pregnancies                  Glucose            BloodPressure \n",
            "                       0                        0                        0 \n",
            "           SkinThickness                  Insulin                      BMI \n",
            "                       0                        0                        0 \n",
            "DiabetesPedigreeFunction                      Age                  Outcome \n",
            "                       0                        0                        0 \n"
          ]
        }
      ]
    },
    {
      "cell_type": "code",
      "source": [
        "%%R\n",
        "data$Outcome <- as.factor(data$Outcome)\n",
        "table(data$Outcome)"
      ],
      "metadata": {
        "colab": {
          "base_uri": "https://localhost:8080/"
        },
        "id": "IIbL1YLO-AcH",
        "outputId": "7004f81f-5490-46a6-88c3-4e16ce7eea7d"
      },
      "execution_count": 13,
      "outputs": [
        {
          "output_type": "stream",
          "name": "stdout",
          "text": [
            "\n",
            "  0   1 \n",
            "500 268 \n"
          ]
        }
      ]
    },
    {
      "cell_type": "code",
      "source": [
        "%%R\n",
        "summary(data)"
      ],
      "metadata": {
        "colab": {
          "base_uri": "https://localhost:8080/"
        },
        "id": "wuXyvynt-E2P",
        "outputId": "a31a9909-d114-4027-af5a-47827604eba8"
      },
      "execution_count": 14,
      "outputs": [
        {
          "output_type": "stream",
          "name": "stdout",
          "text": [
            "  Pregnancies        Glucose      BloodPressure    SkinThickness  \n",
            " Min.   : 0.000   Min.   :  0.0   Min.   :  0.00   Min.   : 0.00  \n",
            " 1st Qu.: 1.000   1st Qu.: 99.0   1st Qu.: 62.00   1st Qu.: 0.00  \n",
            " Median : 3.000   Median :117.0   Median : 72.00   Median :23.00  \n",
            " Mean   : 3.845   Mean   :120.9   Mean   : 69.11   Mean   :20.54  \n",
            " 3rd Qu.: 6.000   3rd Qu.:140.2   3rd Qu.: 80.00   3rd Qu.:32.00  \n",
            " Max.   :17.000   Max.   :199.0   Max.   :122.00   Max.   :99.00  \n",
            "    Insulin           BMI        DiabetesPedigreeFunction      Age       \n",
            " Min.   :  0.0   Min.   : 0.00   Min.   :0.0780           Min.   :21.00  \n",
            " 1st Qu.:  0.0   1st Qu.:27.30   1st Qu.:0.2437           1st Qu.:24.00  \n",
            " Median : 30.5   Median :32.00   Median :0.3725           Median :29.00  \n",
            " Mean   : 79.8   Mean   :31.99   Mean   :0.4719           Mean   :33.24  \n",
            " 3rd Qu.:127.2   3rd Qu.:36.60   3rd Qu.:0.6262           3rd Qu.:41.00  \n",
            " Max.   :846.0   Max.   :67.10   Max.   :2.4200           Max.   :81.00  \n",
            " Outcome\n",
            " 0:500  \n",
            " 1:268  \n",
            "        \n",
            "        \n",
            "        \n",
            "        \n"
          ]
        }
      ]
    },
    {
      "cell_type": "code",
      "source": [
        "%%R\n",
        "str(data)"
      ],
      "metadata": {
        "colab": {
          "base_uri": "https://localhost:8080/"
        },
        "id": "8oitQLQb-Hyu",
        "outputId": "4242c648-00fe-4188-db9f-e237e64150c1"
      },
      "execution_count": 15,
      "outputs": [
        {
          "output_type": "stream",
          "name": "stdout",
          "text": [
            "'data.frame':\t768 obs. of  9 variables:\n",
            " $ Pregnancies             : int  6 1 8 1 0 5 3 10 2 8 ...\n",
            " $ Glucose                 : int  148 85 183 89 137 116 78 115 197 125 ...\n",
            " $ BloodPressure           : int  72 66 64 66 40 74 50 0 70 96 ...\n",
            " $ SkinThickness           : int  35 29 0 23 35 0 32 0 45 0 ...\n",
            " $ Insulin                 : int  0 0 0 94 168 0 88 0 543 0 ...\n",
            " $ BMI                     : num  33.6 26.6 23.3 28.1 43.1 25.6 31 35.3 30.5 0 ...\n",
            " $ DiabetesPedigreeFunction: num  0.627 0.351 0.672 0.167 2.288 ...\n",
            " $ Age                     : int  50 31 32 21 33 30 26 29 53 54 ...\n",
            " $ Outcome                 : Factor w/ 2 levels \"0\",\"1\": 2 1 2 1 2 1 2 1 2 2 ...\n"
          ]
        }
      ]
    },
    {
      "cell_type": "code",
      "source": [
        "%%R\n",
        "data<-upsample(\n",
        "  data,\n",
        "  cat_col= \"Outcome\",\n",
        "  id_col = NULL,\n",
        "  id_method = \"n_ids\",\n",
        "  mark_new_rows = FALSE\n",
        ")"
      ],
      "metadata": {
        "id": "Da4N5hQr4ROM"
      },
      "execution_count": 16,
      "outputs": []
    },
    {
      "cell_type": "code",
      "source": [
        "%%R\n",
        "set.seed(222)\n",
        "ind <- sample(2, nrow(data), replace = TRUE,prob = c(0.8,0.2))\n",
        "train <- data[ind==1,]\n",
        "test <- data[ind==2,]"
      ],
      "metadata": {
        "id": "OKtw49AR-qow"
      },
      "execution_count": 17,
      "outputs": []
    },
    {
      "cell_type": "code",
      "source": [
        "%%R\n",
        "set.seed(122)\n",
        "rf <- randomForest(Outcome~., data = train,\n",
        "                   ntree = 550, \n",
        "                   mtry = 8,\n",
        "                   importance = TRUE,\n",
        "                   proximity = TRUE)"
      ],
      "metadata": {
        "id": "jv9FJA8q-3WO"
      },
      "execution_count": 18,
      "outputs": []
    },
    {
      "cell_type": "code",
      "source": [
        "%%R\n",
        "p1 <- predict(rf,train)\n",
        "confusionMatrix(p1, train$Outcome)"
      ],
      "metadata": {
        "colab": {
          "base_uri": "https://localhost:8080/"
        },
        "id": "OEajm8sT_u2A",
        "outputId": "50188ab4-2c92-41e6-d907-e08f061864e0"
      },
      "execution_count": 19,
      "outputs": [
        {
          "output_type": "stream",
          "name": "stdout",
          "text": [
            "Confusion Matrix and Statistics\n",
            "\n",
            "          Reference\n",
            "Prediction   0   1\n",
            "         0 413   0\n",
            "         1   0 404\n",
            "                                     \n",
            "               Accuracy : 1          \n",
            "                 95% CI : (0.9955, 1)\n",
            "    No Information Rate : 0.5055     \n",
            "    P-Value [Acc > NIR] : < 2.2e-16  \n",
            "                                     \n",
            "                  Kappa : 1          \n",
            "                                     \n",
            " Mcnemar's Test P-Value : NA         \n",
            "                                     \n",
            "            Sensitivity : 1.0000     \n",
            "            Specificity : 1.0000     \n",
            "         Pos Pred Value : 1.0000     \n",
            "         Neg Pred Value : 1.0000     \n",
            "             Prevalence : 0.5055     \n",
            "         Detection Rate : 0.5055     \n",
            "   Detection Prevalence : 0.5055     \n",
            "      Balanced Accuracy : 1.0000     \n",
            "                                     \n",
            "       'Positive' Class : 0          \n",
            "                                     \n"
          ]
        }
      ]
    },
    {
      "cell_type": "code",
      "source": [
        "%%R\n",
        "p2 <- predict(rf,test)\n",
        "confusionMatrix(p2,test$Outcome)"
      ],
      "metadata": {
        "colab": {
          "base_uri": "https://localhost:8080/"
        },
        "id": "LKz7Vduj_zOm",
        "outputId": "00444d05-275a-4a55-b71b-d4f3e1c4c849"
      },
      "execution_count": 20,
      "outputs": [
        {
          "output_type": "stream",
          "name": "stdout",
          "text": [
            "Confusion Matrix and Statistics\n",
            "\n",
            "          Reference\n",
            "Prediction  0  1\n",
            "         0 72  1\n",
            "         1 15 95\n",
            "                                          \n",
            "               Accuracy : 0.9126          \n",
            "                 95% CI : (0.8619, 0.9492)\n",
            "    No Information Rate : 0.5246          \n",
            "    P-Value [Acc > NIR] : < 2.2e-16       \n",
            "                                          \n",
            "                  Kappa : 0.8234          \n",
            "                                          \n",
            " Mcnemar's Test P-Value : 0.001154        \n",
            "                                          \n",
            "            Sensitivity : 0.8276          \n",
            "            Specificity : 0.9896          \n",
            "         Pos Pred Value : 0.9863          \n",
            "         Neg Pred Value : 0.8636          \n",
            "             Prevalence : 0.4754          \n",
            "         Detection Rate : 0.3934          \n",
            "   Detection Prevalence : 0.3989          \n",
            "      Balanced Accuracy : 0.9086          \n",
            "                                          \n",
            "       'Positive' Class : 0               \n",
            "                                          \n"
          ]
        }
      ]
    },
    {
      "cell_type": "code",
      "source": [
        "%%R\n",
        "install.packages(\"pROC\")\n",
        "library(pROC)"
      ],
      "metadata": {
        "colab": {
          "base_uri": "https://localhost:8080/"
        },
        "id": "GkE-HkcEw4x3",
        "outputId": "a5bb6cde-5698-4e77-be7b-a7e60ab1ca92"
      },
      "execution_count": 21,
      "outputs": [
        {
          "output_type": "stream",
          "name": "stderr",
          "text": [
            "R[write to console]: Installing package into ‘/content/usr/local/lib/R/site-library’\n",
            "(as ‘lib’ is unspecified)\n",
            "\n",
            "R[write to console]: trying URL 'https://cran.rstudio.com/src/contrib/pROC_1.18.0.tar.gz'\n",
            "\n",
            "R[write to console]: Content type 'application/x-gzip'\n",
            "R[write to console]:  length 688430 bytes (672 KB)\n",
            "\n",
            "R[write to console]: =\n",
            "R[write to console]: =\n",
            "R[write to console]: =\n",
            "R[write to console]: =\n",
            "R[write to console]: =\n",
            "R[write to console]: =\n",
            "R[write to console]: =\n",
            "R[write to console]: =\n",
            "R[write to console]: =\n",
            "R[write to console]: =\n",
            "R[write to console]: =\n",
            "R[write to console]: =\n",
            "R[write to console]: =\n",
            "R[write to console]: =\n",
            "R[write to console]: =\n",
            "R[write to console]: =\n",
            "R[write to console]: =\n",
            "R[write to console]: =\n",
            "R[write to console]: =\n",
            "R[write to console]: =\n",
            "R[write to console]: =\n",
            "R[write to console]: =\n",
            "R[write to console]: =\n",
            "R[write to console]: =\n",
            "R[write to console]: =\n",
            "R[write to console]: =\n",
            "R[write to console]: =\n",
            "R[write to console]: =\n",
            "R[write to console]: =\n",
            "R[write to console]: =\n",
            "R[write to console]: =\n",
            "R[write to console]: =\n",
            "R[write to console]: =\n",
            "R[write to console]: =\n",
            "R[write to console]: =\n",
            "R[write to console]: =\n",
            "R[write to console]: =\n",
            "R[write to console]: =\n",
            "R[write to console]: =\n",
            "R[write to console]: =\n",
            "R[write to console]: =\n",
            "R[write to console]: =\n",
            "R[write to console]: =\n",
            "R[write to console]: =\n",
            "R[write to console]: =\n",
            "R[write to console]: =\n",
            "R[write to console]: =\n",
            "R[write to console]: =\n",
            "R[write to console]: =\n",
            "R[write to console]: =\n",
            "R[write to console]: \n",
            "\n",
            "R[write to console]: downloaded 672 KB\n",
            "\n",
            "\n",
            "R[write to console]: \n",
            "\n",
            "R[write to console]: \n",
            "R[write to console]: The downloaded source packages are in\n",
            "\t‘/tmp/RtmpzoI9Rx/downloaded_packages’\n",
            "R[write to console]: \n",
            "R[write to console]: \n",
            "\n",
            "R[write to console]: Type 'citation(\"pROC\")' for a citation.\n",
            "\n",
            "R[write to console]: \n",
            "Attaching package: ‘pROC’\n",
            "\n",
            "\n",
            "R[write to console]: The following objects are masked from ‘package:stats’:\n",
            "\n",
            "    cov, smooth, var\n",
            "\n",
            "\n"
          ]
        }
      ]
    },
    {
      "cell_type": "code",
      "source": [
        "%%R\n",
        "test$Outcome<-as.numeric(test$Outcome)\n",
        "p2<-as.numeric(p2)\n",
        "roc_rf<- roc(test$Outcome, p2)\n",
        "roc_rf"
      ],
      "metadata": {
        "colab": {
          "base_uri": "https://localhost:8080/"
        },
        "id": "5LIM5WlqxCBO",
        "outputId": "7bf172c6-e2ba-4e5d-e677-37d967b8ce1e"
      },
      "execution_count": 22,
      "outputs": [
        {
          "output_type": "stream",
          "name": "stderr",
          "text": [
            "R[write to console]: Setting levels: control = 1, case = 2\n",
            "\n",
            "R[write to console]: Setting direction: controls < cases\n",
            "\n"
          ]
        },
        {
          "output_type": "stream",
          "name": "stdout",
          "text": [
            "\n",
            "Call:\n",
            "roc.default(response = test$Outcome, predictor = p2)\n",
            "\n",
            "Data: p2 in 87 controls (test$Outcome 1) < 96 cases (test$Outcome 2).\n",
            "Area under the curve: 0.9086\n"
          ]
        }
      ]
    },
    {
      "cell_type": "code",
      "source": [
        "%%R\n",
        "caTools::colAUC(p2, test$Outcome, plotROC = T)"
      ],
      "metadata": {
        "colab": {
          "base_uri": "https://localhost:8080/",
          "height": 532
        },
        "id": "0uLnfPj1xbaV",
        "outputId": "cfff5619-0ba2-4f1f-960b-9b99f3adada2"
      },
      "execution_count": 23,
      "outputs": [
        {
          "output_type": "stream",
          "name": "stdout",
          "text": [
            "             [,1]\n",
            "1 vs. 2 0.9085848\n"
          ]
        },
        {
          "output_type": "display_data",
          "data": {
            "image/png": "[encoded data removed]"
          },
          "metadata": {}
        }
      ]
    },
    {
      "cell_type": "code",
      "source": [
        "%%R\n",
        "plot(rf)"
      ],
      "metadata": {
        "colab": {
          "base_uri": "https://localhost:8080/",
          "height": 497
        },
        "id": "1JueJDeuAF8e",
        "outputId": "f1f035e4-821a-4c79-c3eb-303517dfb1dd"
      },
      "execution_count": 24,
      "outputs": [
        {
          "output_type": "display_data",
          "data": {
            "image/png": "[encoded data removed]"
          },
          "metadata": {}
        }
      ]
    },
    {
      "cell_type": "code",
      "source": [
        "%%R\n",
        "t <- tuneRF(train[,-9], train[,9],\n",
        "            stepFactor = 6,\n",
        "            plot = TRUE,\n",
        "            ntreeTry = 550,\n",
        "            trace = TRUE,\n",
        "            improve = 3)"
      ],
      "metadata": {
        "colab": {
          "base_uri": "https://localhost:8080/",
          "height": 619
        },
        "id": "D_rik2Uu_ziJ",
        "outputId": "81bda1de-ee28-4886-fab8-e6f9a28f5195"
      },
      "execution_count": 25,
      "outputs": [
        {
          "output_type": "stream",
          "name": "stdout",
          "text": [
            "mtry = 2  OOB error = 16.16% \n",
            "Searching left ...\n",
            "mtry = 1 \tOOB error = 16.16% \n",
            "0 3 \n",
            "Searching right ...\n",
            "mtry = 8 \tOOB error = 16.52% \n",
            "-0.02272727 3 \n"
          ]
        },
        {
          "output_type": "display_data",
          "data": {
            "image/png": "[encoded data removed]"
          },
          "metadata": {}
        }
      ]
    }
  ]
}