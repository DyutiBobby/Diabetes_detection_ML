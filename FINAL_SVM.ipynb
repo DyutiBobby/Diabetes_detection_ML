{
  "cells": [
    {
      "cell_type": "markdown",
      "metadata": {
        "id": "view-in-github",
        "colab_type": "text"
      },
      "source": [
        "<a href=\"https://colab.research.google.com/github/Atharva-D/Detection-and-Prediction-of-Diabetes/blob/main/SVM_FINAL1.ipynb\" target=\"_parent\"><img src=\"https://colab.research.google.com/assets/colab-badge.svg\" alt=\"Open In Colab\"/></a>"
      ]
    },
    {
      "cell_type": "code",
      "execution_count": 78,
      "metadata": {
        "id": "8LbEKYuQskgR",
        "colab": {
          "base_uri": "https://localhost:8080/"
        },
        "outputId": "4ab511d7-2291-4256-a3ef-fa48cac40d94"
      },
      "outputs": [
        {
          "output_type": "stream",
          "name": "stdout",
          "text": [
            "The rpy2.ipython extension is already loaded. To reload it, use:\n",
            "  %reload_ext rpy2.ipython\n"
          ]
        }
      ],
      "source": [
        "%load_ext rpy2.ipython"
      ]
    },
    {
      "cell_type": "code",
      "execution_count": 79,
      "metadata": {
        "colab": {
          "base_uri": "https://localhost:8080/"
        },
        "id": "uy62gQEH_O0c",
        "outputId": "7cbc24f8-db7f-45c0-d92b-de4669d997c2"
      },
      "outputs": [
        {
          "output_type": "stream",
          "name": "stderr",
          "text": [
            "R[write to console]: Installing package into ‘/usr/local/lib/R/site-library’\n",
            "(as ‘lib’ is unspecified)\n",
            "\n",
            "R[write to console]: trying URL 'https://cran.rstudio.com/src/contrib/caret_6.0-90.tar.gz'\n",
            "\n",
            "R[write to console]: Content type 'application/x-gzip'\n",
            "R[write to console]:  length 2335088 bytes (2.2 MB)\n",
            "\n",
            "R[write to console]: =\n",
            "R[write to console]: =\n",
            "R[write to console]: =\n",
            "R[write to console]: =\n",
            "R[write to console]: =\n",
            "R[write to console]: =\n",
            "R[write to console]: =\n",
            "R[write to console]: =\n",
            "R[write to console]: =\n",
            "R[write to console]: =\n",
            "R[write to console]: =\n",
            "R[write to console]: =\n",
            "R[write to console]: =\n",
            "R[write to console]: =\n",
            "R[write to console]: =\n",
            "R[write to console]: =\n",
            "R[write to console]: =\n",
            "R[write to console]: =\n",
            "R[write to console]: =\n",
            "R[write to console]: =\n",
            "R[write to console]: =\n",
            "R[write to console]: =\n",
            "R[write to console]: =\n",
            "R[write to console]: =\n",
            "R[write to console]: =\n",
            "R[write to console]: =\n",
            "R[write to console]: =\n",
            "R[write to console]: =\n",
            "R[write to console]: =\n",
            "R[write to console]: =\n",
            "R[write to console]: =\n",
            "R[write to console]: =\n",
            "R[write to console]: =\n",
            "R[write to console]: =\n",
            "R[write to console]: =\n",
            "R[write to console]: =\n",
            "R[write to console]: =\n",
            "R[write to console]: =\n",
            "R[write to console]: =\n",
            "R[write to console]: =\n",
            "R[write to console]: =\n",
            "R[write to console]: =\n",
            "R[write to console]: =\n",
            "R[write to console]: =\n",
            "R[write to console]: =\n",
            "R[write to console]: =\n",
            "R[write to console]: =\n",
            "R[write to console]: =\n",
            "R[write to console]: =\n",
            "R[write to console]: =\n",
            "R[write to console]: \n",
            "\n",
            "R[write to console]: downloaded 2.2 MB\n",
            "\n",
            "\n",
            "R[write to console]: \n",
            "\n",
            "R[write to console]: \n",
            "R[write to console]: The downloaded source packages are in\n",
            "\t‘/tmp/RtmptVBrMZ/downloaded_packages’\n",
            "R[write to console]: \n",
            "R[write to console]: \n",
            "\n"
          ]
        }
      ],
      "source": [
        "%%R\n",
        "install.packages(\"caret\")\n",
        "library(caret)"
      ]
    },
    {
      "cell_type": "code",
      "execution_count": null,
      "metadata": {
        "colab": {
          "base_uri": "https://localhost:8080/"
        },
        "id": "jh6QheSD_UZ4",
        "outputId": "7ae3aa56-a17b-492f-a882-1f0e511b4fa0"
      },
      "outputs": [
        {
          "name": "stdout",
          "output_type": "stream",
          "text": [
            "'data.frame':\t768 obs. of  9 variables:\n",
            " $ Pregnancies             : int  6 1 8 1 0 5 3 10 2 8 ...\n",
            " $ Glucose                 : int  148 85 183 89 137 116 78 115 197 125 ...\n",
            " $ BloodPressure           : int  72 66 64 66 40 74 50 0 70 96 ...\n",
            " $ SkinThickness           : int  35 29 0 23 35 0 32 0 45 0 ...\n",
            " $ Insulin                 : int  0 0 0 94 168 0 88 0 543 0 ...\n",
            " $ BMI                     : num  33.6 26.6 23.3 28.1 43.1 25.6 31 35.3 30.5 0 ...\n",
            " $ DiabetesPedigreeFunction: num  0.627 0.351 0.672 0.167 2.288 ...\n",
            " $ Age                     : int  50 31 32 21 33 30 26 29 53 54 ...\n",
            " $ Outcome                 : int  1 0 1 0 1 0 1 0 1 1 ...\n"
          ]
        }
      ],
      "source": [
        "%%R\n",
        "data<-read.csv(\"/content/drive/MyDrive/Data science/diabetes.csv\")\n",
        "str(data)"
      ]
    },
    {
      "cell_type": "code",
      "execution_count": 80,
      "metadata": {
        "colab": {
          "base_uri": "https://localhost:8080/"
        },
        "id": "webgVDt5swuM",
        "outputId": "f91ea20c-ec0f-4311-8bdd-4fed53573e66"
      },
      "outputs": [
        {
          "output_type": "stream",
          "name": "stdout",
          "text": [
            "  Pregnancies Glucose BloodPressure SkinThickness Insulin  BMI\n",
            "1           1      85            66            29       0 26.6\n",
            "2           5     116            74             0       0 25.6\n",
            "3          10     115             0             0       0 35.3\n",
            "4           4     110            92             0       0 37.6\n",
            "5          10     139            80             0       0 27.1\n",
            "6           1     103            30            38      83 43.3\n",
            "  DiabetesPedigreeFunction Age Outcome\n",
            "1                    0.351  31       0\n",
            "2                    0.201  30       0\n",
            "3                    0.134  29       0\n",
            "4                    0.191  30       0\n",
            "5                    1.441  57       0\n",
            "6                    0.183  33       0\n"
          ]
        }
      ],
      "source": [
        "%%R\n",
        "head(data)"
      ]
    },
    {
      "cell_type": "code",
      "execution_count": 82,
      "metadata": {
        "id": "WCou1PsC_toR"
      },
      "outputs": [],
      "source": [
        "%%R\n",
        "set.seed(3033)\n",
        "intrain <- createDataPartition(y = data$Outcome, p= 0.7, list = FALSE)\n",
        "training <- data[intrain,]\n",
        "testing <- data[-intrain,]"
      ]
    },
    {
      "cell_type": "code",
      "source": [
        "%%R\n",
        "install.packages(\"groupdata2\")\n",
        "library(groupdata2)"
      ],
      "metadata": {
        "colab": {
          "base_uri": "https://localhost:8080/"
        },
        "id": "qJ5Cj0zEWG_d",
        "outputId": "e8ab21b2-870e-453e-9c4d-80eb941caa42"
      },
      "execution_count": 83,
      "outputs": [
        {
          "output_type": "stream",
          "name": "stderr",
          "text": [
            "R[write to console]: Installing package into ‘/usr/local/lib/R/site-library’\n",
            "(as ‘lib’ is unspecified)\n",
            "\n",
            "R[write to console]: trying URL 'https://cran.rstudio.com/src/contrib/groupdata2_2.0.0.tar.gz'\n",
            "\n",
            "R[write to console]: Content type 'application/x-gzip'\n",
            "R[write to console]:  length 1288014 bytes (1.2 MB)\n",
            "\n",
            "R[write to console]: =\n",
            "R[write to console]: =\n",
            "R[write to console]: =\n",
            "R[write to console]: =\n",
            "R[write to console]: =\n",
            "R[write to console]: =\n",
            "R[write to console]: =\n",
            "R[write to console]: =\n",
            "R[write to console]: =\n",
            "R[write to console]: =\n",
            "R[write to console]: =\n",
            "R[write to console]: =\n",
            "R[write to console]: =\n",
            "R[write to console]: =\n",
            "R[write to console]: =\n",
            "R[write to console]: =\n",
            "R[write to console]: =\n",
            "R[write to console]: =\n",
            "R[write to console]: =\n",
            "R[write to console]: =\n",
            "R[write to console]: =\n",
            "R[write to console]: =\n",
            "R[write to console]: =\n",
            "R[write to console]: =\n",
            "R[write to console]: =\n",
            "R[write to console]: =\n",
            "R[write to console]: =\n",
            "R[write to console]: =\n",
            "R[write to console]: =\n",
            "R[write to console]: =\n",
            "R[write to console]: =\n",
            "R[write to console]: =\n",
            "R[write to console]: =\n",
            "R[write to console]: =\n",
            "R[write to console]: =\n",
            "R[write to console]: =\n",
            "R[write to console]: =\n",
            "R[write to console]: =\n",
            "R[write to console]: =\n",
            "R[write to console]: =\n",
            "R[write to console]: =\n",
            "R[write to console]: =\n",
            "R[write to console]: =\n",
            "R[write to console]: =\n",
            "R[write to console]: =\n",
            "R[write to console]: =\n",
            "R[write to console]: =\n",
            "R[write to console]: =\n",
            "R[write to console]: =\n",
            "R[write to console]: =\n",
            "R[write to console]: \n",
            "\n",
            "R[write to console]: downloaded 1.2 MB\n",
            "\n",
            "\n",
            "R[write to console]: \n",
            "\n",
            "R[write to console]: \n",
            "R[write to console]: The downloaded source packages are in\n",
            "\t‘/tmp/RtmptVBrMZ/downloaded_packages’\n",
            "R[write to console]: \n",
            "R[write to console]: \n",
            "\n"
          ]
        }
      ]
    },
    {
      "cell_type": "code",
      "source": [
        "%%R\n",
        "training<-upsample(\n",
        "  training,\n",
        "  \"Outcome\",\n",
        "  id_col = NULL,\n",
        "  id_method = \"n_ids\",\n",
        "  mark_new_rows = FALSE,\n",
        "  new_rows_col_name = \".new_row\"\n",
        ")"
      ],
      "metadata": {
        "id": "hCzId5GcWL10"
      },
      "execution_count": 84,
      "outputs": []
    },
    {
      "cell_type": "code",
      "source": [
        "%%R\n",
        "dim(training)\n"
      ],
      "metadata": {
        "colab": {
          "base_uri": "https://localhost:8080/"
        },
        "id": "vLhwCmYLWYyD",
        "outputId": "ab36b131-55ca-4fe2-b4b9-b645aeaf4bb8"
      },
      "execution_count": 86,
      "outputs": [
        {
          "output_type": "stream",
          "name": "stdout",
          "text": [
            "[1] 490   9\n"
          ]
        }
      ]
    },
    {
      "cell_type": "code",
      "source": [
        "%%R\n",
        "dim(testing)"
      ],
      "metadata": {
        "colab": {
          "base_uri": "https://localhost:8080/"
        },
        "id": "DxSiRTP5WhtL",
        "outputId": "c2a13a22-9cab-48a1-ebd2-c8537858c32e"
      },
      "execution_count": 87,
      "outputs": [
        {
          "output_type": "stream",
          "name": "stdout",
          "text": [
            "[1] 210   9\n"
          ]
        }
      ]
    },
    {
      "cell_type": "code",
      "source": [
        "%%R\n",
        "summary(data)"
      ],
      "metadata": {
        "colab": {
          "base_uri": "https://localhost:8080/"
        },
        "id": "r7ayfS7fWly8",
        "outputId": "b5048480-8509-4710-99bc-e10cfa50c837"
      },
      "execution_count": 88,
      "outputs": [
        {
          "output_type": "stream",
          "name": "stdout",
          "text": [
            "  Pregnancies        Glucose      BloodPressure    SkinThickness  \n",
            " Min.   : 0.000   Min.   :  0.0   Min.   :  0.00   Min.   : 0.00  \n",
            " 1st Qu.: 1.000   1st Qu.:102.0   1st Qu.: 64.00   1st Qu.: 0.00  \n",
            " Median : 3.000   Median :122.0   Median : 72.00   Median :24.00  \n",
            " Mean   : 4.203   Mean   :125.7   Mean   : 69.28   Mean   :20.78  \n",
            " 3rd Qu.: 7.000   3rd Qu.:148.0   3rd Qu.: 80.00   3rd Qu.:33.00  \n",
            " Max.   :17.000   Max.   :199.0   Max.   :114.00   Max.   :99.00  \n",
            "    Insulin            BMI        DiabetesPedigreeFunction      Age       \n",
            " Min.   :  0.00   Min.   : 0.00   Min.   :0.0780           Min.   :21.00  \n",
            " 1st Qu.:  0.00   1st Qu.:28.65   1st Qu.:0.2477           1st Qu.:25.00  \n",
            " Median :  0.00   Median :32.90   Median :0.3970           Median :31.00  \n",
            " Mean   : 84.35   Mean   :33.21   Mean   :0.4914           Mean   :34.25  \n",
            " 3rd Qu.:135.00   3rd Qu.:37.70   3rd Qu.:0.6585           3rd Qu.:41.00  \n",
            " Max.   :846.00   Max.   :67.10   Max.   :2.4200           Max.   :72.00  \n",
            " Outcome\n",
            " 0:350  \n",
            " 1:350  \n",
            "        \n",
            "        \n",
            "        \n",
            "        \n"
          ]
        }
      ]
    },
    {
      "cell_type": "code",
      "source": [
        "%%R\n",
        "trctrl <- trainControl(method = \"repeatedcv\", number = 10, repeats = 3)\n",
        "set.seed(3233)\n",
        "svm_Linear <- train(Outcome ~., data = training, method = \"svmLinear\",\n",
        "                 trControl=trctrl,\n",
        "                 preProcess = c(\"center\", \"scale\"),\n",
        "                 tuneLength = 10)\n",
        "svm_Linear"
      ],
      "metadata": {
        "colab": {
          "base_uri": "https://localhost:8080/"
        },
        "id": "AMwCDYy2WpYT",
        "outputId": "eb281152-65d3-464c-c61b-0270dea310fd"
      },
      "execution_count": 90,
      "outputs": [
        {
          "output_type": "stream",
          "name": "stdout",
          "text": [
            "Support Vector Machines with Linear Kernel \n",
            "\n",
            "490 samples\n",
            "  8 predictor\n",
            "  2 classes: '0', '1' \n",
            "\n",
            "Pre-processing: centered (8), scaled (8) \n",
            "Resampling: Cross-Validated (10 fold, repeated 3 times) \n",
            "Summary of sample sizes: 442, 441, 440, 441, 442, 441, ... \n",
            "Resampling results:\n",
            "\n",
            "  Accuracy   Kappa    \n",
            "  0.7641916  0.5281203\n",
            "\n",
            "Tuning parameter 'C' was held constant at a value of 1\n"
          ]
        }
      ]
    },
    {
      "cell_type": "code",
      "source": [
        "%%R\n",
        " test_pred <- predict(svm_Linear, newdata = testing)\n",
        " test_pred\n",
        " "
      ],
      "metadata": {
        "colab": {
          "base_uri": "https://localhost:8080/"
        },
        "id": "9j3IYQaiWsX0",
        "outputId": "cd02e8af-bb9a-4f70-de65-4369b1872298"
      },
      "execution_count": 91,
      "outputs": [
        {
          "output_type": "stream",
          "name": "stdout",
          "text": [
            "  [1] 1 1 0 0 1 0 0 0 1 0 0 0 0 1 0 0 0 1 1 0 0 0 0 0 0 0 1 1 1 0 0 0 1 0 0 0 1\n",
            " [38] 1 0 0 0 0 1 0 0 0 0 0 1 0 1 0 0 0 0 0 0 0 0 0 1 1 0 1 0 0 0 0 0 0 0 0 1 0\n",
            " [75] 0 0 0 0 0 1 0 1 0 0 0 0 0 1 0 0 0 0 1 0 0 0 0 0 0 0 0 0 0 0 0 1 1 0 1 1 1\n",
            "[112] 0 1 1 1 0 1 1 1 0 1 1 0 1 1 0 1 1 1 1 1 0 1 1 1 0 0 1 1 1 1 0 1 1 1 1 1 1\n",
            "[149] 1 1 1 1 1 0 0 1 1 1 0 1 0 1 1 1 1 1 1 0 1 1 0 0 0 0 1 1 1 0 1 0 1 0 0 1 1\n",
            "[186] 0 1 0 1 1 0 1 0 1 0 1 1 0 1 0 1 0 1 1 1 1 1 1 1 1\n",
            "Levels: 0 1\n"
          ]
        }
      ]
    },
    {
      "cell_type": "code",
      "source": [
        "%%R\n",
        "data$Outcome <- as.factor(data$Outcome)\n",
        "table(data$Outcome)"
      ],
      "metadata": {
        "colab": {
          "base_uri": "https://localhost:8080/"
        },
        "id": "2yWhvM7xW3xj",
        "outputId": "90af3e1d-b6ed-47d8-f703-85644fd0fdc2"
      },
      "execution_count": 92,
      "outputs": [
        {
          "output_type": "stream",
          "name": "stdout",
          "text": [
            "\n",
            "  0   1 \n",
            "350 350 \n"
          ]
        }
      ]
    },
    {
      "cell_type": "code",
      "source": [
        "%%R\n",
        "test_pred<-predict(svm_Linear,testing)"
      ],
      "metadata": {
        "id": "Sp785xYFW7Nk"
      },
      "execution_count": 93,
      "outputs": []
    },
    {
      "cell_type": "code",
      "source": [
        "%%R\n",
        "confusionMatrix(test_pred,testing$Outcome)"
      ],
      "metadata": {
        "colab": {
          "base_uri": "https://localhost:8080/"
        },
        "id": "QeFHDxNmXCfU",
        "outputId": "64e89df4-88dd-4fd0-9528-c21cca2ea84c"
      },
      "execution_count": 94,
      "outputs": [
        {
          "output_type": "stream",
          "name": "stdout",
          "text": [
            "Confusion Matrix and Statistics\n",
            "\n",
            "          Reference\n",
            "Prediction  0  1\n",
            "         0 81 31\n",
            "         1 24 74\n",
            "                                          \n",
            "               Accuracy : 0.7381          \n",
            "                 95% CI : (0.6731, 0.7962)\n",
            "    No Information Rate : 0.5             \n",
            "    P-Value [Acc > NIR] : 1.622e-12       \n",
            "                                          \n",
            "                  Kappa : 0.4762          \n",
            "                                          \n",
            " Mcnemar's Test P-Value : 0.4185          \n",
            "                                          \n",
            "            Sensitivity : 0.7714          \n",
            "            Specificity : 0.7048          \n",
            "         Pos Pred Value : 0.7232          \n",
            "         Neg Pred Value : 0.7551          \n",
            "             Prevalence : 0.5000          \n",
            "         Detection Rate : 0.3857          \n",
            "   Detection Prevalence : 0.5333          \n",
            "      Balanced Accuracy : 0.7381          \n",
            "                                          \n",
            "       'Positive' Class : 0               \n",
            "                                          \n"
          ]
        }
      ]
    },
    {
      "cell_type": "code",
      "source": [
        "%%R\n",
        "grid <- expand.grid(C = c(0,0.01, 0.05, 0.1, 0.25, 0.5, 0.75, 1, 1.25, 1.5, 1.75, 2,5))\n",
        "set.seed(3233)\n",
        "svm_Linear_Grid <- train(Outcome ~., data = training, method = \"svmLinear\",\n",
        "                    trControl=trctrl,\n",
        "                    preProcess = c(\"center\", \"scale\"),\n",
        "                    tuneGrid = grid,\n",
        "                    tuneLength = 10)\n",
        " \n",
        "svm_Linear_Grid\n"
      ],
      "metadata": {
        "colab": {
          "base_uri": "https://localhost:8080/"
        },
        "id": "tujPwG0qXQX8",
        "outputId": "477dad12-b451-4dfd-96d5-cd191ae5df16"
      },
      "execution_count": 95,
      "outputs": [
        {
          "output_type": "stream",
          "name": "stdout",
          "text": [
            "Support Vector Machines with Linear Kernel \n",
            "\n",
            "490 samples\n",
            "  8 predictor\n",
            "  2 classes: '0', '1' \n",
            "\n",
            "Pre-processing: centered (8), scaled (8) \n",
            "Resampling: Cross-Validated (10 fold, repeated 3 times) \n",
            "Summary of sample sizes: 442, 441, 440, 441, 442, 441, ... \n",
            "Resampling results across tuning parameters:\n",
            "\n",
            "  C     Accuracy   Kappa    \n",
            "  0.00        NaN        NaN\n",
            "  0.01  0.7668849  0.5333933\n",
            "  0.05  0.7649546  0.5296220\n",
            "  0.10  0.7648577  0.5294721\n",
            "  0.25  0.7661910  0.5321615\n",
            "  0.50  0.7676077  0.5349717\n",
            "  0.75  0.7642052  0.5281606\n",
            "  1.00  0.7641916  0.5281203\n",
            "  1.25  0.7648719  0.5294939\n",
            "  1.50  0.7648719  0.5294939\n",
            "  1.75  0.7648719  0.5294939\n",
            "  2.00  0.7648719  0.5294939\n",
            "  5.00  0.7648719  0.5294939\n",
            "\n",
            "Accuracy was used to select the optimal model using the largest value.\n",
            "The final value used for the model was C = 0.5.\n"
          ]
        }
      ]
    },
    {
      "cell_type": "code",
      "source": [
        "%%R\n",
        "plot(svm_Linear_Grid)"
      ],
      "metadata": {
        "colab": {
          "base_uri": "https://localhost:8080/",
          "height": 497
        },
        "id": "UH26ZTZvXVY7",
        "outputId": "1f1438f8-13bd-4d22-e309-ce3daceca87f"
      },
      "execution_count": 96,
      "outputs": [
        {
          "output_type": "display_data",
          "data": {
            "image/png": "[encoded data removed]"
          },
          "metadata": {}
        }
      ]
    },
    {
      "cell_type": "code",
      "source": [
        "%%R\n",
        "test_pred_grid <- predict(svm_Linear_Grid, newdata = testing)\n",
        "test_pred_grid"
      ],
      "metadata": {
        "colab": {
          "base_uri": "https://localhost:8080/"
        },
        "id": "ACR6WyhTXYYM",
        "outputId": "f65e75c8-e5a3-42a2-c089-a25dd987b938"
      },
      "execution_count": 97,
      "outputs": [
        {
          "output_type": "stream",
          "name": "stdout",
          "text": [
            "  [1] 1 1 0 0 1 0 0 0 1 0 0 0 0 1 0 0 0 1 1 0 0 0 0 0 0 0 1 1 1 0 0 0 1 0 0 0 1\n",
            " [38] 1 0 0 0 0 1 0 0 0 0 0 1 0 1 0 0 0 0 0 0 0 0 0 1 1 0 1 0 0 0 0 0 0 0 0 1 0\n",
            " [75] 0 0 0 0 0 1 0 1 0 0 0 0 0 1 0 0 0 0 1 0 0 0 0 0 0 0 0 0 0 0 0 1 1 0 1 1 1\n",
            "[112] 0 1 1 1 0 1 1 1 0 1 1 0 1 1 0 1 1 1 1 1 0 1 1 1 0 0 1 1 1 1 0 1 1 1 1 1 1\n",
            "[149] 1 1 1 1 1 0 0 1 1 1 0 1 0 1 1 1 1 1 1 0 1 1 0 0 0 0 1 1 1 0 1 0 1 0 0 1 1\n",
            "[186] 0 1 0 1 1 0 1 0 1 0 1 1 0 1 0 1 0 1 1 1 1 1 1 1 1\n",
            "Levels: 0 1\n"
          ]
        }
      ]
    },
    {
      "cell_type": "code",
      "source": [
        "%%R\n",
        "confusionMatrix(test_pred_grid,testing$Outcome )"
      ],
      "metadata": {
        "colab": {
          "base_uri": "https://localhost:8080/"
        },
        "id": "qjohmn51XZSL",
        "outputId": "fead4c51-3762-49ac-b944-ea9f9a49bb8d"
      },
      "execution_count": 98,
      "outputs": [
        {
          "output_type": "stream",
          "name": "stdout",
          "text": [
            "Confusion Matrix and Statistics\n",
            "\n",
            "          Reference\n",
            "Prediction  0  1\n",
            "         0 81 31\n",
            "         1 24 74\n",
            "                                          \n",
            "               Accuracy : 0.7381          \n",
            "                 95% CI : (0.6731, 0.7962)\n",
            "    No Information Rate : 0.5             \n",
            "    P-Value [Acc > NIR] : 1.622e-12       \n",
            "                                          \n",
            "                  Kappa : 0.4762          \n",
            "                                          \n",
            " Mcnemar's Test P-Value : 0.4185          \n",
            "                                          \n",
            "            Sensitivity : 0.7714          \n",
            "            Specificity : 0.7048          \n",
            "         Pos Pred Value : 0.7232          \n",
            "         Neg Pred Value : 0.7551          \n",
            "             Prevalence : 0.5000          \n",
            "         Detection Rate : 0.3857          \n",
            "   Detection Prevalence : 0.5333          \n",
            "      Balanced Accuracy : 0.7381          \n",
            "                                          \n",
            "       'Positive' Class : 0               \n",
            "                                          \n"
          ]
        }
      ]
    },
    {
      "cell_type": "code",
      "source": [
        "%%R\n",
        "set.seed(3233)\n",
        "svm_Radial <- train(Outcome ~., data = training, method = \"svmRadial\",\n",
        "  trControl=trctrl,\n",
        "  preProcess = c(\"center\", \"scale\"),\n",
        "  tuneLength = 10)\n",
        "svm_Radial"
      ],
      "metadata": {
        "colab": {
          "base_uri": "https://localhost:8080/"
        },
        "id": "ow30X--UXdpD",
        "outputId": "cee60449-59b9-45f2-85e1-b3db7355296c"
      },
      "execution_count": 99,
      "outputs": [
        {
          "output_type": "stream",
          "name": "stdout",
          "text": [
            "Support Vector Machines with Radial Basis Function Kernel \n",
            "\n",
            "490 samples\n",
            "  8 predictor\n",
            "  2 classes: '0', '1' \n",
            "\n",
            "Pre-processing: centered (8), scaled (8) \n",
            "Resampling: Cross-Validated (10 fold, repeated 3 times) \n",
            "Summary of sample sizes: 442, 441, 440, 441, 442, 441, ... \n",
            "Resampling results across tuning parameters:\n",
            "\n",
            "  C       Accuracy   Kappa    \n",
            "    0.25  0.7621468  0.5239959\n",
            "    0.50  0.7661315  0.5319804\n",
            "    1.00  0.7701871  0.5400933\n",
            "    2.00  0.7659938  0.5317657\n",
            "    4.00  0.7687568  0.5372508\n",
            "    8.00  0.7666610  0.5330877\n",
            "   16.00  0.7638832  0.5274974\n",
            "   32.00  0.7686740  0.5370793\n",
            "   64.00  0.7593016  0.5184308\n",
            "  128.00  0.7435249  0.4870200\n",
            "\n",
            "Tuning parameter 'sigma' was held constant at a value of 0.1309725\n",
            "Accuracy was used to select the optimal model using the largest value.\n",
            "The final values used for the model were sigma = 0.1309725 and C = 1.\n"
          ]
        }
      ]
    },
    {
      "cell_type": "code",
      "source": [
        "%%R\n",
        "plot(svm_Radial)\n"
      ],
      "metadata": {
        "colab": {
          "base_uri": "https://localhost:8080/",
          "height": 497
        },
        "id": "qq1BAzM9XgMs",
        "outputId": "0f5729af-5cfb-4a99-84b5-8c6bc8a1b8b8"
      },
      "execution_count": 100,
      "outputs": [
        {
          "output_type": "display_data",
          "data": {
            "image/png": "[encoded data removed]"
          },
          "metadata": {}
        }
      ]
    },
    {
      "cell_type": "code",
      "source": [
        "%%R\n",
        "test_pred_Radial <- predict(svm_Radial, newdata = testing)\n",
        "confusionMatrix(test_pred_Radial, testing$Outcome )"
      ],
      "metadata": {
        "colab": {
          "base_uri": "https://localhost:8080/"
        },
        "id": "dps81LfCXiRT",
        "outputId": "29c84c80-8b20-4c36-8c2a-30bee534973a"
      },
      "execution_count": 101,
      "outputs": [
        {
          "output_type": "stream",
          "name": "stdout",
          "text": [
            "Confusion Matrix and Statistics\n",
            "\n",
            "          Reference\n",
            "Prediction  0  1\n",
            "         0 81 25\n",
            "         1 24 80\n",
            "                                          \n",
            "               Accuracy : 0.7667          \n",
            "                 95% CI : (0.7035, 0.8221)\n",
            "    No Information Rate : 0.5             \n",
            "    P-Value [Acc > NIR] : 1.987e-15       \n",
            "                                          \n",
            "                  Kappa : 0.5333          \n",
            "                                          \n",
            " Mcnemar's Test P-Value : 1               \n",
            "                                          \n",
            "            Sensitivity : 0.7714          \n",
            "            Specificity : 0.7619          \n",
            "         Pos Pred Value : 0.7642          \n",
            "         Neg Pred Value : 0.7692          \n",
            "             Prevalence : 0.5000          \n",
            "         Detection Rate : 0.3857          \n",
            "   Detection Prevalence : 0.5048          \n",
            "      Balanced Accuracy : 0.7667          \n",
            "                                          \n",
            "       'Positive' Class : 0               \n",
            "                                          \n"
          ]
        }
      ]
    },
    {
      "cell_type": "code",
      "source": [
        "%%R\n",
        "grid_radial <- expand.grid(sigma = c(0,0.01, 0.02, 0.025, 0.03, 0.04,\n",
        " 0.05, 0.06, 0.07,0.08, 0.09, 0.1, 0.25, 0.5, 0.75,0.9),\n",
        " C = c(0,0.01, 0.05, 0.1, 0.25, 0.5, 0.75,\n",
        " 1, 1.5, 2,5))\n",
        "set.seed(3233)\n",
        "svm_Radial_Grid <- train(Outcome ~., data = training, method = \"svmRadial\",\n",
        "                    trControl=trctrl,\n",
        "                    preProcess = c(\"center\", \"scale\"),\n",
        "                    tuneGrid = grid_radial,\n",
        "                    tuneLength = 10)"
      ],
      "metadata": {
        "id": "CeUvxb8TYWu8"
      },
      "execution_count": 104,
      "outputs": []
    },
    {
      "cell_type": "code",
      "source": [
        "%%R\n",
        "plot(svm_Radial_Grid)"
      ],
      "metadata": {
        "colab": {
          "base_uri": "https://localhost:8080/",
          "height": 497
        },
        "id": "bUxrW4HDXtKD",
        "outputId": "905d59bd-3691-4bd3-a333-8ece76bcba03"
      },
      "execution_count": 105,
      "outputs": [
        {
          "output_type": "display_data",
          "data": {
            "image/png": "[encoded data removed]"
          },
          "metadata": {}
        }
      ]
    },
    {
      "cell_type": "code",
      "source": [
        "%%R\n",
        " svm_Radial_Grid"
      ],
      "metadata": {
        "colab": {
          "base_uri": "https://localhost:8080/"
        },
        "id": "juFWSlbYZOjU",
        "outputId": "4b20d7d0-70ba-460e-8b88-877aef223946"
      },
      "execution_count": 107,
      "outputs": [
        {
          "output_type": "stream",
          "name": "stdout",
          "text": [
            "Support Vector Machines with Radial Basis Function Kernel \n",
            "\n",
            "490 samples\n",
            "  8 predictor\n",
            "  2 classes: '0', '1' \n",
            "\n",
            "Pre-processing: centered (8), scaled (8) \n",
            "Resampling: Cross-Validated (10 fold, repeated 3 times) \n",
            "Summary of sample sizes: 442, 441, 440, 441, 442, 441, ... \n",
            "Resampling results across tuning parameters:\n",
            "\n",
            "  sigma  C     Accuracy   Kappa     \n",
            "  0.000  0.00        NaN         NaN\n",
            "  0.000  0.01  0.4945578  0.00000000\n",
            "  0.000  0.05  0.4945578  0.00000000\n",
            "  0.000  0.10  0.4945578  0.00000000\n",
            "  0.000  0.25  0.4945578  0.00000000\n",
            "  0.000  0.50  0.4945578  0.00000000\n",
            "  0.000  0.75  0.4945578  0.00000000\n",
            "  0.000  1.00  0.4945578  0.00000000\n",
            "  0.000  1.50  0.4945578  0.00000000\n",
            "  0.000  2.00  0.4945578  0.00000000\n",
            "  0.000  5.00  0.4945578  0.00000000\n",
            "  0.010  0.00        NaN         NaN\n",
            "  0.010  0.01  0.6028078  0.21650000\n",
            "  0.010  0.05  0.7415833  0.48373642\n",
            "  0.010  0.10  0.7443339  0.48835271\n",
            "  0.010  0.25  0.7601077  0.51983119\n",
            "  0.010  0.50  0.7641774  0.52796202\n",
            "  0.010  0.75  0.7682313  0.53610043\n",
            "  0.010  1.00  0.7682313  0.53607319\n",
            "  0.010  1.50  0.7709252  0.54148442\n",
            "  0.010  2.00  0.7695918  0.53888625\n",
            "  0.010  5.00  0.7695782  0.53880700\n",
            "  0.020  0.00        NaN         NaN\n",
            "  0.020  0.01  0.6055578  0.22200000\n",
            "  0.020  0.05  0.7436808  0.48705734\n",
            "  0.020  0.10  0.7546786  0.50907879\n",
            "  0.020  0.25  0.7580675  0.51574654\n",
            "  0.020  0.50  0.7695641  0.53875329\n",
            "  0.020  0.75  0.7702857  0.54023649\n",
            "  0.020  1.00  0.7702302  0.54012557\n",
            "  0.020  1.50  0.7694949  0.53866120\n",
            "  0.020  2.00  0.7654388  0.53052957\n",
            "  0.020  5.00  0.7586769  0.51702284\n",
            "  0.025  0.00        NaN         NaN\n",
            "  0.025  0.01  0.6042800  0.21944444\n",
            "  0.025  0.05  0.7465000  0.49269598\n",
            "  0.025  0.10  0.7567200  0.51307673\n",
            "  0.025  0.25  0.7601361  0.51987524\n",
            "  0.025  0.50  0.7661480  0.53190405\n",
            "  0.025  0.75  0.7688690  0.53737844\n",
            "  0.025  1.00  0.7708543  0.54135643\n",
            "  0.025  1.50  0.7661327  0.53195235\n",
            "  0.025  2.00  0.7661468  0.53195608\n",
            "  0.025  5.00  0.7627171  0.52504559\n",
            "  0.030  0.00        NaN         NaN\n",
            "  0.030  0.01  0.6036412  0.21816667\n",
            "  0.030  0.05  0.7492636  0.49823385\n",
            "  0.030  0.10  0.7574002  0.51445030\n",
            "  0.030  0.25  0.7608027  0.52122271\n",
            "  0.030  0.50  0.7688968  0.53747926\n",
            "  0.030  0.75  0.7688407  0.53729108\n",
            "  0.030  1.00  0.7702018  0.54005850\n",
            "  0.030  1.50  0.7661604  0.53200782\n",
            "  0.030  2.00  0.7647857  0.52922006\n",
            "  0.030  5.00  0.7613566  0.52235327\n",
            "  0.040  0.00        NaN         NaN\n",
            "  0.040  0.01  0.6036134  0.21811111\n",
            "  0.040  0.05  0.7499303  0.49970407\n",
            "  0.040  0.10  0.7601497  0.51998922\n",
            "  0.040  0.25  0.7607738  0.52117630\n",
            "  0.040  0.50  0.7689099  0.53745161\n",
            "  0.040  0.75  0.7668271  0.53326457\n",
            "  0.040  1.00  0.7654671  0.53058482\n",
            "  0.040  1.50  0.7689235  0.53749377\n",
            "  0.040  2.00  0.7640777  0.52778839\n",
            "  0.040  5.00  0.7538435  0.50728986\n",
            "  0.050  0.00        NaN         NaN\n",
            "  0.050  0.01  0.6077523  0.22638889\n",
            "  0.050  0.05  0.7519427  0.50374627\n",
            "  0.050  0.10  0.7567477  0.51319838\n",
            "  0.050  0.25  0.7635085  0.52663613\n",
            "  0.050  0.50  0.7688821  0.53738706\n",
            "  0.050  0.75  0.7654943  0.53067917\n",
            "  0.050  1.00  0.7688685  0.53738467\n",
            "  0.050  1.50  0.7655079  0.53067827\n",
            "  0.050  2.00  0.7634252  0.52646835\n",
            "  0.050  5.00  0.7572449  0.51429068\n",
            "  0.060  0.00        NaN         NaN\n",
            "  0.060  0.01  0.6063912  0.22366667\n",
            "  0.060  0.05  0.7437920  0.48736581\n",
            "  0.060  0.10  0.7539700  0.50761324\n",
            "  0.060  0.25  0.7649110  0.52944730\n",
            "  0.060  0.50  0.7702432  0.54008205\n",
            "  0.060  0.75  0.7662024  0.53209969\n",
            "  0.060  1.00  0.7668407  0.53338371\n",
            "  0.060  1.50  0.7641610  0.52795309\n",
            "  0.060  2.00  0.7640777  0.52778379\n",
            "  0.060  5.00  0.7605499  0.52082906\n",
            "  0.070  0.00        NaN         NaN\n",
            "  0.070  0.01  0.6070856  0.22505556\n",
            "  0.070  0.05  0.7404320  0.48058452\n",
            "  0.070  0.10  0.7519700  0.50357668\n",
            "  0.070  0.25  0.7676190  0.53488782\n",
            "  0.070  0.50  0.7702290  0.54011479\n",
            "  0.070  0.75  0.7682149  0.53615099\n",
            "  0.070  1.00  0.7654802  0.53059985\n",
            "  0.070  1.50  0.7647993  0.52923291\n",
            "  0.070  2.00  0.7606746  0.52107269\n",
            "  0.070  5.00  0.7639654  0.52774622\n",
            "  0.080  0.00        NaN         NaN\n",
            "  0.080  0.01  0.6056689  0.22222222\n",
            "  0.080  0.05  0.7370170  0.47367761\n",
            "  0.080  0.10  0.7451803  0.49001226\n",
            "  0.080  0.25  0.7662585  0.53219280\n",
            "  0.080  0.50  0.7681871  0.53603498\n",
            "  0.080  0.75  0.7682432  0.53619542\n",
            "  0.080  1.00  0.7647851  0.52921986\n",
            "  0.080  1.50  0.7661185  0.53192981\n",
            "  0.080  2.00  0.7620346  0.52381802\n",
            "  0.080  5.00  0.7639376  0.52767071\n",
            "  0.090  0.00        NaN         NaN\n",
            "  0.090  0.01  0.6070300  0.22494444\n",
            "  0.090  0.05  0.7329206  0.46550619\n",
            "  0.090  0.10  0.7410561  0.48184235\n",
            "  0.090  0.25  0.7669110  0.53355429\n",
            "  0.090  0.50  0.7674926  0.53467778\n",
            "  0.090  0.75  0.7654104  0.53053318\n",
            "  0.090  1.00  0.7661043  0.53194644\n",
            "  0.090  1.50  0.7627154  0.52513651\n",
            "  0.090  2.00  0.7653957  0.53055635\n",
            "  0.090  5.00  0.7639246  0.52764023\n",
            "  0.100  0.00        NaN         NaN\n",
            "  0.100  0.01  0.6049467  0.22077778\n",
            "  0.100  0.05  0.7329201  0.46553788\n",
            "  0.100  0.10  0.7390425  0.47783596\n",
            "  0.100  0.25  0.7668968  0.53349356\n",
            "  0.100  0.50  0.7668265  0.53336267\n",
            "  0.100  0.75  0.7654104  0.53053260\n",
            "  0.100  1.00  0.7674240  0.53457513\n",
            "  0.100  1.50  0.7641043  0.52794890\n",
            "  0.100  2.00  0.7626610  0.52507837\n",
            "  0.100  5.00  0.7660488  0.53189844\n",
            "  0.250  0.00        NaN         NaN\n",
            "  0.250  0.01  0.5845023  0.17988889\n",
            "  0.250  0.05  0.7028963  0.40563062\n",
            "  0.250  0.10  0.7212540  0.44220730\n",
            "  0.250  0.25  0.7410822  0.48183885\n",
            "  0.250  0.50  0.7627426  0.52518690\n",
            "  0.250  0.75  0.7702982  0.54029763\n",
            "  0.250  1.00  0.7743946  0.54845964\n",
            "  0.250  1.50  0.7770193  0.55374346\n",
            "  0.250  2.00  0.7776298  0.55495455\n",
            "  0.250  5.00  0.7680351  0.53589957\n",
            "  0.500  0.00        NaN         NaN\n",
            "  0.500  0.01  0.5593634  0.12961111\n",
            "  0.500  0.05  0.6539348  0.30795224\n",
            "  0.500  0.10  0.6973424  0.39433693\n",
            "  0.500  0.25  0.7239342  0.44765590\n",
            "  0.500  0.50  0.7552749  0.51022159\n",
            "  0.500  0.75  0.7707721  0.54122769\n",
            "  0.500  1.00  0.7795618  0.55882874\n",
            "  0.500  1.50  0.7797149  0.55925332\n",
            "  0.500  2.00  0.7831020  0.56610827\n",
            "  0.500  5.00  0.7673265  0.53461071\n",
            "  0.750  0.00        NaN         NaN\n",
            "  0.750  0.01  0.5458634  0.10261111\n",
            "  0.750  0.05  0.6132103  0.23183329\n",
            "  0.750  0.10  0.6498118  0.29911999\n",
            "  0.750  0.25  0.7021463  0.40415815\n",
            "  0.750  0.50  0.7416667  0.48304696\n",
            "  0.750  0.75  0.7673005  0.53446023\n",
            "  0.750  1.00  0.7849921  0.56981979\n",
            "  0.750  1.50  0.7836865  0.56737022\n",
            "  0.750  2.00  0.7796446  0.55925348\n",
            "  0.750  5.00  0.7734240  0.54676365\n",
            "  0.900  0.00        NaN         NaN\n",
            "  0.900  0.01  0.5424467  0.09577778\n",
            "  0.900  0.05  0.5472086  0.10492810\n",
            "  0.900  0.10  0.6186939  0.23728210\n",
            "  0.900  0.25  0.6783328  0.35649526\n",
            "  0.900  0.50  0.7348770  0.46956593\n",
            "  0.900  0.75  0.7639960  0.52777767\n",
            "  0.900  1.00  0.7822988  0.56450325\n",
            "  0.900  1.50  0.7857120  0.57131841\n",
            "  0.900  2.00  0.7742154  0.54831602\n",
            "  0.900  5.00  0.7748413  0.54954633\n",
            "\n",
            "Accuracy was used to select the optimal model using the largest value.\n",
            "The final values used for the model were sigma = 0.9 and C = 1.5.\n"
          ]
        }
      ]
    },
    {
      "cell_type": "code",
      "source": [
        "%%R\n",
        "test_pred_Radial_Grid <- predict(svm_Radial_Grid, newdata = testing)\n",
        "confusionMatrix(test_pred_Radial_Grid, testing$Outcome)"
      ],
      "metadata": {
        "colab": {
          "base_uri": "https://localhost:8080/"
        },
        "id": "OKelsMI4XwZK",
        "outputId": "47a3322d-7ac6-4ef7-a30e-693cc97435c9"
      },
      "execution_count": 106,
      "outputs": [
        {
          "output_type": "stream",
          "name": "stdout",
          "text": [
            "Confusion Matrix and Statistics\n",
            "\n",
            "          Reference\n",
            "Prediction  0  1\n",
            "         0 83 15\n",
            "         1 22 90\n",
            "                                          \n",
            "               Accuracy : 0.8238          \n",
            "                 95% CI : (0.7654, 0.8728)\n",
            "    No Information Rate : 0.5             \n",
            "    P-Value [Acc > NIR] : <2e-16          \n",
            "                                          \n",
            "                  Kappa : 0.6476          \n",
            "                                          \n",
            " Mcnemar's Test P-Value : 0.3239          \n",
            "                                          \n",
            "            Sensitivity : 0.7905          \n",
            "            Specificity : 0.8571          \n",
            "         Pos Pred Value : 0.8469          \n",
            "         Neg Pred Value : 0.8036          \n",
            "             Prevalence : 0.5000          \n",
            "         Detection Rate : 0.3952          \n",
            "   Detection Prevalence : 0.4667          \n",
            "      Balanced Accuracy : 0.8238          \n",
            "                                          \n",
            "       'Positive' Class : 0               \n",
            "                                          \n"
          ]
        }
      ]
    }
  ],
  "metadata": {
    "colab": {
      "name": "data_cp1.ipynb",
      "provenance": [],
      "mount_file_id": "1yL2lBpsR3pjMqgnBvLuFy_nFZkL-C_uL",
      "authorship_tag": "ABX9TyOlLU58WeZTiLYajV9sxktv",
      "include_colab_link": true
    },
    "kernelspec": {
      "display_name": "Python 3",
      "name": "python3"
    },
    "language_info": {
      "name": "python"
    }
  },
  "nbformat": 4,
  "nbformat_minor": 0
}
