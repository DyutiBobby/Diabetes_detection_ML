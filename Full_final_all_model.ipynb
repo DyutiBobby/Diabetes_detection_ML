{
  "nbformat": 4,
  "nbformat_minor": 0,
  "metadata": {
    "colab": {
      "name": "DS_CP_ALL_Models.ipynb",
      "provenance": [],
      "collapsed_sections": []
    },
    "kernelspec": {
      "name": "python3",
      "display_name": "Python 3"
    },
    "language_info": {
      "name": "python"
    },
    "accelerator": "GPU"
  },
  "cells": [
    {
      "cell_type": "code",
      "execution_count": 26,
      "metadata": {
        "colab": {
          "base_uri": "https://localhost:8080/"
        },
        "id": "Tidsguq29CEl",
        "outputId": "7ff425d5-22bc-4185-9f3a-8047ad49e89d"
      },
      "outputs": [
        {
          "output_type": "stream",
          "name": "stdout",
          "text": [
            "Drive already mounted at /content/gdrive; to attempt to forcibly remount, call drive.mount(\"/content/gdrive\", force_remount=True).\n"
          ]
        }
      ],
      "source": [
        "from google.colab import drive\n",
        "drive.mount(\"/content/gdrive\")"
      ]
    },
    {
      "cell_type": "code",
      "source": [
        "%load_ext rpy2.ipython"
      ],
      "metadata": {
        "id": "oSIYXqZf9rt7"
      },
      "execution_count": null,
      "outputs": []
    },
    {
      "cell_type": "code",
      "source": [
        "%%R\n",
        "# install.packages(\"dplyr\") \n",
        "# install.packages(\"ggplot2\") \n",
        "# install.packages(\"caret\") \n",
        "# install.packages(\"e1071\") \n",
        "# install.packages(\"cowplot\") \n",
        "# install.packages(\"Matrix\")\n",
        "# install.packages(\"magrittr\")\n",
        "# install.packages(\"glmnet\", dependencies=TRUE)\n",
        "# install.packages(\"groupdata2\")\n",
        "# install.packages(\"randomForest\")\n",
        "# install.packages(\"data.table\")   \n",
        "# install.packages(\"class\")\n",
        "# install.packages(\"caTools\")\n",
        "# install.packages(\"mlbench\")\n",
        "# install.packages(\"pROC\")\n",
        "# install.packages(\"ROCR\")\n",
        "# install.packages(\"tidyverse\")\n",
        "# install.packages(\"xgboost\")\n",
        "# tar(\"libraryrf.tar.gz\", \"/usr/local/lib/R/site-library\")"
      ],
      "metadata": {
        "id": "rkayDyaK_JOU",
        "colab": {
          "base_uri": "https://localhost:8080/"
        },
        "outputId": "526ed443-18a3-4984-cbd6-f6546097a190"
      },
      "execution_count": null,
      "outputs": [
        {
          "output_type": "stream",
          "name": "stderr",
          "text": [
            "R[write to console]: Installing package into ‘/content/usr/local/lib/R/site-library’\n",
            "(as ‘lib’ is unspecified)\n",
            "\n",
            "R[write to console]: trying URL 'https://cran.rstudio.com/src/contrib/xgboost_1.5.0.2.tar.gz'\n",
            "\n",
            "R[write to console]: Content type 'application/x-gzip'\n",
            "R[write to console]:  length 1001991 bytes (978 KB)\n",
            "\n",
            "R[write to console]: =\n",
            "R[write to console]: =\n",
            "R[write to console]: =\n",
            "R[write to console]: =\n",
            "R[write to console]: =\n",
            "R[write to console]: =\n",
            "R[write to console]: =\n",
            "R[write to console]: =\n",
            "R[write to console]: =\n",
            "R[write to console]: =\n",
            "R[write to console]: =\n",
            "R[write to console]: =\n",
            "R[write to console]: =\n",
            "R[write to console]: =\n",
            "R[write to console]: =\n",
            "R[write to console]: =\n",
            "R[write to console]: =\n",
            "R[write to console]: =\n",
            "R[write to console]: =\n",
            "R[write to console]: =\n",
            "R[write to console]: =\n",
            "R[write to console]: =\n",
            "R[write to console]: =\n",
            "R[write to console]: =\n",
            "R[write to console]: =\n",
            "R[write to console]: =\n",
            "R[write to console]: =\n",
            "R[write to console]: =\n",
            "R[write to console]: =\n",
            "R[write to console]: =\n",
            "R[write to console]: =\n",
            "R[write to console]: =\n",
            "R[write to console]: =\n",
            "R[write to console]: =\n",
            "R[write to console]: =\n",
            "R[write to console]: =\n",
            "R[write to console]: =\n",
            "R[write to console]: =\n",
            "R[write to console]: =\n",
            "R[write to console]: =\n",
            "R[write to console]: =\n",
            "R[write to console]: =\n",
            "R[write to console]: =\n",
            "R[write to console]: =\n",
            "R[write to console]: =\n",
            "R[write to console]: =\n",
            "R[write to console]: =\n",
            "R[write to console]: =\n",
            "R[write to console]: =\n",
            "R[write to console]: =\n",
            "R[write to console]: \n",
            "\n",
            "R[write to console]: downloaded 978 KB\n",
            "\n",
            "\n",
            "R[write to console]: \n",
            "\n",
            "R[write to console]: \n",
            "R[write to console]: The downloaded source packages are in\n",
            "\t‘/tmp/RtmphFgk9i/downloaded_packages’\n",
            "R[write to console]: \n",
            "R[write to console]: \n",
            "\n"
          ]
        }
      ]
    },
    {
      "cell_type": "code",
      "source": [
        "# %cp libraryrf.tar.gz gdrive/MyDrive"
      ],
      "metadata": {
        "id": "1wdCNqhnJTC7"
      },
      "execution_count": null,
      "outputs": []
    },
    {
      "cell_type": "code",
      "source": [
        "%cp gdrive/MyDrive/libraryrf.tar.gz ."
      ],
      "metadata": {
        "id": "TXEQ-wVb9uUS"
      },
      "execution_count": null,
      "outputs": []
    },
    {
      "cell_type": "code",
      "source": [
        "!tar xf libraryrf.tar.gz"
      ],
      "metadata": {
        "colab": {
          "base_uri": "https://localhost:8080/"
        },
        "id": "euW-Ukfe9xG6",
        "outputId": "fc265b35-7194-4c56-d43a-d13a14c48b90"
      },
      "execution_count": null,
      "outputs": [
        {
          "output_type": "stream",
          "name": "stdout",
          "text": [
            "tar: Removing leading `/' from member names\n"
          ]
        }
      ]
    },
    {
      "cell_type": "code",
      "source": [
        "%%R\n",
        ".libPaths('usr/local/lib/R/site-library/')"
      ],
      "metadata": {
        "id": "mtTY-rTa90iy"
      },
      "execution_count": null,
      "outputs": []
    },
    {
      "cell_type": "code",
      "source": [
        "%%R\n",
        "library(data.table) \n",
        "library(ggplot2)  \n",
        "library(caret)        \n",
        "library(e1071)      \n",
        "library(cowplot)    \n",
        "library(Matrix)\n",
        "library(magrittr)\n",
        "#library(glmnet)\n",
        "library(groupdata2)\n",
        "library(class)\n",
        "library(randomForest)\n",
        "library(caTools)\n",
        "library(mlbench)\n",
        "library(pROC)\n",
        "library(ROCR)\n",
        "library(tidyverse)\n",
        "#library(xgboost)"
      ],
      "metadata": {
        "id": "VRvzaLUK926o"
      },
      "execution_count": null,
      "outputs": []
    },
    {
      "cell_type": "markdown",
      "source": [
        "#Random Forest"
      ],
      "metadata": {
        "id": "MHKp8tXFXSVy"
      }
    },
    {
      "cell_type": "code",
      "source": [
        "%%R\n",
        "data = read.csv(\"/content/gdrive/MyDrive/Data_science/DS_CP/diabetes.csv\")"
      ],
      "metadata": {
        "id": "Wo3pYf-dZOfH"
      },
      "execution_count": 40,
      "outputs": []
    },
    {
      "cell_type": "code",
      "source": [
        "%%R\n",
        "plot(data)"
      ],
      "metadata": {
        "colab": {
          "base_uri": "https://localhost:8080/",
          "height": 497
        },
        "id": "Wub1T8wOj6du",
        "outputId": "4eaac304-0705-4764-fd52-1f54ae5367bf"
      },
      "execution_count": 41,
      "outputs": [
        {
          "output_type": "display_data",
          "data": {
            "image/png": "[encoded data removed]"
          },
          "metadata": {}
        }
      ]
    },
    {
      "cell_type": "code",
      "source": [
        "import pandas as pd\n",
        "import matplotlib.pyplot as plt\n",
        "import seaborn as sns\n",
        "df = pd.read_csv(\"/content/gdrive/MyDrive/Data_science/DS_CP/diabetes.csv\")\n",
        "df.hist()"
      ],
      "metadata": {
        "colab": {
          "base_uri": "https://localhost:8080/",
          "height": 455
        },
        "id": "m4PyYnaFp_Oh",
        "outputId": "d7480a1c-c377-48ed-c31e-cc1a9d66600f"
      },
      "execution_count": 43,
      "outputs": [
        {
          "output_type": "execute_result",
          "data": {
            "text/plain": [
              "array([[<matplotlib.axes._subplots.AxesSubplot object at 0x7f0983b00b90>,\n",
              "        <matplotlib.axes._subplots.AxesSubplot object at 0x7f0983271f50>,\n",
              "        <matplotlib.axes._subplots.AxesSubplot object at 0x7f0983237550>],\n",
              "       [<matplotlib.axes._subplots.AxesSubplot object at 0x7f09831ecb50>,\n",
              "        <matplotlib.axes._subplots.AxesSubplot object at 0x7f09831af190>,\n",
              "        <matplotlib.axes._subplots.AxesSubplot object at 0x7f0983163790>],\n",
              "       [<matplotlib.axes._subplots.AxesSubplot object at 0x7f098311ae10>,\n",
              "        <matplotlib.axes._subplots.AxesSubplot object at 0x7f09830de390>,\n",
              "        <matplotlib.axes._subplots.AxesSubplot object at 0x7f09830de3d0>]],\n",
              "      dtype=object)"
            ]
          },
          "metadata": {},
          "execution_count": 43
        },
        {
          "output_type": "display_data",
          "data": {
            "image/png": "[encoded data removed]",
            "text/plain": [
              "<Figure size 432x288 with 9 Axes>"
            ]
          },
          "metadata": {
            "needs_background": "light"
          }
        }
      ]
    },
    {
      "cell_type": "code",
      "source": [
        "%%R\n",
        "print(summary(data))\n",
        "print(str(data))"
      ],
      "metadata": {
        "colab": {
          "base_uri": "https://localhost:8080/"
        },
        "id": "s89G6ObzLxiV",
        "outputId": "b13d9edf-631c-4d86-f50e-fabf63a36825"
      },
      "execution_count": 44,
      "outputs": [
        {
          "output_type": "stream",
          "name": "stdout",
          "text": [
            "  Pregnancies        Glucose      BloodPressure    SkinThickness  \n",
            " Min.   : 0.000   Min.   :  0.0   Min.   :  0.00   Min.   : 0.00  \n",
            " 1st Qu.: 1.000   1st Qu.: 99.0   1st Qu.: 62.00   1st Qu.: 0.00  \n",
            " Median : 3.000   Median :117.0   Median : 72.00   Median :23.00  \n",
            " Mean   : 3.845   Mean   :120.9   Mean   : 69.11   Mean   :20.54  \n",
            " 3rd Qu.: 6.000   3rd Qu.:140.2   3rd Qu.: 80.00   3rd Qu.:32.00  \n",
            " Max.   :17.000   Max.   :199.0   Max.   :122.00   Max.   :99.00  \n",
            "    Insulin           BMI        DiabetesPedigreeFunction      Age       \n",
            " Min.   :  0.0   Min.   : 0.00   Min.   :0.0780           Min.   :21.00  \n",
            " 1st Qu.:  0.0   1st Qu.:27.30   1st Qu.:0.2437           1st Qu.:24.00  \n",
            " Median : 30.5   Median :32.00   Median :0.3725           Median :29.00  \n",
            " Mean   : 79.8   Mean   :31.99   Mean   :0.4719           Mean   :33.24  \n",
            " 3rd Qu.:127.2   3rd Qu.:36.60   3rd Qu.:0.6262           3rd Qu.:41.00  \n",
            " Max.   :846.0   Max.   :67.10   Max.   :2.4200           Max.   :81.00  \n",
            "    Outcome     \n",
            " Min.   :0.000  \n",
            " 1st Qu.:0.000  \n",
            " Median :0.000  \n",
            " Mean   :0.349  \n",
            " 3rd Qu.:1.000  \n",
            " Max.   :1.000  \n",
            "'data.frame':\t768 obs. of  9 variables:\n",
            " $ Pregnancies             : int  6 1 8 1 0 5 3 10 2 8 ...\n",
            " $ Glucose                 : int  148 85 183 89 137 116 78 115 197 125 ...\n",
            " $ BloodPressure           : int  72 66 64 66 40 74 50 0 70 96 ...\n",
            " $ SkinThickness           : int  35 29 0 23 35 0 32 0 45 0 ...\n",
            " $ Insulin                 : int  0 0 0 94 168 0 88 0 543 0 ...\n",
            " $ BMI                     : num  33.6 26.6 23.3 28.1 43.1 25.6 31 35.3 30.5 0 ...\n",
            " $ DiabetesPedigreeFunction: num  0.627 0.351 0.672 0.167 2.288 ...\n",
            " $ Age                     : int  50 31 32 21 33 30 26 29 53 54 ...\n",
            " $ Outcome                 : int  1 0 1 0 1 0 1 0 1 1 ...\n",
            "NULL\n"
          ]
        }
      ]
    },
    {
      "cell_type": "code",
      "source": [
        "%%R\n",
        "sapply(data, function(x) sum(is.na(x)))"
      ],
      "metadata": {
        "colab": {
          "base_uri": "https://localhost:8080/"
        },
        "id": "rcLapdPrLxf5",
        "outputId": "6c0b69d7-6ab9-4e18-f427-3c3772772c21"
      },
      "execution_count": 45,
      "outputs": [
        {
          "output_type": "stream",
          "name": "stdout",
          "text": [
            "             Pregnancies                  Glucose            BloodPressure \n",
            "                       0                        0                        0 \n",
            "           SkinThickness                  Insulin                      BMI \n",
            "                       0                        0                        0 \n",
            "DiabetesPedigreeFunction                      Age                  Outcome \n",
            "                       0                        0                        0 \n"
          ]
        }
      ]
    },
    {
      "cell_type": "code",
      "source": [
        "%%R\n",
        "data$Outcome <- as.factor(data$Outcome)\n",
        "table(data$Outcome)"
      ],
      "metadata": {
        "colab": {
          "base_uri": "https://localhost:8080/"
        },
        "id": "YA1Y9iQZLxeG",
        "outputId": "5cde598b-c667-4538-e8a1-cfe93a12bcd1"
      },
      "execution_count": 46,
      "outputs": [
        {
          "output_type": "stream",
          "name": "stdout",
          "text": [
            "\n",
            "  0   1 \n",
            "500 268 \n"
          ]
        }
      ]
    },
    {
      "cell_type": "code",
      "source": [
        "%%R\n",
        "data<-upsample(\n",
        "  data,\n",
        "  cat_col= \"Outcome\",\n",
        "  id_col = NULL,\n",
        "  id_method = \"n_ids\",\n",
        "  mark_new_rows = FALSE\n",
        ")\n",
        "print(table(data$Outcome))\n"
      ],
      "metadata": {
        "colab": {
          "base_uri": "https://localhost:8080/"
        },
        "id": "Fk-xdkhuLxby",
        "outputId": "6ce800c2-6be2-470b-a40a-998c51414aad"
      },
      "execution_count": 47,
      "outputs": [
        {
          "output_type": "stream",
          "name": "stdout",
          "text": [
            "\n",
            "  0   1 \n",
            "500 500 \n"
          ]
        }
      ]
    },
    {
      "cell_type": "code",
      "source": [
        "%%R\n",
        "set.seed(222)\n",
        "ind <- sample(2, nrow(data), replace = TRUE,prob = c(0.8,0.2))\n",
        "train <- data[ind==1,]\n",
        "test <- data[ind==2,]"
      ],
      "metadata": {
        "id": "lzYzsgUpLxZF"
      },
      "execution_count": 48,
      "outputs": []
    },
    {
      "cell_type": "code",
      "source": [
        "%%R\n",
        "set.seed(122)\n",
        "rf <- randomForest(Outcome~., data = train,\n",
        "                   ntree = 550, \n",
        "                   mtry = 2,\n",
        "                   importance = TRUE,\n",
        "                   proximity = TRUE)"
      ],
      "metadata": {
        "id": "i_25v9YqLxV1"
      },
      "execution_count": 49,
      "outputs": []
    },
    {
      "cell_type": "code",
      "source": [
        "%%R\n",
        "plot(rf)"
      ],
      "metadata": {
        "colab": {
          "base_uri": "https://localhost:8080/",
          "height": 497
        },
        "id": "VkdKIV58e_BN",
        "outputId": "11c9bc09-0806-4fb6-ec2f-2bdc3441e158"
      },
      "execution_count": 50,
      "outputs": [
        {
          "output_type": "display_data",
          "data": {
            "image/png": "[encoded data removed]"
          },
          "metadata": {}
        }
      ]
    },
    {
      "cell_type": "code",
      "source": [
        "%%R\n",
        "p1 <- predict(rf,train)\n",
        "confusionMatrix(p1, train$Outcome)"
      ],
      "metadata": {
        "colab": {
          "base_uri": "https://localhost:8080/"
        },
        "id": "B8osZ81cL0tN",
        "outputId": "2127fb72-c8f6-4f06-ff01-0fb4314dfb58"
      },
      "execution_count": 51,
      "outputs": [
        {
          "output_type": "stream",
          "name": "stdout",
          "text": [
            "Confusion Matrix and Statistics\n",
            "\n",
            "          Reference\n",
            "Prediction   0   1\n",
            "         0 413   0\n",
            "         1   0 404\n",
            "                                     \n",
            "               Accuracy : 1          \n",
            "                 95% CI : (0.9955, 1)\n",
            "    No Information Rate : 0.5055     \n",
            "    P-Value [Acc > NIR] : < 2.2e-16  \n",
            "                                     \n",
            "                  Kappa : 1          \n",
            "                                     \n",
            " Mcnemar's Test P-Value : NA         \n",
            "                                     \n",
            "            Sensitivity : 1.0000     \n",
            "            Specificity : 1.0000     \n",
            "         Pos Pred Value : 1.0000     \n",
            "         Neg Pred Value : 1.0000     \n",
            "             Prevalence : 0.5055     \n",
            "         Detection Rate : 0.5055     \n",
            "   Detection Prevalence : 0.5055     \n",
            "      Balanced Accuracy : 1.0000     \n",
            "                                     \n",
            "       'Positive' Class : 0          \n",
            "                                     \n"
          ]
        }
      ]
    },
    {
      "cell_type": "code",
      "source": [
        "%%R\n",
        "p2 <- predict(rf,test)\n",
        "cm = confusionMatrix(p2, test$Outcome)\n",
        "print(cm)"
      ],
      "metadata": {
        "id": "RE-30stIL1a1",
        "colab": {
          "base_uri": "https://localhost:8080/"
        },
        "outputId": "fd8e8d3d-bb04-49e6-a2e8-e94050416a1a"
      },
      "execution_count": 52,
      "outputs": [
        {
          "output_type": "stream",
          "name": "stdout",
          "text": [
            "Confusion Matrix and Statistics\n",
            "\n",
            "          Reference\n",
            "Prediction  0  1\n",
            "         0 74  3\n",
            "         1 13 93\n",
            "                                          \n",
            "               Accuracy : 0.9126          \n",
            "                 95% CI : (0.8619, 0.9492)\n",
            "    No Information Rate : 0.5246          \n",
            "    P-Value [Acc > NIR] : < 2e-16         \n",
            "                                          \n",
            "                  Kappa : 0.8238          \n",
            "                                          \n",
            " Mcnemar's Test P-Value : 0.02445         \n",
            "                                          \n",
            "            Sensitivity : 0.8506          \n",
            "            Specificity : 0.9688          \n",
            "         Pos Pred Value : 0.9610          \n",
            "         Neg Pred Value : 0.8774          \n",
            "             Prevalence : 0.4754          \n",
            "         Detection Rate : 0.4044          \n",
            "   Detection Prevalence : 0.4208          \n",
            "      Balanced Accuracy : 0.9097          \n",
            "                                          \n",
            "       'Positive' Class : 0               \n",
            "                                          \n"
          ]
        }
      ]
    },
    {
      "cell_type": "code",
      "source": [
        "%%R\n",
        "ctable <- as.table(matrix(c(74, 3, 13, 93), nrow = 2, byrow = TRUE))"
      ],
      "metadata": {
        "id": "vDTIFJPLhHib"
      },
      "execution_count": 53,
      "outputs": []
    },
    {
      "cell_type": "code",
      "source": [
        "%%R\n",
        "fourfoldplot(ctable, color = c(\"cyan\", \"pink\"),\n",
        "             conf.level = 0, margin = 1, main = \"Confusion Matrix\")"
      ],
      "metadata": {
        "colab": {
          "base_uri": "https://localhost:8080/",
          "height": 497
        },
        "id": "Xt3Mlto-gFJt",
        "outputId": "aee17edf-5ef8-4b08-d270-268cb000b6c6"
      },
      "execution_count": 54,
      "outputs": [
        {
          "output_type": "display_data",
          "data": {
            "image/png": "[encoded data removed]"
          },
          "metadata": {}
        }
      ]
    },
    {
      "cell_type": "code",
      "source": [
        "%%R\n",
        "test$Outcome<-as.numeric(test$Outcome)\n",
        "p2<-as.numeric(p2)\n",
        "roc_rf<- roc(test$Outcome, p2)\n",
        "roc_rf"
      ],
      "metadata": {
        "colab": {
          "base_uri": "https://localhost:8080/"
        },
        "id": "K-qJBxXfOYPO",
        "outputId": "7496826d-27a3-4bd7-8a73-d66ca09ce4eb"
      },
      "execution_count": 55,
      "outputs": [
        {
          "output_type": "stream",
          "name": "stderr",
          "text": [
            "R[write to console]: Setting levels: control = 1, case = 2\n",
            "\n",
            "R[write to console]: Setting direction: controls < cases\n",
            "\n"
          ]
        },
        {
          "output_type": "stream",
          "name": "stdout",
          "text": [
            "\n",
            "Call:\n",
            "roc.default(response = test$Outcome, predictor = p2)\n",
            "\n",
            "Data: p2 in 87 controls (test$Outcome 1) < 96 cases (test$Outcome 2).\n",
            "Area under the curve: 0.9097\n"
          ]
        }
      ]
    },
    {
      "cell_type": "code",
      "source": [
        "%%R\n",
        "r_f = caTools::colAUC(p2, test$Outcome, plotROC = T)"
      ],
      "metadata": {
        "colab": {
          "base_uri": "https://localhost:8080/",
          "height": 497
        },
        "id": "vwtll24BVdWx",
        "outputId": "1f25fb7a-cf75-4b26-f929-1c9a9a79a81c"
      },
      "execution_count": 56,
      "outputs": [
        {
          "output_type": "display_data",
          "data": {
            "image/png": "[encoded data removed]"
          },
          "metadata": {}
        }
      ]
    },
    {
      "cell_type": "markdown",
      "source": [
        "#KNN"
      ],
      "metadata": {
        "id": "jru0JZt2fLpP"
      }
    },
    {
      "cell_type": "code",
      "source": [
        "%%R\n",
        "data(PimaIndiansDiabetes)\n",
        "data <- PimaIndiansDiabetes"
      ],
      "metadata": {
        "id": "4S1nFRMpaX0m"
      },
      "execution_count": 27,
      "outputs": []
    },
    {
      "cell_type": "code",
      "source": [
        "%%R\n",
        "data<-upsample(\n",
        "  data,\n",
        "  cat_col= \"diabetes\",\n",
        "  id_col = NULL,\n",
        "  id_method = \"n_ids\",\n",
        "  mark_new_rows = FALSE\n",
        ")\n",
        "print(table(data$diabetes))"
      ],
      "metadata": {
        "colab": {
          "base_uri": "https://localhost:8080/"
        },
        "id": "U15WPUJobDQF",
        "outputId": "6863a35c-9eed-405c-9e4b-3c475f169b83"
      },
      "execution_count": 28,
      "outputs": [
        {
          "output_type": "stream",
          "name": "stdout",
          "text": [
            "\n",
            "neg pos \n",
            "500 500 \n"
          ]
        }
      ]
    },
    {
      "cell_type": "code",
      "source": [
        "%%R\n",
        "set.seed(123)\n",
        "partition <- caret::createDataPartition(y = data$diabetes, times = 1, p = 0.8, list = FALSE)"
      ],
      "metadata": {
        "id": "do_UWG8jfNm_"
      },
      "execution_count": 29,
      "outputs": []
    },
    {
      "cell_type": "code",
      "source": [
        "%%R\n",
        "# create training data set\n",
        "train_set <- data[partition,]\n",
        "print(train_set)\n",
        "# create testing data set, subtracting the rows partition to get remaining 20% of the data\n",
        "test_set <- data[-partition,]\n",
        "print(test_set)\n",
        "\n",
        "str(train_set)\n",
        "str(test_set)"
      ],
      "metadata": {
        "colab": {
          "base_uri": "https://localhost:8080/"
        },
        "id": "8FZM6kwCfORS",
        "outputId": "c37559dd-dfa9-4564-d29a-73b149c1592b"
      },
      "execution_count": 30,
      "outputs": [
        {
          "output_type": "stream",
          "name": "stdout",
          "text": [
            "     pregnant glucose pressure triceps insulin mass pedigree age diabetes\n",
            "2           1      89       66      23      94 28.1    0.167  21      neg\n",
            "3           5     116       74       0       0 25.6    0.201  30      neg\n",
            "4          10     115        0       0       0 35.3    0.134  29      neg\n",
            "5           4     110       92       0       0 37.6    0.191  30      neg\n",
            "6          10     139       80       0       0 27.1    1.441  57      neg\n",
            "7           1     103       30      38      83 43.3    0.183  33      neg\n",
            "8           3     126       88      41     235 39.3    0.704  27      neg\n",
            "9           8      99       84       0       0 35.4    0.388  50      neg\n",
            "10          1      97       66      15     140 23.2    0.487  22      neg\n",
            "11         13     145       82      19     110 22.2    0.245  57      neg\n",
            "12          5     117       92       0       0 34.1    0.337  38      neg\n",
            "13          5     109       75      26       0 36.0    0.546  60      neg\n",
            "14          3      88       58      11      54 24.8    0.267  22      neg\n",
            "16         10     122       78      31       0 27.6    0.512  45      neg\n",
            "18         11     138       76       0       0 33.2    0.420  35      neg\n",
            "20          7     133       84       0       0 40.2    0.696  37      neg\n",
            "21          7     106       92      18       0 22.7    0.235  48      neg\n",
            "22          7     159       64       0       0 27.4    0.294  40      neg\n",
            "23          1     146       56       0       0 29.7    0.564  29      neg\n",
            "24          2      71       70      27       0 28.0    0.586  22      neg\n",
            "25          7     105        0       0       0  0.0    0.305  24      neg\n",
            "26          1     103       80      11      82 19.4    0.491  22      neg\n",
            "27          1     101       50      15      36 24.2    0.526  26      neg\n",
            "29          7     150       66      42     342 34.7    0.718  42      neg\n",
            "30          1      73       50      10       0 23.0    0.248  21      neg\n",
            "31          0     100       88      60     110 46.8    0.962  31      neg\n",
            "32          0     146       82       0       0 40.5    1.781  44      neg\n",
            "33          0     105       64      41     142 41.5    0.173  22      neg\n",
            "34          2      84        0       0       0  0.0    0.304  21      neg\n",
            "35          5      44       62       0       0 25.0    0.587  36      neg\n",
            "36          2     141       58      34     128 25.4    0.699  24      neg\n",
            "39          1      95       66      13      38 19.6    0.334  25      neg\n",
            "40          4     146       85      27     100 28.9    0.189  27      neg\n",
            "41          5     139       64      35     140 28.6    0.411  26      neg\n",
            "42          4     129       86      20     270 35.1    0.231  23      neg\n",
            "43          1      79       75      30       0 32.0    0.396  22      neg\n",
            "45          7      62       78       0       0 32.6    0.391  41      neg\n",
            "48          3     113       44      13       0 22.4    0.140  22      neg\n",
            "50          7      83       78      26      71 29.3    0.767  36      neg\n",
            "51          0     101       65      28       0 24.6    0.237  22      neg\n",
            "52          2     110       74      29     125 32.4    0.698  27      neg\n",
            "53         13     106       72      54       0 36.6    0.178  45      neg\n",
            "54          2     100       68      25      71 38.5    0.324  26      neg\n",
            "55          1     107       68      19       0 26.5    0.165  24      neg\n",
            "57          4     123       80      15     176 32.0    0.443  34      neg\n",
            "59          2     142       82      18      64 24.7    0.761  21      neg\n",
            "61          2      92       62      28       0 31.6    0.130  24      neg\n",
            "63          6      93       50      30      64 28.7    0.356  23      neg\n",
            "64          1     151       60       0       0 26.1    0.179  22      neg\n",
            "66          1      81       72      18      40 26.6    0.283  24      neg\n",
            "67          2      85       65       0       0 39.6    0.930  27      neg\n",
            "69          1      96      122       0       0 22.4    0.207  27      neg\n",
            "70          4     144       58      28     140 29.5    0.287  37      neg\n",
            "72          1      89       76      34      37 31.2    0.192  23      neg\n",
            "73          4      76       62       0       0 34.0    0.391  25      neg\n",
            "74          5      78       48       0       0 33.7    0.654  25      neg\n",
            "75          4      97       60      23       0 28.2    0.443  22      neg\n",
            "76          4      99       76      15      51 23.2    0.223  21      neg\n",
            "77          6     111       64      39       0 34.2    0.260  24      neg\n",
            "78          2     107       74      30     100 33.6    0.404  23      neg\n",
            "80          3     120       70      30     135 42.9    0.452  30      neg\n",
            "81          1     118       58      36      94 33.3    0.261  23      neg\n",
            "82          8      84       74      31       0 38.3    0.457  39      neg\n",
            "83          2      96       68      13      49 21.1    0.647  26      neg\n",
            "84          2     125       60      20     140 33.8    0.088  31      neg\n",
            "85          0     100       70      26      50 30.8    0.597  21      neg\n",
            "86          0      93       60      25      92 28.7    0.532  22      neg\n",
            "87          0     129       80       0       0 31.2    0.703  29      neg\n",
            "89          3     128       78       0       0 21.1    0.268  55      neg\n",
            "90          5     106       82      30       0 39.5    0.286  38      neg\n",
            "91          2     108       52      26      63 32.5    0.318  22      neg\n",
            "92          4     154       62      31     284 32.8    0.237  23      neg\n",
            "93          0     102       75      23       0  0.0    0.572  21      neg\n",
            "94          9      57       80      37       0 32.8    0.096  41      neg\n",
            "96          5     147       78       0       0 33.7    0.218  65      neg\n",
            "97          2      90       70      17       0 27.3    0.085  22      neg\n",
            "98          1     136       74      50     204 37.4    0.399  24      neg\n",
            "100         1     153       82      42     485 40.6    0.687  23      neg\n",
            "102         1     109       56      21     135 25.2    0.833  23      neg\n",
            "103         2      88       74      19      53 29.0    0.229  22      neg\n",
            "104         4     151       90      38       0 29.7    0.294  36      neg\n",
            "105         7     102       74      40     105 37.2    0.204  45      neg\n",
            "106         0     114       80      34     285 44.2    0.167  27      neg\n",
            "107         2     100       64      23       0 29.7    0.368  21      neg\n",
            "108         3     148       66      25       0 32.5    0.256  22      neg\n",
            "109         4     120       68       0       0 29.6    0.709  34      neg\n",
            "110         4     110       66       0       0 31.9    0.471  29      neg\n",
            "111         3     111       90      12      78 28.4    0.495  29      neg\n",
            "112         2      87        0      23       0 28.9    0.773  25      neg\n",
            "113         1      79       60      42      48 43.5    0.678  23      neg\n",
            "115         6      85       78       0       0 31.2    0.382  42      neg\n",
            "116         5     143       78       0       0 45.0    0.190  47      neg\n",
            "117         6      87       80       0       0 23.2    0.084  32      neg\n",
            "118         0     119       64      18      92 34.9    0.725  23      neg\n",
            "119         1       0       74      20      23 27.7    0.299  21      neg\n",
            "120         5      73       60       0       0 26.8    0.268  27      neg\n",
            "121         4     141       74       0       0 27.6    0.244  40      neg\n",
            "122         3     111       62       0       0 22.6    0.142  21      neg\n",
            "125         1     105       58       0       0 24.3    0.187  21      neg\n",
            "127         1     138       82       0       0 40.1    0.236  28      neg\n",
            "128         0     108       68      20       0 27.3    0.787  32      neg\n",
            "129         2      99       70      16      44 20.4    0.235  27      neg\n",
            "130         6     103       72      32     190 37.7    0.324  55      neg\n",
            "133         2      81       60      22       0 27.7    0.290  25      neg\n",
            "134         0     147       85      54       0 42.8    0.375  24      neg\n",
            "135         7     179       95      31       0 34.2    0.164  60      neg\n",
            "136         6     125       68      30     120 30.0    0.464  32      neg\n",
            "137         7     119        0       0       0 25.2    0.209  37      neg\n",
            "138         7     142       60      33     190 28.8    0.687  61      neg\n",
            "140         1      87       78      27      32 34.6    0.101  22      neg\n",
            "141         0     101       76       0       0 35.7    0.198  26      neg\n",
            "143         0     117       80      31      53 45.2    0.089  24      neg\n",
            "145         4     122       68       0       0 35.0    0.394  29      neg\n",
            "146         3      74       68      28      45 29.7    0.293  23      neg\n",
            "148         1      91       64      24       0 29.2    0.192  21      neg\n",
            "150         2     146       76      35     194 38.2    0.329  29      neg\n",
            "151        10     122       68       0       0 31.2    0.258  41      neg\n",
            "152         0     165       90      33     680 52.3    0.427  23      neg\n",
            "153         9     124       70      33     402 35.4    0.282  34      neg\n",
            "154         1     111       86      19       0 30.1    0.143  23      neg\n",
            "155         9     106       52       0       0 31.2    0.380  42      neg\n",
            "156         2     129       84       0       0 28.0    0.284  27      neg\n",
            "157         2      90       80      14      55 24.4    0.249  24      neg\n",
            "158         0      86       68      32       0 35.8    0.238  25      neg\n",
            "159         3     111       56      39       0 30.1    0.557  30      neg\n",
            "160         2     114       68      22       0 28.7    0.092  25      neg\n",
            "161         1     193       50      16     375 25.9    0.655  24      neg\n",
            "163         4      95       70      32       0 32.1    0.612  24      neg\n",
            "164         3     142       80      15       0 32.4    0.200  63      neg\n",
            "165         5      96       74      18      67 33.6    0.997  43      neg\n",
            "166         2     128       64      42       0 40.0    1.101  24      neg\n",
            "168         2     108       62      32      56 25.2    0.128  21      neg\n",
            "170         1      71       78      50      45 33.2    0.422  21      neg\n",
            "171        13     106       70       0       0 34.2    0.251  52      neg\n",
            "172         2     100       70      52      57 40.5    0.677  25      neg\n",
            "173         0     104       64      23     116 27.8    0.454  23      neg\n",
            "174         5     114       74       0       0 24.9    0.744  57      neg\n",
            "176        10     129       76      28     122 35.9    0.280  39      neg\n",
            "177         7     133       88      15     155 32.4    0.262  37      neg\n",
            "178         7     136       74      26     135 26.0    0.647  51      neg\n",
            "179         5     155       84      44     545 38.7    0.619  34      neg\n",
            "182         0      78       88      29      40 36.9    0.434  21      neg\n",
            "184         6     151       62      31     120 35.5    0.692  28      neg\n",
            "185         0     126       84      29     215 30.7    0.520  24      neg\n",
            "186         8     112       72       0       0 23.6    0.840  58      neg\n",
            "187         5      77       82      41      42 35.8    0.156  35      neg\n",
            "188         3     150       76       0       0 21.0    0.207  37      neg\n",
            "189         2     120       76      37     105 39.7    0.215  29      neg\n",
            "190         0     137       68      14     148 24.8    0.143  21      neg\n",
            "191         6      80       66      30       0 26.2    0.313  41      neg\n",
            "192         0     106       70      37     148 39.4    0.605  22      neg\n",
            "194         2     112       68      22      94 34.1    0.315  26      neg\n",
            "195         3      99       80      11      64 19.3    0.284  30      neg\n",
            "196         3     115       66      39     140 38.1    0.150  28      neg\n",
            "197         4     129       60      12     231 27.5    0.527  31      neg\n",
            "198         2     112       75      32       0 35.7    0.148  21      neg\n",
            "199         1     157       72      21     168 25.6    0.123  24      neg\n",
            "200        10     179       70       0       0 35.1    0.200  37      neg\n",
            "201         6     105       70      32      68 30.8    0.122  37      neg\n",
            "202         8     118       72      19       0 23.1    1.476  46      neg\n",
            "205         1      95       60      18      58 23.9    0.260  22      neg\n",
            "206         0     165       76      43     255 47.9    0.259  26      neg\n",
            "207         0     117        0       0       0 33.8    0.932  44      neg\n",
            "208         1     130       70      13     105 25.9    0.472  22      neg\n",
            "209         1      95       74      21      73 25.9    0.673  36      neg\n",
            "210         1       0       68      35       0 32.0    0.389  22      neg\n",
            "211         5     122       86       0       0 34.7    0.290  33      neg\n",
            "212         8      95       72       0       0 36.8    0.485  57      neg\n",
            "213         8     126       88      36     108 38.5    0.349  49      neg\n",
            "214         1     139       46      19      83 28.7    0.654  22      neg\n",
            "215         3     116        0       0       0 23.5    0.187  23      neg\n",
            "216         3      99       62      19      74 21.8    0.279  26      neg\n",
            "217         4      92       80       0       0 42.2    0.237  29      neg\n",
            "218         4     137       84       0       0 31.2    0.252  30      neg\n",
            "219         3      61       82      28       0 34.4    0.243  46      neg\n",
            "220         1      90       62      12      43 27.2    0.580  24      neg\n",
            "221         3      90       78       0       0 42.7    0.559  21      neg\n",
            "222        12      88       74      40      54 35.3    0.378  48      neg\n",
            "223         5     158       70       0       0 29.8    0.207  63      neg\n",
            "224         5     103      108      37       0 39.2    0.305  65      neg\n",
            "225         4     147       74      25     293 34.9    0.385  30      neg\n",
            "226         5      99       54      28      83 34.0    0.499  30      neg\n",
            "227         0     101       64      17       0 21.0    0.252  21      neg\n",
            "228         3      81       86      16      66 27.5    0.306  22      neg\n",
            "229         0     118       64      23      89  0.0    1.731  21      neg\n",
            "230         0      84       64      22      66 35.8    0.545  21      neg\n",
            "232         2     122       52      43     158 36.2    0.816  28      neg\n",
            "234         1      87       60      37      75 37.2    0.509  22      neg\n",
            "235         0      93      100      39      72 43.4    1.021  35      neg\n",
            "236         1     107       72      30      82 30.8    0.821  24      neg\n",
            "238         1     109       60       8     182 25.4    0.947  21      neg\n",
            "240         1     125       70      24     110 24.3    0.221  25      neg\n",
            "241         1     119       54      13      50 22.3    0.205  24      neg\n",
            "242         3     100       68      23      81 31.6    0.949  28      neg\n",
            "243         1     100       66      29     196 32.0    0.444  42      neg\n",
            "244         1     131       64      14     415 23.7    0.389  21      neg\n",
            "245         4     116       72      12      87 22.1    0.463  37      neg\n",
            "247         3      96       56      34     115 24.7    0.944  39      neg\n",
            "249         6     137       61       0       0 24.2    0.151  55      neg\n",
            "250         9      72       78      25       0 31.6    0.280  38      neg\n",
            "251         2     123       48      32     165 42.1    0.520  26      neg\n",
            "252         0     101       62       0       0 21.9    0.336  25      neg\n",
            "253         6     102       90      39       0 35.7    0.674  28      neg\n",
            "254         1     112       72      30     176 34.4    0.528  25      neg\n",
            "255         1     143       84      23     310 42.4    1.076  22      neg\n",
            "256         1     143       74      22      61 26.2    0.256  21      neg\n",
            "257         1      97       68      21       0 27.2    1.095  22      neg\n",
            "258         1      83       68       0       0 18.2    0.624  27      neg\n",
            "260         2      94       68      18      76 26.0    0.561  21      neg\n",
            "261         0     102       64      46      78 40.6    0.496  21      neg\n",
            "262         2     115       64      22       0 30.8    0.421  21      neg\n",
            "263         0      94        0       0       0  0.0    0.256  25      neg\n",
            "264         0     135       94      46     145 40.6    0.284  26      neg\n",
            "265         2      99        0       0       0 22.2    0.108  23      neg\n",
            "266         3      89       74      16      85 30.4    0.551  38      neg\n",
            "267         1      80       74      11      60 30.0    0.527  22      neg\n",
            "268         2     139       75       0       0 25.6    0.167  29      neg\n",
            "269         1      90       68       8       0 24.5    1.138  36      neg\n",
            "270        12     140       85      33       0 37.4    0.244  41      neg\n",
            "272         1      97       70      15       0 18.2    0.147  21      neg\n",
            "273         6     107       88       0       0 36.8    0.727  31      neg\n",
            "275         4     117       64      27     120 33.2    0.230  24      neg\n",
            "277         0      95       80      45      92 36.5    0.330  26      neg\n",
            "278         0     120       74      18      63 30.5    0.285  26      neg\n",
            "279         1      82       64      13      95 21.2    0.415  23      neg\n",
            "280         0      91       68      32     210 39.9    0.381  25      neg\n",
            "281         2     119        0       0       0 19.6    0.832  72      neg\n",
            "282         2     100       54      28     105 37.8    0.498  24      neg\n",
            "283         1     135       54       0       0 26.7    0.687  62      neg\n",
            "284         5      86       68      28      71 30.2    0.364  24      neg\n",
            "285         9     134       74      33      60 25.9    0.460  81      neg\n",
            "286         9     120       72      22      56 20.8    0.733  48      neg\n",
            "287         1      71       62       0       0 21.8    0.416  26      neg\n",
            "288         8      74       70      40      49 35.3    0.705  39      neg\n",
            "289         5      88       78      30       0 27.6    0.258  37      neg\n",
            "290        10     115       98       0       0 24.0    1.022  34      neg\n",
            "291         0     124       56      13     105 21.8    0.452  21      neg\n",
            "292         0      74       52      10      36 27.8    0.269  22      neg\n",
            "293         0      97       64      36     100 36.8    0.600  25      neg\n",
            "294         6     154       78      41     140 46.1    0.571  27      neg\n",
            "295         1     144       82      40       0 41.3    0.607  28      neg\n",
            "296         0     137       70      38       0 33.2    0.170  22      neg\n",
            "297         0     119       66      27       0 38.8    0.259  22      neg\n",
            "298         7     136       90       0       0 29.9    0.210  50      neg\n",
            "299         4     114       64       0       0 28.9    0.126  24      neg\n",
            "301         7     114       76      17     110 23.8    0.466  31      neg\n",
            "302         8     126       74      38      75 25.9    0.162  39      neg\n",
            "304         0     123       88      37       0 35.2    0.197  29      neg\n",
            "305         4      85       58      22      49 27.8    0.306  28      neg\n",
            "306         0      84       82      31     125 38.2    0.233  23      neg\n",
            "307         1     139       62      41     480 40.7    0.536  21      neg\n",
            "308         0     173       78      32     265 46.5    1.159  58      neg\n",
            "309         4      99       72      17       0 25.6    0.294  28      neg\n",
            "310         8     194       80       0       0 26.1    0.551  67      neg\n",
            "311         2      83       65      28      66 36.8    0.629  24      neg\n",
            "313         4      99       68      38       0 32.8    0.145  33      neg\n",
            "314         3      80        0       0       0  0.0    0.174  22      neg\n",
            "315         6     166       74       0       0 26.6    0.304  66      neg\n",
            "316         5     110       68       0       0 26.0    0.292  30      neg\n",
            "318         6     154       74      32     193 29.3    0.839  39      neg\n",
            "319         2     117       90      19      71 25.2    0.313  21      neg\n",
            "320         3      84       72      32       0 37.2    0.267  28      neg\n",
            "321         7      94       64      25      79 33.3    0.738  41      neg\n",
            "322         3      96       78      39       0 37.3    0.238  40      neg\n",
            "323        10      75       82       0       0 33.3    0.263  38      neg\n",
            "324         1     130       60      23     170 28.6    0.692  21      neg\n",
            "326         8     120       78       0       0 25.0    0.409  64      neg\n",
            "327         0     139       62      17     210 22.1    0.207  21      neg\n",
            "328         9      91       68       0       0 24.2    0.200  58      neg\n",
            "329         2      91       62       0       0 27.3    0.525  22      neg\n",
            "330         3      99       54      19      86 25.6    0.154  24      neg\n",
            "331         7     125       86       0       0 37.6    0.304  51      neg\n",
            "332        13      76       60       0       0 32.8    0.180  41      neg\n",
            "333         6     129       90       7     326 19.6    0.582  60      neg\n",
            "335         3     124       80      33     130 33.2    0.305  26      neg\n",
            "339         1      97       64      19      82 18.2    0.299  21      neg\n",
            "340         3     116       74      15     105 26.3    0.107  24      neg\n",
            "341         0     117       66      31     188 30.8    0.493  22      neg\n",
            "342         0     111       65       0       0 24.6    0.660  31      neg\n",
            "343         2     122       60      18     106 29.8    0.717  22      neg\n",
            "344         0     107       76       0       0 45.3    0.686  24      neg\n",
            "346         6      91        0       0       0 29.8    0.501  31      neg\n",
            "347         1      77       56      30      56 33.3    1.251  24      neg\n",
            "348         0     105       90       0       0 29.6    0.197  46      neg\n",
            "350         0     127       80      37     210 36.3    0.804  23      neg\n",
            "351         4      84       90      23      56 39.5    0.159  25      neg\n",
            "352         1      88       78      29      76 32.0    0.365  29      neg\n",
            "353         4     131       68      21     166 33.1    0.160  28      neg\n",
            "355         4     189      110      31       0 28.5    0.680  37      neg\n",
            "356         1     116       70      28       0 27.4    0.204  21      neg\n",
            "357         3      84       68      30     106 31.9    0.591  25      neg\n",
            "358         6     114       88       0       0 27.8    0.247  66      neg\n",
            "359         1      88       62      24      44 29.9    0.422  23      neg\n",
            "361         7     124       70      33     215 25.5    0.161  37      neg\n",
            "362         1      97       70      40       0 38.1    0.218  30      neg\n",
            "363         8     110       76       0       0 27.8    0.237  58      neg\n",
            "364        11     103       68      40       0 46.2    0.126  42      neg\n",
            "366         1      87       68      34      77 37.6    0.401  24      neg\n",
            "367         6      99       60      19      54 26.9    0.497  32      neg\n",
            "368         0      91       80       0       0 32.4    0.601  27      neg\n",
            "369         2      95       54      14      88 26.1    0.748  22      neg\n",
            "370         1      99       72      30      18 38.6    0.412  21      neg\n",
            "371         6      92       62      32     126 32.0    0.085  46      neg\n",
            "372         4     154       72      29     126 31.3    0.338  37      neg\n",
            "373         3      78       70       0       0 32.5    0.270  39      neg\n",
            "374         2     130       96       0       0 22.6    0.268  21      neg\n",
            "375         3     111       58      31      44 29.5    0.430  22      neg\n",
            "376         2      98       60      17     120 34.7    0.198  22      neg\n",
            "378         1     119       44      47      63 35.5    0.280  25      neg\n",
            "380        10     133       68       0       0 27.0    0.245  36      neg\n",
            "381         6     109       60      27       0 25.0    0.206  27      neg\n",
            "382        12     121       78      17       0 26.5    0.259  62      neg\n",
            "383         8     100       76       0       0 38.7    0.190  42      neg\n",
            "384         1      93       56      11       0 22.5    0.417  22      neg\n",
            "386         0      73        0       0       0 21.1    0.342  25      neg\n",
            "388         2      82       52      22     115 28.5    1.699  25      neg\n",
            "389         6     123       72      45     230 33.6    0.733  34      neg\n",
            "390         0      67       76       0       0 45.3    0.194  46      neg\n",
            "391         1      89       24      19      25 27.8    0.559  21      neg\n",
            "392         1     109       38      18     120 23.1    0.407  26      neg\n",
            "393         1     108       88      19       0 27.1    0.400  24      neg\n",
            "394         6      96        0       0       0 23.7    0.190  28      neg\n",
            "395         1     124       74      36       0 27.8    0.100  30      neg\n",
            "396         1     124       60      32       0 35.8    0.514  21      neg\n",
            "397         1      92       62      25      41 19.5    0.482  25      neg\n",
            "399         1     111       62      13     182 24.0    0.138  23      neg\n",
            "400         3     106       54      21     158 30.9    0.292  24      neg\n",
            "401         6     105       80      28       0 32.5    0.878  26      neg\n",
            "402         3     106       72       0       0 25.8    0.207  27      neg\n",
            "403         6     117       96       0       0 28.7    0.157  30      neg\n",
            "404         2      68       62      13      15 20.1    0.257  23      neg\n",
            "405         2     112       86      42     160 38.4    0.246  28      neg\n",
            "407         6     183       94       0       0 40.8    1.461  45      neg\n",
            "409         2     108       64       0       0 30.8    0.158  21      neg\n",
            "410         4      90       88      47      54 37.7    0.362  29      neg\n",
            "411         0     125       68       0       0 24.7    0.206  21      neg\n",
            "413         5     128       80       0       0 34.6    0.144  45      neg\n",
            "414         4      94       65      22       0 24.7    0.148  21      neg\n",
            "415         0     102       78      40      90 34.5    0.238  24      neg\n",
            "417         1     128       82      17     183 27.5    0.115  22      neg\n",
            "420         2      94       76      18      66 31.6    0.649  23      neg\n",
            "421         1     100       74      12      46 19.5    0.149  28      neg\n",
            "422         0     102       86      17     105 29.3    0.695  27      neg\n",
            "424         4      90        0       0       0 28.0    0.610  31      neg\n",
            "425         3     103       72      30     152 27.6    0.730  27      neg\n",
            "426         2     157       74      35     440 39.4    0.134  30      neg\n",
            "428         1      91       54      25     100 25.2    0.234  23      neg\n",
            "429         1     117       60      23     106 33.8    0.466  27      neg\n",
            "430         5     123       74      40      77 34.1    0.269  28      neg\n",
            "431         2     120       54       0       0 26.8    0.455  27      neg\n",
            "433         2     101       58      35      90 21.8    0.155  22      neg\n",
            "434         1     120       80      48     200 38.9    1.162  41      neg\n",
            "437         1     112       80      45     132 34.8    0.217  24      neg\n",
            "438         6      98       58      33     190 34.0    0.430  43      neg\n",
            "439         9     154       78      30     100 30.9    0.164  45      neg\n",
            "440         6     165       68      26     168 33.6    0.631  49      neg\n",
            "441         1      99       58      10       0 25.4    0.551  21      neg\n",
            "442        10      68      106      23      49 35.5    0.285  47      neg\n",
            "444         8      91       82       0       0 35.6    0.587  68      neg\n",
            "446         2     101       58      17     265 24.2    0.614  23      neg\n",
            "447         2      56       56      28      45 24.2    0.332  22      neg\n",
            "449         5     136       82       0       0  0.0    0.640  69      neg\n",
            "450         2     129       74      26     205 33.2    0.591  25      neg\n",
            "452         1     107       50      19       0 28.3    0.181  29      neg\n",
            "453         1     140       74      26     180 24.1    0.828  23      neg\n",
            "454         8     107       80       0       0 24.6    0.856  34      neg\n",
            "455         2     121       70      32      95 39.1    0.886  23      neg\n",
            "456         2      90       60       0       0 23.5    0.191  25      neg\n",
            "457         0      99        0       0       0 25.0    0.253  22      neg\n",
            "458         4     127       88      11     155 34.5    0.598  28      neg\n",
            "459         4     118       70       0       0 44.5    0.904  26      neg\n",
            "463         6      80       80      36       0 39.8    0.177  28      neg\n",
            "464         2     127       46      21     335 34.4    0.176  22      neg\n",
            "465         3     158       64      13     387 31.2    0.295  24      neg\n",
            "466         5     126       78      27      22 29.6    0.439  40      neg\n",
            "467         0     134       58      20     291 26.4    0.352  21      neg\n",
            "469        10      94       72      18       0 23.1    0.595  56      neg\n",
            "471         4      83       86      19       0 29.3    0.317  34      neg\n",
            "472         1     114       66      36     200 38.1    0.289  21      neg\n",
            "473         5     117       86      30     105 39.1    0.251  42      neg\n",
            "474         1     111       94       0       0 32.8    0.265  45      neg\n",
            "475         4     112       78      40       0 39.4    0.236  38      neg\n",
            "476         1     116       78      29     180 36.1    0.496  25      neg\n",
            "477         0     141       84      26       0 32.4    0.433  22      neg\n",
            "478         2     175       88       0       0 22.9    0.326  22      neg\n",
            "479         2      92       52       0       0 30.1    0.141  22      neg\n",
            "480         2     106       56      27     165 29.0    0.426  22      neg\n",
            "481         2     105       75       0       0 23.3    0.560  53      neg\n",
            "484         8      65       72      23       0 32.0    0.600  42      neg\n",
            "485         2      99       60      17     160 36.6    0.453  21      neg\n",
            "486         3     102       44      20      94 30.8    0.400  26      neg\n",
            "487         1     109       58      18     116 28.5    0.219  22      neg\n",
            "488        13     153       88      37     140 40.6    1.174  39      neg\n",
            "490         1      81       74      41      57 46.3    1.096  32      neg\n",
            "491         1     121       78      39      74 39.0    0.261  28      neg\n",
            "493         7     137       90      41       0 32.0    0.391  39      neg\n",
            "494         1     106       76       0       0 37.5    0.197  26      neg\n",
            "495         2      88       58      26      16 28.4    0.766  22      neg\n",
            "496         9      89       62       0       0 22.5    0.142  33      neg\n",
            "497        10     101       76      48     180 32.9    0.171  63      neg\n",
            "502         8     183       64       0       0 23.3    0.672  32      pos\n",
            "504         3      78       50      32      88 31.0    0.248  26      pos\n",
            "505         2     197       70      45     543 30.5    0.158  53      pos\n",
            "506         8     125       96       0       0  0.0    0.232  54      pos\n",
            "507        10     168       74       0       0 38.0    0.537  34      pos\n",
            "508         1     189       60      23     846 30.1    0.398  59      pos\n",
            "509         5     166       72      19     175 25.8    0.587  51      pos\n",
            "510         7     100        0       0       0 30.0    0.484  32      pos\n",
            "511         0     118       84      47     230 45.8    0.551  31      pos\n",
            "513         1     115       70      30      96 34.6    0.529  32      pos\n",
            "515         9     119       80      35       0 29.0    0.263  29      pos\n",
            "517        10     125       70      26     115 31.1    0.205  41      pos\n",
            "518         7     147       76       0       0 39.4    0.257  43      pos\n",
            "519         3     158       76      36     245 31.6    0.851  28      pos\n",
            "520         9     102       76      37       0 32.9    0.665  46      pos\n",
            "521         2      90       68      42       0 38.2    0.503  27      pos\n",
            "523         9     171      110      24     240 45.4    0.721  54      pos\n",
            "524         0     180       66      39       0 42.0    1.893  25      pos\n",
            "525         7     103       66      32       0 39.1    0.344  31      pos\n",
            "527         7     187       68      39     304 37.7    0.254  41      pos\n",
            "529         7     114       66       0       0 32.8    0.258  42      pos\n",
            "531         2     100       66      20      90 32.9    0.867  28      pos\n",
            "533         0     131        0       0       0 43.2    0.270  26      pos\n",
            "535        15     136       70      32     110 37.1    0.153  43      pos\n",
            "536         4     134       72       0       0 23.8    0.277  60      pos\n",
            "537         1     122       90      51     220 49.7    0.325  31      pos\n",
            "538         1     163       72       0       0 39.0    1.222  33      pos\n",
            "541         8     155       62      26     495 34.0    0.543  46      pos\n",
            "542         7     160       54      32     175 30.5    0.588  39      pos\n",
            "543         4     146       92       0       0 31.2    0.539  61      pos\n",
            "544         5     124       74       0       0 34.0    0.220  38      pos\n",
            "545         0     162       76      56     100 53.2    0.759  25      pos\n",
            "546         0     113       76       0       0 33.3    0.278  23      pos\n",
            "547         1      88       30      42      99 55.0    0.496  26      pos\n",
            "548         1     117       88      24     145 34.5    0.403  40      pos\n",
            "549         0     105       84       0       0 27.9    0.741  62      pos\n",
            "550         4     173       70      14     168 29.7    0.361  33      pos\n",
            "551         9     122       56       0       0 33.3    1.114  33      pos\n",
            "552         3     170       64      37     225 34.5    0.356  30      pos\n",
            "553        10     108       66       0       0 32.4    0.272  42      pos\n",
            "554         9     156       86      28     155 34.3    1.189  42      pos\n",
            "555         8     188       78       0       0 47.9    0.137  43      pos\n",
            "556         7     152       88      44       0 50.0    0.337  36      pos\n",
            "557        17     163       72      41     114 40.9    0.817  47      pos\n",
            "558         0     131       88       0       0 31.6    0.743  32      pos\n",
            "559         6     104       74      18     156 29.9    0.722  41      pos\n",
            "560         6     102       82       0       0 30.8    0.180  36      pos\n",
            "561         6     134       70      23     130 35.4    0.542  29      pos\n",
            "562         8     179       72      42     130 32.7    0.719  36      pos\n",
            "563         0     129      110      46     130 67.1    0.319  26      pos\n",
            "564         5     130       82       0       0 39.1    0.956  37      pos\n",
            "565         7     194       68      28       0 35.9    0.745  41      pos\n",
            "566         8     181       68      36     495 30.1    0.615  60      pos\n",
            "567         1     128       98      41      58 32.0    1.321  33      pos\n",
            "568         8     109       76      39     114 27.9    0.640  31      pos\n",
            "569         5     139       80      35     160 31.6    0.361  25      pos\n",
            "570         7     159       66       0       0 30.4    0.383  36      pos\n",
            "571        11     135        0       0       0 52.3    0.578  40      pos\n",
            "572         5     158       84      41     210 39.4    0.395  29      pos\n",
            "573         3     107       62      13      48 22.9    0.678  23      pos\n",
            "574         4     109       64      44      99 34.8    0.905  26      pos\n",
            "575         4     148       60      27     318 30.9    0.150  29      pos\n",
            "576         8     196       76      29     280 37.5    0.605  57      pos\n",
            "577         5     162      104       0       0 37.7    0.151  52      pos\n",
            "578         7     184       84      33       0 35.5    0.355  41      pos\n",
            "579         0     140       65      26     130 42.6    0.431  24      pos\n",
            "580         9     112       82      32     175 34.2    0.260  36      pos\n",
            "581        12     151       70      40     271 41.8    0.742  38      pos\n",
            "582         5     109       62      41     129 35.8    0.514  25      pos\n",
            "583         5      85       74      22       0 29.0    1.224  32      pos\n",
            "584         5     112       66       0       0 37.8    0.261  41      pos\n",
            "585         0     177       60      29     478 34.6    1.072  21      pos\n",
            "586         2     158       90       0       0 31.6    0.805  66      pos\n",
            "587         3     162       52      38       0 37.2    0.652  24      pos\n",
            "588         4     142       86       0       0 44.0    0.645  22      pos\n",
            "589         6     134       80      37     370 46.2    0.238  46      pos\n",
            "590         4     171       72       0       0 43.6    0.479  26      pos\n",
            "591         7     181       84      21     192 35.9    0.586  51      pos\n",
            "592         0     179       90      27       0 44.1    0.686  23      pos\n",
            "593         9     164       84      21       0 30.8    0.831  32      pos\n",
            "594         3     139       54       0       0 25.6    0.402  22      pos\n",
            "595         6     119       50      22     176 27.1    1.318  33      pos\n",
            "597        12      92       62       7     258 27.6    0.926  44      pos\n",
            "598         1     113       64      35       0 33.6    0.543  21      pos\n",
            "599        11     155       76      28     150 33.3    1.353  51      pos\n",
            "600         3     141        0       0       0 30.0    0.761  27      pos\n",
            "601         4     123       62       0       0 32.0    0.226  35      pos\n",
            "602         0     138        0       0       0 36.3    0.933  25      pos\n",
            "603         2     146        0       0       0 27.5    0.240  28      pos\n",
            "605         7     106       60      24       0 26.5    0.296  29      pos\n",
            "606         0     146       70       0       0 37.9    0.334  28      pos\n",
            "607         7     161       86       0       0 30.4    0.165  47      pos\n",
            "608         2     108       80       0       0 27.0    0.259  52      pos\n",
            "609         1     119       86      39     220 45.6    0.808  29      pos\n",
            "610         0     107       62      30      74 36.6    0.757  25      pos\n",
            "611         2     128       78      37     182 43.3    1.224  31      pos\n",
            "612         1     128       48      45     194 40.5    0.613  24      pos\n",
            "614        14     100       78      25     184 36.6    0.412  46      pos\n",
            "615         0     167        0       0       0 32.3    0.839  30      pos\n",
            "616         2     144       58      33     135 31.6    0.422  25      pos\n",
            "619         0     128       68      19     180 30.5    1.391  25      pos\n",
            "620         2     124       68      28     205 32.9    0.875  30      pos\n",
            "621         2     155       74      17      96 26.6    0.433  27      pos\n",
            "622         7     109       80      31       0 35.9    1.127  43      pos\n",
            "623         3     182       74       0       0 30.5    0.345  29      pos\n",
            "624         6     194       78       0       0 23.5    0.129  59      pos\n",
            "627        13     152       90      33      29 26.8    0.731  43      pos\n",
            "628         1     122       64      32     156 35.1    0.692  30      pos\n",
            "629         2     102       86      36     120 45.5    0.127  23      pos\n",
            "630         1     180        0       0       0 43.3    0.282  41      pos\n",
            "631         5     115       76       0       0 31.2    0.343  44      pos\n",
            "632         9     152       78      34     171 34.2    0.893  33      pos\n",
            "633         7     178       84       0       0 39.9    0.331  41      pos\n",
            "634         5       0       80      32       0 41.0    0.346  37      pos\n",
            "635         9     165       88       0       0 30.4    0.302  49      pos\n",
            "636         1     125       50      40     167 33.3    0.962  28      pos\n",
            "637        13     129        0      30       0 39.9    0.569  44      pos\n",
            "638         1     196       76      36     249 36.5    0.875  29      pos\n",
            "639         5     189       64      33     325 31.2    0.583  29      pos\n",
            "640         4     146       78       0       0 38.5    0.520  67      pos\n",
            "641         6     124       72       0       0 27.6    0.368  29      pos\n",
            "642         1     133      102      28     140 32.8    0.234  45      pos\n",
            "643         3     173       82      48     465 38.4    2.137  25      pos\n",
            "645         4     156       75       0       0 48.3    0.238  32      pos\n",
            "647         8     105      100      36       0 43.3    0.239  45      pos\n",
            "648         5     144       82      26     285 32.0    0.452  58      pos\n",
            "653         4      95       64       0       0 32.0    0.161  31      pos\n",
            "654         5     136       84      41      88 35.0    0.286  35      pos\n",
            "655         5     168       64       0       0 32.9    0.135  41      pos\n",
            "656         4     115       72       0       0 28.9    0.376  46      pos\n",
            "657         8     197       74       0       0 25.9    1.191  39      pos\n",
            "658         1     172       68      49     579 42.4    0.702  28      pos\n",
            "659         0     138       60      35     167 34.6    0.534  21      pos\n",
            "660         3     173       84      33     474 35.7    0.258  22      pos\n",
            "661         4     144       82      32       0 38.5    0.554  37      pos\n",
            "662         3     129       64      29     115 26.4    0.219  28      pos\n",
            "664         4     184       78      39     277 37.0    0.264  31      pos\n",
            "665         1     181       64      30     180 34.1    0.328  38      pos\n",
            "666         1      95       82      25     180 35.0    0.233  43      pos\n",
            "667         0     141        0       0       0 42.4    0.205  29      pos\n",
            "668         0     189      104      25       0 34.3    0.435  41      pos\n",
            "669         8     108       70       0       0 30.5    0.955  33      pos\n",
            "670         4     117       62      12       0 29.7    0.380  30      pos\n",
            "671         0     180       78      63      14 59.4    2.420  25      pos\n",
            "672         0     104       64      37      64 33.6    0.510  22      pos\n",
            "673         2     134       70       0       0 28.9    0.542  23      pos\n",
            "674        14     175       62      30       0 33.6    0.212  38      pos\n",
            "675        10     148       84      48     237 37.6    1.001  51      pos\n",
            "678         3     158       70      30     328 35.5    0.344  35      pos\n",
            "679         0     145        0       0       0 44.2    0.630  31      pos\n",
            "680         0     135       68      42     250 42.3    0.365  24      pos\n",
            "681         4     125       70      18     122 28.9    1.144  45      pos\n",
            "683         6       0       68      41       0 39.0    0.727  41      pos\n",
            "684         0     180       90      26      90 36.5    0.314  35      pos\n",
            "685        12      84       72      31       0 29.7    0.297  46      pos\n",
            "686         3     163       70      18     105 31.6    0.268  28      pos\n",
            "687         9     145       88      34     165 30.3    0.771  53      pos\n",
            "688         9     130       70       0       0 34.2    0.652  45      pos\n",
            "689         4     132        0       0       0 32.9    0.302  23      pos\n",
            "690         3     129       92      49     155 36.4    0.968  32      pos\n",
            "691         8     100       74      40     215 39.4    0.661  43      pos\n",
            "692         3     128       72      25     190 32.4    0.549  27      pos\n",
            "693        10      90       85      32       0 34.9    0.825  56      pos\n",
            "697         0     198       66      32     274 41.3    0.502  28      pos\n",
            "698         0     121       66      30     165 34.3    0.203  33      pos\n",
            "699         2     118       80       0       0 42.9    0.693  21      pos\n",
            "700         2     197       70      99       0 34.7    0.575  62      pos\n",
            "701         0     151       90      46       0 42.1    0.371  21      pos\n",
            "702         8     124       76      24     600 28.7    0.687  52      pos\n",
            "703         8     143       66       0       0 34.9    0.129  41      pos\n",
            "704         3     176       86      27     156 33.3    1.154  52      pos\n",
            "706         3     132       80       0       0 34.4    0.402  44      pos\n",
            "707         0     188       82      14     185 32.0    0.682  22      pos\n",
            "709         7     150       78      29     126 35.2    0.692  54      pos\n",
            "710         4     183        0       0       0 28.4    0.212  36      pos\n",
            "711         1     181       78      42     293 40.0    1.258  22      pos\n",
            "713         7     168       88      42     321 38.2    0.787  40      pos\n",
            "714        11     138       74      26     144 36.1    0.557  50      pos\n",
            "715         9     112       82      24       0 28.2    1.282  50      pos\n",
            "717         7     114       64       0       0 27.4    0.732  34      pos\n",
            "718        13     104       72       0       0 31.2    0.465  38      pos\n",
            "719         7      97       76      32      91 40.9    0.871  32      pos\n",
            "720         6     147       80       0       0 29.5    0.178  50      pos\n",
            "721         1     167       74      17     144 23.4    0.447  33      pos\n",
            "722         0     179       50      36     159 37.8    0.455  22      pos\n",
            "724         2     155       52      27     540 38.7    0.240  25      pos\n",
            "725         3      80       82      31      70 34.2    1.292  27      pos\n",
            "727         8     167      106      46     231 37.6    0.165  43      pos\n",
            "728         9     145       80      46     130 37.9    0.637  40      pos\n",
            "729         6     115       60      39       0 33.7    0.245  40      pos\n",
            "730         4     145       82      18       0 32.5    0.235  70      pos\n",
            "731        10     111       70      27       0 27.5    0.141  40      pos\n",
            "732         6     195       70       0       0 30.9    0.328  31      pos\n",
            "733         9     156       86       0       0 24.8    0.230  53      pos\n",
            "735         0     162       76      36       0 49.6    0.364  26      pos\n",
            "736         4     125       80       0       0 32.3    0.536  27      pos\n",
            "737         1     144       82      46     180 46.1    0.335  46      pos\n",
            "738        13     158      114       0       0 42.3    0.257  44      pos\n",
            "739         7     129       68      49     125 38.5    0.439  43      pos\n",
            "740         7     142       90      24     480 30.4    0.128  43      pos\n",
            "741         3     169       74      19     125 29.9    0.268  31      pos\n",
            "742         6     125       78      31       0 27.6    0.565  49      pos\n",
            "744        10     115        0       0       0  0.0    0.261  30      pos\n",
            "746         2      93       64      32     160 38.0    0.674  23      pos\n",
            "748         7     187       50      33     392 33.9    0.826  34      pos\n",
            "749         3     173       78      39     185 33.8    0.970  31      pos\n",
            "751         1     149       68      29     127 29.3    0.349  42      pos\n",
            "752         3     130       78      23      79 28.4    0.323  34      pos\n",
            "754         2     174       88      37     120 44.5    0.646  24      pos\n",
            "755         1     102       74       0       0 39.5    0.293  42      pos\n",
            "756        11     120       80      37     150 42.3    0.785  48      pos\n",
            "757         9     140       94       0       0 32.7    0.734  45      pos\n",
            "758         1     147       94      41       0 49.3    0.358  27      pos\n",
            "760         6     162       62       0       0 24.3    0.178  50      pos\n",
            "761         4     136       70       0       0 31.2    1.182  22      pos\n",
            "762         0     181       88      44     510 43.3    0.222  26      pos\n",
            "763         8     154       78      32       0 32.4    0.443  45      pos\n",
            "764         1     128       88      39     110 36.5    1.057  37      pos\n",
            "765         0     123       72       0       0 36.3    0.258  52      pos\n",
            "766         6     190       92       0       0 35.5    0.278  66      pos\n",
            "768         1     126       60       0       0 30.1    0.349  47      pos\n",
            "770         0     105       84       0       0 27.9    0.741  62      pos\n",
            "771         9     102       76      37       0 32.9    0.665  46      pos\n",
            "773        13     129        0      30       0 39.9    0.569  44      pos\n",
            "774         9     170       74      31       0 44.0    0.403  43      pos\n",
            "775         1      95       82      25     180 35.0    0.233  43      pos\n",
            "776         6     194       78       0       0 23.5    0.129  59      pos\n",
            "778        13     104       72       0       0 31.2    0.465  38      pos\n",
            "779         1      95       82      25     180 35.0    0.233  43      pos\n",
            "780        13     158      114       0       0 42.3    0.257  44      pos\n",
            "781         8     108       70       0       0 30.5    0.955  33      pos\n",
            "784         2     102       86      36     120 45.5    0.127  23      pos\n",
            "785        10     168       74       0       0 38.0    0.537  34      pos\n",
            "788         3     128       72      25     190 32.4    0.549  27      pos\n",
            "789         1     122       64      32     156 35.1    0.692  30      pos\n",
            "790         8     120       86       0       0 28.4    0.259  22      pos\n",
            "792         4     158       78       0       0 32.9    0.803  31      pos\n",
            "793         1     102       74       0       0 39.5    0.293  42      pos\n",
            "794         0     189      104      25       0 34.3    0.435  41      pos\n",
            "795         7     129       68      49     125 38.5    0.439  43      pos\n",
            "797        10     108       66       0       0 32.4    0.272  42      pos\n",
            "799         8     197       74       0       0 25.9    1.191  39      pos\n",
            "800         0     179       90      27       0 44.1    0.686  23      pos\n",
            "801         2     197       70      99       0 34.7    0.575  62      pos\n",
            "802         0     138       60      35     167 34.6    0.534  21      pos\n",
            "803         8     167      106      46     231 37.6    0.165  43      pos\n",
            "804         6     125       78      31       0 27.6    0.565  49      pos\n",
            "805         3     129       64      29     115 26.4    0.219  28      pos\n",
            "806        10     111       70      27       0 27.5    0.141  40      pos\n",
            "807         7     195       70      33     145 25.1    0.163  55      pos\n",
            "808         2     155       52      27     540 38.7    0.240  25      pos\n",
            "811         3     173       84      33     474 35.7    0.258  22      pos\n",
            "813         9     145       88      34     165 30.3    0.771  53      pos\n",
            "814         7     142       90      24     480 30.4    0.128  43      pos\n",
            "815         8     124       76      24     600 28.7    0.687  52      pos\n",
            "816         0     109       88      30       0 32.5    0.855  38      pos\n",
            "818         6     190       92       0       0 35.5    0.278  66      pos\n",
            "819         7     184       84      33       0 35.5    0.355  41      pos\n",
            "820         7      97       76      32      91 40.9    0.871  32      pos\n",
            "822         6     190       92       0       0 35.5    0.278  66      pos\n",
            "824         5     166       76       0       0 45.7    0.340  27      pos\n",
            "825         4     144       82      32       0 38.5    0.554  37      pos\n",
            "826         2     146       70      38     360 28.0    0.337  29      pos\n",
            "827        17     163       72      41     114 40.9    0.817  47      pos\n",
            "828         6     102       82       0       0 30.8    0.180  36      pos\n",
            "829         6     134       80      37     370 46.2    0.238  46      pos\n",
            "830         3     173       78      39     185 33.8    0.970  31      pos\n",
            "831        14     175       62      30       0 33.6    0.212  38      pos\n",
            "832         2     174       88      37     120 44.5    0.646  24      pos\n",
            "833         5      85       74      22       0 29.0    1.224  32      pos\n",
            "834         4     173       70      14     168 29.7    0.361  33      pos\n",
            "835         5     166       76       0       0 45.7    0.340  27      pos\n",
            "837         1     199       76      43       0 42.9    1.394  22      pos\n",
            "838         9     170       74      31       0 44.0    0.403  43      pos\n",
            "839         0     104       64      37      64 33.6    0.510  22      pos\n",
            "840         4     125       70      18     122 28.9    1.144  45      pos\n",
            "841         1     122       64      32     156 35.1    0.692  30      pos\n",
            "842         4     136       70       0       0 31.2    1.182  22      pos\n",
            "843         1     168       88      29       0 35.0    0.905  52      pos\n",
            "844         3     193       70      31       0 34.9    0.241  25      pos\n",
            "845         3     129       64      29     115 26.4    0.219  28      pos\n",
            "846         1     149       68      29     127 29.3    0.349  42      pos\n",
            "847         0     162       76      56     100 53.2    0.759  25      pos\n",
            "848         2     197       70      45     543 30.5    0.158  53      pos\n",
            "849         4     145       82      18       0 32.5    0.235  70      pos\n",
            "850         1     122       64      32     156 35.1    0.692  30      pos\n",
            "851         1     172       68      49     579 42.4    0.702  28      pos\n",
            "852         3     163       70      18     105 31.6    0.268  28      pos\n",
            "853         0     162       76      36       0 49.6    0.364  26      pos\n",
            "854         4     184       78      39     277 37.0    0.264  31      pos\n",
            "856         9     145       80      46     130 37.9    0.637  40      pos\n",
            "857         7     187       50      33     392 33.9    0.826  34      pos\n",
            "858         0     138       60      35     167 34.6    0.534  21      pos\n",
            "859         8     183       64       0       0 23.3    0.672  32      pos\n",
            "863         2     158       90       0       0 31.6    0.805  66      pos\n",
            "867        11     111       84      40       0 46.8    0.925  45      pos\n",
            "868         1     168       88      29       0 35.0    0.905  52      pos\n",
            "869         8     186       90      35     225 34.5    0.423  37      pos\n",
            "871        15     136       70      32     110 37.1    0.153  43      pos\n",
            "872         2     124       68      28     205 32.9    0.875  30      pos\n",
            "873         3      78       50      32      88 31.0    0.248  26      pos\n",
            "874         7     187       68      39     304 37.7    0.254  41      pos\n",
            "875         3     158       70      30     328 35.5    0.344  35      pos\n",
            "876         0     124       70      20       0 27.4    0.254  36      pos\n",
            "877        14     175       62      30       0 33.6    0.212  38      pos\n",
            "878         0     180       78      63      14 59.4    2.420  25      pos\n",
            "879         1     125       50      40     167 33.3    0.962  28      pos\n",
            "880         1     122       64      32     156 35.1    0.692  30      pos\n",
            "882         4      95       64       0       0 32.0    0.161  31      pos\n",
            "883         3     121       52       0       0 36.0    0.127  25      pos\n",
            "885         0     137       40      35     168 43.1    2.288  33      pos\n",
            "886         5     130       82       0       0 39.1    0.956  37      pos\n",
            "887         0     138        0       0       0 36.3    0.933  25      pos\n",
            "888         0     177       60      29     478 34.6    1.072  21      pos\n",
            "891         3     173       84      33     474 35.7    0.258  22      pos\n",
            "892         8     179       72      42     130 32.7    0.719  36      pos\n",
            "893         0     131       88       0       0 31.6    0.743  32      pos\n",
            "894         6     119       50      22     176 27.1    1.318  33      pos\n",
            "895         4     144       82      32       0 38.5    0.554  37      pos\n",
            "897         2     146       70      38     360 28.0    0.337  29      pos\n",
            "899         2      93       64      32     160 38.0    0.674  23      pos\n",
            "900         4     146       78       0       0 38.5    0.520  67      pos\n",
            "902         1      88       30      42      99 55.0    0.496  26      pos\n",
            "904         4     146       78       0       0 38.5    0.520  67      pos\n",
            "905        10     161       68      23     132 25.5    0.326  47      pos\n",
            "906         7     159       66       0       0 30.4    0.383  36      pos\n",
            "907         7     114       64       0       0 27.4    0.732  34      pos\n",
            "910         5     124       74       0       0 34.0    0.220  38      pos\n",
            "911         7     106       60      24       0 26.5    0.296  29      pos\n",
            "912         0     151       90      46       0 42.1    0.371  21      pos\n",
            "914         1     181       78      42     293 40.0    1.258  22      pos\n",
            "915         4     146       92       0       0 31.2    0.539  61      pos\n",
            "916         0     151       90      46       0 42.1    0.371  21      pos\n",
            "917         6     147       80       0       0 29.5    0.178  50      pos\n",
            "918         2     105       80      45     191 33.7    0.711  29      pos\n",
            "920         4     117       62      12       0 29.7    0.380  30      pos\n",
            "921        14     175       62      30       0 33.6    0.212  38      pos\n",
            "922         0     138       60      35     167 34.6    0.534  21      pos\n",
            "923         8     133       72       0       0 32.9    0.270  39      pos\n",
            "924         7     168       88      42     321 38.2    0.787  40      pos\n",
            "926        11     111       84      40       0 46.8    0.925  45      pos\n",
            "927         1     147       94      41       0 49.3    0.358  27      pos\n",
            "928         8     120        0       0       0 30.0    0.183  38      pos\n",
            "930         0     146       70       0       0 37.9    0.334  28      pos\n",
            "931        11     120       80      37     150 42.3    0.785  48      pos\n",
            "933         5     166       76       0       0 45.7    0.340  27      pos\n",
            "937         5     158       84      41     210 39.4    0.395  29      pos\n",
            "938        10     101       86      37       0 45.6    1.136  38      pos\n",
            "939         9     122       56       0       0 33.3    1.114  33      pos\n",
            "940         1     147       94      41       0 49.3    0.358  27      pos\n",
            "941         0     198       66      32     274 41.3    0.502  28      pos\n",
            "943         1     167       74      17     144 23.4    0.447  33      pos\n",
            "944        10     148       84      48     237 37.6    1.001  51      pos\n",
            "945        13     104       72       0       0 31.2    0.465  38      pos\n",
            "946         3     132       80       0       0 34.4    0.402  44      pos\n",
            "947         6     190       92       0       0 35.5    0.278  66      pos\n",
            "948         5     115       98       0       0 52.9    0.209  28      pos\n",
            "951         6     134       70      23     130 35.4    0.542  29      pos\n",
            "952        14     100       78      25     184 36.6    0.412  46      pos\n",
            "953         3     173       82      48     465 38.4    2.137  25      pos\n",
            "954         6     115       60      39       0 33.7    0.245  40      pos\n",
            "956         6     134       80      37     370 46.2    0.238  46      pos\n",
            "957         1     115       70      30      96 34.6    0.529  32      pos\n",
            "959         7     103       66      32       0 39.1    0.344  31      pos\n",
            "960         4     173       70      14     168 29.7    0.361  33      pos\n",
            "961        12     151       70      40     271 41.8    0.742  38      pos\n",
            "962         4     132        0       0       0 32.9    0.302  23      pos\n",
            "963         1      95       82      25     180 35.0    0.233  43      pos\n",
            "964        10     125       70      26     115 31.1    0.205  41      pos\n",
            "965         1     128       48      45     194 40.5    0.613  24      pos\n",
            "966         9     145       80      46     130 37.9    0.637  40      pos\n",
            "967         9     145       80      46     130 37.9    0.637  40      pos\n",
            "968         8     186       90      35     225 34.5    0.423  37      pos\n",
            "969         7     161       86       0       0 30.4    0.165  47      pos\n",
            "971         8     188       78       0       0 47.9    0.137  43      pos\n",
            "972         4     134       72       0       0 23.8    0.277  60      pos\n",
            "973         3     169       74      19     125 29.9    0.268  31      pos\n",
            "974         5     166       72      19     175 25.8    0.587  51      pos\n",
            "975         0     113       76       0       0 33.3    0.278  23      pos\n",
            "976         7     184       84      33       0 35.5    0.355  41      pos\n",
            "977         7     106       60      24       0 26.5    0.296  29      pos\n",
            "978         5     168       64       0       0 32.9    0.135  41      pos\n",
            "980         0     151       90      46       0 42.1    0.371  21      pos\n",
            "981         0     140       65      26     130 42.6    0.431  24      pos\n",
            "982         3     158       70      30     328 35.5    0.344  35      pos\n",
            "983        10     111       70      27       0 27.5    0.141  40      pos\n",
            "984         0     180       90      26      90 36.5    0.314  35      pos\n",
            "985         8     105      100      36       0 43.3    0.239  45      pos\n",
            "986         7     168       88      42     321 38.2    0.787  40      pos\n",
            "987         5     115       76       0       0 31.2    0.343  44      pos\n",
            "988         1     144       82      46     180 46.1    0.335  46      pos\n",
            "989        12     140       82      43     325 39.2    0.528  58      pos\n",
            "991         9     184       85      15       0 30.0    1.213  49      pos\n",
            "992         7     178       84       0       0 39.9    0.331  41      pos\n",
            "995        14     175       62      30       0 33.6    0.212  38      pos\n",
            "996         8     181       68      36     495 30.1    0.615  60      pos\n",
            "997         8     108       70       0       0 30.5    0.955  33      pos\n",
            "998        13     152       90      33      29 26.8    0.731  43      pos\n",
            "999         3     162       52      38       0 37.2    0.652  24      pos\n",
            "1000        3     187       70      22     200 36.4    0.408  36      pos\n",
            "    pregnant glucose pressure triceps insulin mass pedigree age diabetes\n",
            "1          1      85       66      29       0 26.6    0.351  31      neg\n",
            "15         6      92       92       0       0 19.9    0.188  28      neg\n",
            "17         4     103       60      33     192 24.0    0.966  33      neg\n",
            "19         3     180       64      25      70 34.0    0.271  26      neg\n",
            "28         5      88       66      21      23 24.4    0.342  30      neg\n",
            "37         5      99       74      27       0 29.0    0.203  32      neg\n",
            "38         2     109       92       0       0 42.7    0.845  54      neg\n",
            "44         1       0       48      20       0 24.7    0.140  22      neg\n",
            "46         5      95       72      33       0 37.7    0.370  27      neg\n",
            "47         2     112       66      22       0 25.0    0.307  24      neg\n",
            "49         2      74        0       0       0  0.0    0.102  22      neg\n",
            "56         1      80       55       0       0 19.1    0.258  21      neg\n",
            "58         7      81       78      40      48 46.7    0.261  42      neg\n",
            "60         6     144       72      27     228 33.9    0.255  40      neg\n",
            "62         1      71       48      18      76 20.4    0.323  22      neg\n",
            "65         0     125       96       0       0 22.5    0.262  21      neg\n",
            "68         1     126       56      29     152 28.7    0.801  21      neg\n",
            "71         3      83       58      31      18 34.3    0.336  25      neg\n",
            "79         5     132       80       0       0 26.8    0.186  69      neg\n",
            "88         5     105       72      29     325 36.9    0.159  28      neg\n",
            "95         2     106       64      35     119 30.5    1.400  34      neg\n",
            "99         4     114       65       0       0 21.9    0.432  37      neg\n",
            "101        2      99       52      15      94 24.6    0.637  21      neg\n",
            "114        2      75       64      24      55 29.7    0.370  33      neg\n",
            "123        9     123       70      44      94 33.1    0.374  40      neg\n",
            "124        8      85       55      20       0 24.4    0.136  42      neg\n",
            "126        0     113       80      16       0 31.0    0.874  21      neg\n",
            "131        5     111       72      28       0 23.9    0.407  27      neg\n",
            "132        1      96       64      27      87 33.2    0.289  21      neg\n",
            "139        1     100       66      15      56 23.6    0.666  26      neg\n",
            "142        4     197       70      39     744 36.7    2.329  31      neg\n",
            "144        1      79       80      25      37 25.4    0.583  22      neg\n",
            "147        0     104       76       0       0 18.4    0.582  27      neg\n",
            "149        4      91       70      32      88 33.1    0.446  22      neg\n",
            "162        3     191       68      15     130 30.9    0.299  34      neg\n",
            "167        0     102       52       0       0 25.1    0.078  21      neg\n",
            "169        3     122       78       0       0 23.0    0.254  40      neg\n",
            "175        2     108       62      10     278 25.3    0.881  22      neg\n",
            "180        4      96       56      17      49 20.8    0.340  26      neg\n",
            "181        5     108       72      43      75 36.1    0.263  33      neg\n",
            "183        0     161       50       0       0 21.9    0.254  65      neg\n",
            "193        3     113       50      10      85 29.5    0.626  25      neg\n",
            "203        2      87       58      16      52 32.7    0.166  25      neg\n",
            "204       12     106       80       0       0 23.6    0.137  44      neg\n",
            "231        2     105       58      40      94 34.9    0.225  25      neg\n",
            "233        0      98       82      15      84 25.2    0.299  22      neg\n",
            "237        0     105       68      22       0 20.0    0.236  22      neg\n",
            "239        1      90       62      18      59 25.1    1.268  25      neg\n",
            "246        2     127       58      24     275 27.7    1.600  25      neg\n",
            "248        3      82       70       0       0 21.1    0.389  25      neg\n",
            "259        1     119       88      41     170 45.3    0.507  26      neg\n",
            "271        5     147       75       0       0 29.9    0.434  28      neg\n",
            "274        2      83       66      23      50 32.2    0.497  22      neg\n",
            "276        1     100       72      12      70 25.3    0.658  28      neg\n",
            "300        0     137       84      27       0 27.3    0.231  59      neg\n",
            "303        4     132       86      31       0 28.0    0.419  63      neg\n",
            "312        2      89       90      30       0 33.5    0.292  42      neg\n",
            "317        2      81       72      15      76 30.1    0.547  25      neg\n",
            "325        2      84       50      23      76 30.4    0.968  21      neg\n",
            "334        2      68       70      32      66 25.0    0.187  25      neg\n",
            "336        6     114        0       0       0  0.0    0.189  26      neg\n",
            "337        3     125       58       0       0 31.6    0.151  24      neg\n",
            "338        3      87       60      18       0 21.8    0.444  21      neg\n",
            "345        1      86       66      52      65 41.3    0.917  29      neg\n",
            "349        0      57       60       0       0 21.7    0.735  67      neg\n",
            "354        1     164       82      43      67 32.8    0.341  50      neg\n",
            "360        1      84       64      23     115 36.9    0.471  28      neg\n",
            "365       11      85       74       0       0 30.1    0.300  35      neg\n",
            "377        1     143       86      30     330 30.1    0.892  23      neg\n",
            "379        6     108       44      20     130 24.0    0.813  35      neg\n",
            "385        6     103       66       0       0 24.3    0.249  29      neg\n",
            "387        2     112       78      50     140 39.4    0.175  24      neg\n",
            "398        0     152       82      39     272 41.5    0.270  27      neg\n",
            "406        2      92       76      20       0 24.2    1.698  28      neg\n",
            "408        0      94       70      27     115 43.5    0.347  21      neg\n",
            "412        0     132       78       0       0 32.4    0.393  21      neg\n",
            "416        2     111       60       0       0 26.2    0.343  23      neg\n",
            "418       10      92       62       0       0 25.9    0.167  31      neg\n",
            "419        5     104       74       0       0 28.8    0.153  48      neg\n",
            "423        4     128       70       0       0 34.3    0.303  24      neg\n",
            "427        0     107       60      25       0 26.4    0.133  23      neg\n",
            "432        1     106       70      28     135 34.2    0.142  22      neg\n",
            "435       11     127      106       0       0 39.0    0.190  51      neg\n",
            "436       10     162       84       0       0 27.7    0.182  54      neg\n",
            "443        3     123      100      35     240 57.3    0.880  22      neg\n",
            "445        0      93       60       0       0 35.3    0.263  25      neg\n",
            "448        0      95       64      39     105 44.6    0.366  22      neg\n",
            "451        3     130       64       0       0 23.1    0.314  22      neg\n",
            "460        2     122       76      27     200 35.9    0.483  26      neg\n",
            "461        2     129        0       0       0 38.5    0.304  41      neg\n",
            "462        4     110       76      20     100 28.4    0.118  27      neg\n",
            "468        3     102       74       0       0 29.5    0.121  32      neg\n",
            "470        1     108       60      46     178 35.5    0.415  24      neg\n",
            "482        4      95       60      32       0 35.4    0.284  28      neg\n",
            "483        0     126       86      27     120 27.4    0.515  21      neg\n",
            "489       12     100       84      33     105 30.0    0.488  46      neg\n",
            "492        3     108       62      24       0 26.0    0.223  25      neg\n",
            "498        2     122       70      27       0 36.8    0.340  27      neg\n",
            "499        5     121       72      23     112 26.2    0.245  30      neg\n",
            "500        1      93       70      31       0 30.4    0.315  23      neg\n",
            "501        6     148       72      35       0 33.6    0.627  50      pos\n",
            "503        0     137       40      35     168 43.1    2.288  33      pos\n",
            "512        7     107       74       0       0 29.6    0.254  31      pos\n",
            "514        7     196       90       0       0 39.8    0.451  41      pos\n",
            "516       11     143       94      33     146 36.6    0.254  51      pos\n",
            "522        4     111       72      47     207 37.1    1.390  56      pos\n",
            "526        8     176       90      34     300 33.7    0.467  58      pos\n",
            "528        8     133       72       0       0 32.9    0.270  39      pos\n",
            "530        0     109       88      30       0 32.5    0.855  38      pos\n",
            "532       13     126       90       0       0 43.4    0.583  42      pos\n",
            "534        5     137      108       0       0 48.8    0.227  37      pos\n",
            "539        0      95       85      25      36 37.4    0.247  24      pos\n",
            "540        3     171       72      33     135 33.3    0.199  24      pos\n",
            "596        9     184       85      15       0 30.0    1.213  49      pos\n",
            "604       10     101       86      37       0 45.6    1.136  38      pos\n",
            "613        2     146       70      38     360 28.0    0.337  29      pos\n",
            "617        5     115       98       0       0 52.9    0.209  28      pos\n",
            "618       10     161       68      23     132 25.5    0.326  47      pos\n",
            "625        3     112       74      30       0 31.6    0.197  25      pos\n",
            "626        0     124       70      20       0 27.4    0.254  36      pos\n",
            "644       12     140       82      43     325 39.2    0.528  58      pos\n",
            "646        5     116       74      29       0 32.3    0.660  35      pos\n",
            "649        5     166       76       0       0 45.7    0.340  27      pos\n",
            "650        4     158       78       0       0 32.9    0.803  31      pos\n",
            "651        0     131       66      40       0 34.3    0.196  22      pos\n",
            "652        3     193       70      31       0 34.9    0.241  25      pos\n",
            "663        8     151       78      32     210 42.9    0.516  36      pos\n",
            "676        8     120        0       0       0 30.0    0.183  38      pos\n",
            "677        2     105       80      45     191 33.7    0.711  29      pos\n",
            "682        7     195       70      33     145 25.1    0.163  55      pos\n",
            "694        8     186       90      35     225 34.5    0.423  37      pos\n",
            "695        5     187       76      27     207 43.6    1.034  53      pos\n",
            "696        6     125       76       0       0 33.8    0.121  54      pos\n",
            "705       11     111       84      40       0 46.8    0.925  45      pos\n",
            "708        1     173       74       0       0 36.8    0.088  38      pos\n",
            "712        3     174       58      22     194 32.9    0.593  36      pos\n",
            "716        0     119        0       0       0 32.4    0.141  24      pos\n",
            "723       11     136       84      35     130 28.3    0.260  42      pos\n",
            "726        1     199       76      43       0 42.9    1.394  22      pos\n",
            "734        3     121       52       0       0 36.0    0.127  25      pos\n",
            "743        1     168       88      29       0 35.0    0.905  52      pos\n",
            "745        9     164       78       0       0 32.8    0.148  45      pos\n",
            "747       10     129       62      36       0 41.2    0.441  38      pos\n",
            "750        5      97       76      27       0 35.6    0.378  52      pos\n",
            "753        8     120       86       0       0 28.4    0.259  22      pos\n",
            "759        3     187       70      22     200 36.4    0.408  36      pos\n",
            "767        9     170       74      31       0 44.0    0.403  43      pos\n",
            "769        0     104       64      37      64 33.6    0.510  22      pos\n",
            "772        4     145       82      18       0 32.5    0.235  70      pos\n",
            "777        9     156       86      28     155 34.3    1.189  42      pos\n",
            "782        0     121       66      30     165 34.3    0.203  33      pos\n",
            "783        3     158       70      30     328 35.5    0.344  35      pos\n",
            "786        8     133       72       0       0 32.9    0.270  39      pos\n",
            "787        5     166       72      19     175 25.8    0.587  51      pos\n",
            "791        0     179       50      36     159 37.8    0.455  22      pos\n",
            "796        7     152       88      44       0 50.0    0.337  36      pos\n",
            "798        0     118       84      47     230 45.8    0.551  31      pos\n",
            "809        3     141        0       0       0 30.0    0.761  27      pos\n",
            "810        4     183        0       0       0 28.4    0.212  36      pos\n",
            "812        4      95       64       0       0 32.0    0.161  31      pos\n",
            "817        6     148       72      35       0 33.6    0.627  50      pos\n",
            "821        0     109       88      30       0 32.5    0.855  38      pos\n",
            "823        2     108       80       0       0 27.0    0.259  52      pos\n",
            "836        2     128       78      37     182 43.3    1.224  31      pos\n",
            "855        3     141        0       0       0 30.0    0.761  27      pos\n",
            "860        7     168       88      42     321 38.2    0.787  40      pos\n",
            "861        0     104       64      37      64 33.6    0.510  22      pos\n",
            "862        8     154       78      32       0 32.4    0.443  45      pos\n",
            "864        7     181       84      21     192 35.9    0.586  51      pos\n",
            "865       11     138       74      26     144 36.1    0.557  50      pos\n",
            "866        5      85       74      22       0 29.0    1.224  32      pos\n",
            "870        3     174       58      22     194 32.9    0.593  36      pos\n",
            "881        6     134       70      23     130 35.4    0.542  29      pos\n",
            "884        1     163       72       0       0 39.0    1.222  33      pos\n",
            "889        4     146       92       0       0 31.2    0.539  61      pos\n",
            "890        8     179       72      42     130 32.7    0.719  36      pos\n",
            "896        5     144       82      26     285 32.0    0.452  58      pos\n",
            "898        6     195       70       0       0 30.9    0.328  31      pos\n",
            "901        0     121       66      30     165 34.3    0.203  33      pos\n",
            "903        0     179       50      36     159 37.8    0.455  22      pos\n",
            "908        0     109       88      30       0 32.5    0.855  38      pos\n",
            "909        3     176       86      27     156 33.3    1.154  52      pos\n",
            "913        6     104       74      18     156 29.9    0.722  41      pos\n",
            "919        1      88       30      42      99 55.0    0.496  26      pos\n",
            "925        2     158       90       0       0 31.6    0.805  66      pos\n",
            "929        6     148       72      35       0 33.6    0.627  50      pos\n",
            "932        5      97       76      27       0 35.6    0.378  52      pos\n",
            "934        7     187       50      33     392 33.9    0.826  34      pos\n",
            "935       13     158      114       0       0 42.3    0.257  44      pos\n",
            "936        3     173       82      48     465 38.4    2.137  25      pos\n",
            "942        4     156       75       0       0 48.3    0.238  32      pos\n",
            "949        0     146       70       0       0 37.9    0.334  28      pos\n",
            "950        7     106       60      24       0 26.5    0.296  29      pos\n",
            "955        1      95       82      25     180 35.0    0.233  43      pos\n",
            "958        2     146       70      38     360 28.0    0.337  29      pos\n",
            "970        5     136       84      41      88 35.0    0.286  35      pos\n",
            "979        8     155       62      26     495 34.0    0.543  46      pos\n",
            "990        0     131        0       0       0 43.2    0.270  26      pos\n",
            "993        6     119       50      22     176 27.1    1.318  33      pos\n",
            "994        9     156       86       0       0 24.8    0.230  53      pos\n",
            "'data.frame':\t800 obs. of  9 variables:\n",
            " $ pregnant: num  1 5 10 4 10 1 3 8 1 13 ...\n",
            " $ glucose : num  89 116 115 110 139 103 126 99 97 145 ...\n",
            " $ pressure: num  66 74 0 92 80 30 88 84 66 82 ...\n",
            " $ triceps : num  23 0 0 0 0 38 41 0 15 19 ...\n",
            " $ insulin : num  94 0 0 0 0 83 235 0 140 110 ...\n",
            " $ mass    : num  28.1 25.6 35.3 37.6 27.1 43.3 39.3 35.4 23.2 22.2 ...\n",
            " $ pedigree: num  0.167 0.201 0.134 0.191 1.441 ...\n",
            " $ age     : num  21 30 29 30 57 33 27 50 22 57 ...\n",
            " $ diabetes: Factor w/ 2 levels \"neg\",\"pos\": 1 1 1 1 1 1 1 1 1 1 ...\n",
            "'data.frame':\t200 obs. of  9 variables:\n",
            " $ pregnant: num  1 6 4 3 5 5 2 1 5 2 ...\n",
            " $ glucose : num  85 92 103 180 88 99 109 0 95 112 ...\n",
            " $ pressure: num  66 92 60 64 66 74 92 48 72 66 ...\n",
            " $ triceps : num  29 0 33 25 21 27 0 20 33 22 ...\n",
            " $ insulin : num  0 0 192 70 23 0 0 0 0 0 ...\n",
            " $ mass    : num  26.6 19.9 24 34 24.4 29 42.7 24.7 37.7 25 ...\n",
            " $ pedigree: num  0.351 0.188 0.966 0.271 0.342 0.203 0.845 0.14 0.37 0.307 ...\n",
            " $ age     : num  31 28 33 26 30 32 54 22 27 24 ...\n",
            " $ diabetes: Factor w/ 2 levels \"neg\",\"pos\": 1 1 1 1 1 1 1 1 1 1 ...\n"
          ]
        }
      ]
    },
    {
      "cell_type": "code",
      "source": [
        "%%R\n",
        "set.seed(222)\n",
        "model_knn <- caret::train(diabetes ~., data = train_set,\n",
        "                          method = \"knn\",\n",
        "                          metric = \"ROC\",\n",
        "                          tuneGrid = expand.grid(.k = c(3:10)),\n",
        "                          trControl = trainControl(method = \"cv\", number = 20,\n",
        "                                                   classProbs = T, summaryFunction = twoClassSummary),\n",
        "                          preProcess = c(\"center\",\"scale\",\"pca\"))"
      ],
      "metadata": {
        "id": "vqBSUWukfOOZ"
      },
      "execution_count": 31,
      "outputs": []
    },
    {
      "cell_type": "code",
      "source": [
        "%%R\n",
        "pred_knn <- predict(model_knn, test_set)"
      ],
      "metadata": {
        "id": "kJX8GVz2fOMg"
      },
      "execution_count": 32,
      "outputs": []
    },
    {
      "cell_type": "code",
      "source": [
        "%%R\n",
        "cm_knn <- confusionMatrix(pred_knn, test_set$diabetes, positive=\"pos\")\n",
        "\n",
        "# Prediction Probabilities\n",
        "pred_prob_knn <- predict(model_knn, test_set, type=\"prob\")\n",
        "# ROC value\n",
        "roc_knn <- roc(test_set$diabetes, pred_prob_knn$pos)"
      ],
      "metadata": {
        "colab": {
          "base_uri": "https://localhost:8080/"
        },
        "id": "LXl-sJwhfOKP",
        "outputId": "82e34db3-983f-4cbc-c8a7-909facc49f50"
      },
      "execution_count": 33,
      "outputs": [
        {
          "output_type": "stream",
          "name": "stderr",
          "text": [
            "R[write to console]: Setting levels: control = neg, case = pos\n",
            "\n",
            "R[write to console]: Setting direction: controls < cases\n",
            "\n"
          ]
        }
      ]
    },
    {
      "cell_type": "code",
      "source": [
        "%%R\n",
        "roc_knn"
      ],
      "metadata": {
        "colab": {
          "base_uri": "https://localhost:8080/"
        },
        "id": "EX4yOk7XK5mr",
        "outputId": "faa5f5e7-e07a-45c9-8b50-505847bfb692"
      },
      "execution_count": 35,
      "outputs": [
        {
          "output_type": "stream",
          "name": "stdout",
          "text": [
            "\n",
            "Call:\n",
            "roc.default(response = test_set$diabetes, predictor = pred_prob_knn$pos)\n",
            "\n",
            "Data: pred_prob_knn$pos in 100 controls (test_set$diabetes neg) < 100 cases (test_set$diabetes pos).\n",
            "Area under the curve: 0.8336\n"
          ]
        }
      ]
    },
    {
      "cell_type": "code",
      "source": [
        "%%R\n",
        "cm_knn"
      ],
      "metadata": {
        "colab": {
          "base_uri": "https://localhost:8080/"
        },
        "id": "UAFPs-9WfOHr",
        "outputId": "f602a604-18ff-4bf8-9ec1-edaa4336e4e7"
      },
      "execution_count": 34,
      "outputs": [
        {
          "output_type": "stream",
          "name": "stdout",
          "text": [
            "Confusion Matrix and Statistics\n",
            "\n",
            "          Reference\n",
            "Prediction neg pos\n",
            "       neg  76  21\n",
            "       pos  24  79\n",
            "                                          \n",
            "               Accuracy : 0.775           \n",
            "                 95% CI : (0.7108, 0.8309)\n",
            "    No Information Rate : 0.5             \n",
            "    P-Value [Acc > NIR] : 1.199e-15       \n",
            "                                          \n",
            "                  Kappa : 0.55            \n",
            "                                          \n",
            " Mcnemar's Test P-Value : 0.7656          \n",
            "                                          \n",
            "            Sensitivity : 0.7900          \n",
            "            Specificity : 0.7600          \n",
            "         Pos Pred Value : 0.7670          \n",
            "         Neg Pred Value : 0.7835          \n",
            "             Prevalence : 0.5000          \n",
            "         Detection Rate : 0.3950          \n",
            "   Detection Prevalence : 0.5150          \n",
            "      Balanced Accuracy : 0.7750          \n",
            "                                          \n",
            "       'Positive' Class : pos             \n",
            "                                          \n"
          ]
        }
      ]
    },
    {
      "cell_type": "code",
      "source": [
        "%%R\n",
        "model_knn"
      ],
      "metadata": {
        "colab": {
          "base_uri": "https://localhost:8080/"
        },
        "id": "ujN5PbNMLNIf",
        "outputId": "39be3467-b724-4c3f-f598-8c52ca183708"
      },
      "execution_count": 37,
      "outputs": [
        {
          "output_type": "stream",
          "name": "stdout",
          "text": [
            "k-Nearest Neighbors \n",
            "\n",
            "800 samples\n",
            "  8 predictor\n",
            "  2 classes: 'neg', 'pos' \n",
            "\n",
            "Pre-processing: centered (8), scaled (8), principal component signal\n",
            " extraction (8) \n",
            "Resampling: Cross-Validated (20 fold) \n",
            "Summary of sample sizes: 760, 760, 760, 760, 760, 760, ... \n",
            "Resampling results across tuning parameters:\n",
            "\n",
            "  k   ROC        Sens    Spec  \n",
            "   3  0.8271875  0.6925  0.7625\n",
            "   4  0.8240000  0.6875  0.7650\n",
            "   5  0.8203750  0.7250  0.7850\n",
            "   6  0.8338125  0.7175  0.7775\n",
            "   7  0.8273125  0.7075  0.7850\n",
            "   8  0.8251250  0.7025  0.7650\n",
            "   9  0.8195625  0.7125  0.7625\n",
            "  10  0.8179375  0.7125  0.7625\n",
            "\n",
            "ROC was used to select the optimal model using the largest value.\n",
            "The final value used for the model was k = 6.\n"
          ]
        }
      ]
    },
    {
      "cell_type": "code",
      "source": [
        "%%R\n",
        "plot(model_knn)"
      ],
      "metadata": {
        "colab": {
          "base_uri": "https://localhost:8080/",
          "height": 497
        },
        "id": "M7fZC3H7LVIj",
        "outputId": "d46f2ca1-e1a6-4476-dea7-079e2829d94f"
      },
      "execution_count": 38,
      "outputs": [
        {
          "output_type": "display_data",
          "data": {
            "image/png": "[encoded data removed]"
          },
          "metadata": {}
        }
      ]
    },
    {
      "cell_type": "code",
      "source": [
        "%%R\n",
        "ctable <- as.table(matrix(c(76, 21, 24, 79), nrow = 2, byrow = TRUE))\n",
        "fourfoldplot(ctable, color = c(\"cyan\", \"pink\"),\n",
        "             conf.level = 0, margin = 1, main = \"KNN:Confusion Matrix\")\n"
      ],
      "metadata": {
        "colab": {
          "base_uri": "https://localhost:8080/",
          "height": 497
        },
        "id": "J7iJSoATiG8z",
        "outputId": "a35eb8d1-3760-4e2b-e42c-f29b3f2b0d08"
      },
      "execution_count": 36,
      "outputs": [
        {
          "output_type": "display_data",
          "data": {
            "image/png": "[encoded data removed]"
          },
          "metadata": {}
        }
      ]
    },
    {
      "cell_type": "markdown",
      "source": [
        "#SVM"
      ],
      "metadata": {
        "id": "MSnQLszrgCGX"
      }
    },
    {
      "cell_type": "code",
      "source": [
        "%%R\n",
        "data(PimaIndiansDiabetes)\n",
        "data <- PimaIndiansDiabetes"
      ],
      "metadata": {
        "id": "5s1DqHwaaxLX"
      },
      "execution_count": 65,
      "outputs": []
    },
    {
      "cell_type": "code",
      "source": [
        "%%R\n",
        "data<-upsample(\n",
        "  data,\n",
        "  cat_col= \"diabetes\",\n",
        "  id_col = NULL,\n",
        "  id_method = \"n_ids\",\n",
        "  mark_new_rows = FALSE\n",
        ")\n",
        "print(table(data$diabetes))"
      ],
      "metadata": {
        "colab": {
          "base_uri": "https://localhost:8080/"
        },
        "id": "nP6vpLPYbjQe",
        "outputId": "ddbef34b-c7da-4f7a-fb5b-43b1fb5543ea"
      },
      "execution_count": 66,
      "outputs": [
        {
          "output_type": "stream",
          "name": "stdout",
          "text": [
            "\n",
            "neg pos \n",
            "500 500 \n"
          ]
        }
      ]
    },
    {
      "cell_type": "code",
      "source": [
        "%%R\n",
        "set.seed(123)\n",
        "data$diabetes=as.factor(data$diabetes)\n",
        "intrain <- createDataPartition(y = data$diabetes, p= 0.8, list = FALSE)\n",
        "training <- data[intrain,]\n",
        "testing <- data[-intrain,]"
      ],
      "metadata": {
        "id": "hLF_tBaMfOFC"
      },
      "execution_count": 67,
      "outputs": []
    },
    {
      "cell_type": "code",
      "source": [
        "%%R\n",
        "fitControl = trainControl(\n",
        "  method = 'cv' , \n",
        "  number = 10 ,\n",
        "  savePredictions = 'final' ,\n",
        "  classProbs = T,\n",
        "  summaryFunction = twoClassSummary\n",
        ")\n",
        "\n",
        "model_svm = caret::train(diabetes ~ . , data=training, method = 'svmRadial' ,metric=\"ROC\", tuneLength = 5, trControl = fitControl) #SVM MODEL\n",
        "\n",
        "\n",
        "\n",
        "model_svm"
      ],
      "metadata": {
        "colab": {
          "base_uri": "https://localhost:8080/"
        },
        "id": "sxUCUXxtgMuv",
        "outputId": "41c3d032-7282-422a-e01d-b94f29d04a19"
      },
      "execution_count": 68,
      "outputs": [
        {
          "output_type": "stream",
          "name": "stdout",
          "text": [
            "Support Vector Machines with Radial Basis Function Kernel \n",
            "\n",
            "800 samples\n",
            "  8 predictor\n",
            "  2 classes: 'neg', 'pos' \n",
            "\n",
            "No pre-processing\n",
            "Resampling: Cross-Validated (10 fold) \n",
            "Summary of sample sizes: 720, 720, 720, 720, 720, 720, ... \n",
            "Resampling results across tuning parameters:\n",
            "\n",
            "  C     ROC        Sens   Spec  \n",
            "  0.25  0.8397500  0.755  0.7500\n",
            "  0.50  0.8480000  0.755  0.7700\n",
            "  1.00  0.8483125  0.745  0.7775\n",
            "  2.00  0.8475625  0.745  0.7975\n",
            "  4.00  0.8521250  0.745  0.8075\n",
            "\n",
            "Tuning parameter 'sigma' was held constant at a value of 0.1225812\n",
            "ROC was used to select the optimal model using the largest value.\n",
            "The final values used for the model were sigma = 0.1225812 and C = 4.\n"
          ]
        }
      ]
    },
    {
      "cell_type": "code",
      "source": [
        "%%R\n",
        "plot(model_svm)"
      ],
      "metadata": {
        "colab": {
          "base_uri": "https://localhost:8080/",
          "height": 497
        },
        "id": "eW80r5aLxetX",
        "outputId": "049b1cf6-851a-4569-971c-ecc23a2675ec"
      },
      "execution_count": 69,
      "outputs": [
        {
          "output_type": "display_data",
          "data": {
            "image/png": "[encoded data removed]"
          },
          "metadata": {}
        }
      ]
    },
    {
      "cell_type": "code",
      "source": [
        "%%R\n",
        "pred_svm <- predict(model_svm, testing)\n",
        "# Confusion Matrix \n",
        "cm_svm <- confusionMatrix(pred_svm, testing$diabetes, positive=\"pos\")\n",
        "pred_prob_svm <- predict(model_svm, testing, type=\"prob\")\n",
        "# ROC value\n",
        "roc_svm <- roc(testing$diabetes, pred_prob_svm$pos)"
      ],
      "metadata": {
        "colab": {
          "base_uri": "https://localhost:8080/"
        },
        "id": "EA6_zt8egMsD",
        "outputId": "a1b57a7f-f43b-4f4b-bf37-65214f6697d1"
      },
      "execution_count": 70,
      "outputs": [
        {
          "output_type": "stream",
          "name": "stderr",
          "text": [
            "R[write to console]: Setting levels: control = neg, case = pos\n",
            "\n",
            "R[write to console]: Setting direction: controls < cases\n",
            "\n"
          ]
        }
      ]
    },
    {
      "cell_type": "code",
      "source": [
        "%%R\n",
        "roc_svm"
      ],
      "metadata": {
        "colab": {
          "base_uri": "https://localhost:8080/"
        },
        "id": "AIGtLgG6Efkx",
        "outputId": "2f9ffb69-f0b4-47ef-c48c-91826a262e73"
      },
      "execution_count": 71,
      "outputs": [
        {
          "output_type": "stream",
          "name": "stdout",
          "text": [
            "\n",
            "Call:\n",
            "roc.default(response = testing$diabetes, predictor = pred_prob_svm$pos)\n",
            "\n",
            "Data: pred_prob_svm$pos in 100 controls (testing$diabetes neg) < 100 cases (testing$diabetes pos).\n",
            "Area under the curve: 0.8846\n"
          ]
        }
      ]
    },
    {
      "cell_type": "code",
      "source": [
        "%%R\n",
        "cm_svm"
      ],
      "metadata": {
        "colab": {
          "base_uri": "https://localhost:8080/"
        },
        "id": "SNzW2bj1b3i1",
        "outputId": "4eda17e9-665c-47c7-bd3b-40d8fd67c1b2"
      },
      "execution_count": 72,
      "outputs": [
        {
          "output_type": "stream",
          "name": "stdout",
          "text": [
            "Confusion Matrix and Statistics\n",
            "\n",
            "          Reference\n",
            "Prediction neg pos\n",
            "       neg  77  13\n",
            "       pos  23  87\n",
            "                                          \n",
            "               Accuracy : 0.82            \n",
            "                 95% CI : (0.7596, 0.8706)\n",
            "    No Information Rate : 0.5             \n",
            "    P-Value [Acc > NIR] : <2e-16          \n",
            "                                          \n",
            "                  Kappa : 0.64            \n",
            "                                          \n",
            " Mcnemar's Test P-Value : 0.1336          \n",
            "                                          \n",
            "            Sensitivity : 0.8700          \n",
            "            Specificity : 0.7700          \n",
            "         Pos Pred Value : 0.7909          \n",
            "         Neg Pred Value : 0.8556          \n",
            "             Prevalence : 0.5000          \n",
            "         Detection Rate : 0.4350          \n",
            "   Detection Prevalence : 0.5500          \n",
            "      Balanced Accuracy : 0.8200          \n",
            "                                          \n",
            "       'Positive' Class : pos             \n",
            "                                          \n"
          ]
        }
      ]
    },
    {
      "cell_type": "code",
      "source": [
        "%%R\n",
        "ctable <- as.table(matrix(c(82, 16, 18, 84), nrow = 2, byrow = TRUE))\n",
        "fourfoldplot(ctable, color = c(\"cyan\", \"pink\"),\n",
        "             conf.level = 0, margin = 1, main = \"SVM:Confusion Matrix\")"
      ],
      "metadata": {
        "colab": {
          "base_uri": "https://localhost:8080/",
          "height": 497
        },
        "id": "tuZy9MZjgMpY",
        "outputId": "a21ebd75-69bc-476b-aec6-6be5f29871f1"
      },
      "execution_count": 73,
      "outputs": [
        {
          "output_type": "display_data",
          "data": {
            "image/png": "[encoded data removed]"
          },
          "metadata": {}
        }
      ]
    },
    {
      "cell_type": "markdown",
      "source": [
        "#XGBOOST"
      ],
      "metadata": {
        "id": "MikYW5BWXOR5"
      }
    },
    {
      "cell_type": "code",
      "source": [
        "%%R\n",
        "data = read.csv('/content/gdrive/MyDrive/Data_science/DS_CP/diabetes.csv')"
      ],
      "metadata": {
        "id": "xQtittvBXMAi"
      },
      "execution_count": 74,
      "outputs": []
    },
    {
      "cell_type": "code",
      "source": [
        "%%R\n",
        "data<-upsample(\n",
        "  data,\n",
        "  cat_col= \"Outcome\",\n",
        "  id_method = \"n_ids\",\n",
        ")"
      ],
      "metadata": {
        "id": "u2cBbLwIXL6B"
      },
      "execution_count": 76,
      "outputs": []
    },
    {
      "cell_type": "code",
      "source": [
        "%%R\n",
        "set.seed(222) \n",
        "train_ind = sample.split(data, SplitRatio = 0.8)\n",
        "train = data[train_ind,] #creates the training dataset with row numbers stored in train_ind\n",
        "test= data[!train_ind,]\n",
        "print(\"Dimensions of training set are:\")\n",
        "print(dim(train))\n",
        "print(\"Dimensions of testing set are:\")\n",
        "dim(test)"
      ],
      "metadata": {
        "colab": {
          "base_uri": "https://localhost:8080/"
        },
        "id": "A49NuC5_XL8m",
        "outputId": "23d75425-9d30-4188-a178-ef1da0e16132"
      },
      "execution_count": 77,
      "outputs": [
        {
          "output_type": "stream",
          "name": "stdout",
          "text": [
            "[1] \"Dimensions of training set are:\"\n",
            "[1] 777   9\n",
            "[1] \"Dimensions of testing set are:\"\n",
            "[1] 223   9\n"
          ]
        }
      ]
    },
    {
      "cell_type": "code",
      "source": [
        "%%R\n",
        "table(as.factor(train$Outcome))"
      ],
      "metadata": {
        "colab": {
          "base_uri": "https://localhost:8080/"
        },
        "id": "Gs6OgjvNVpuH",
        "outputId": "22d4f5f3-c48f-4b06-e5ab-e8adbc480275"
      },
      "execution_count": 78,
      "outputs": [
        {
          "output_type": "stream",
          "name": "stdout",
          "text": [
            "\n",
            "  0   1 \n",
            "389 388 \n"
          ]
        }
      ]
    },
    {
      "cell_type": "code",
      "source": [
        "%%R\n",
        "x1<- train[-c(9)]\n",
        "x2<- test[-c(9)]"
      ],
      "metadata": {
        "id": "e4Wo9paqV39W"
      },
      "execution_count": 79,
      "outputs": []
    },
    {
      "cell_type": "code",
      "source": [
        "%%R\n",
        "x1<-data.matrix(x1, rownames.force = NA)"
      ],
      "metadata": {
        "id": "raC0X2vhV368"
      },
      "execution_count": 80,
      "outputs": []
    },
    {
      "cell_type": "code",
      "source": [
        "%%R\n",
        "y_train<-train$Outcome"
      ],
      "metadata": {
        "id": "ibv_2TclV32c"
      },
      "execution_count": 81,
      "outputs": []
    },
    {
      "cell_type": "code",
      "source": [
        "%%R\n",
        "install.packages(\"xgboost\")"
      ],
      "metadata": {
        "colab": {
          "base_uri": "https://localhost:8080/"
        },
        "id": "3osShsX6WVD6",
        "outputId": "77f2b8ba-d935-442a-f09f-548361140152"
      },
      "execution_count": 82,
      "outputs": [
        {
          "output_type": "stream",
          "name": "stderr",
          "text": [
            "R[write to console]: Installing package into ‘/content/usr/local/lib/R/site-library’\n",
            "(as ‘lib’ is unspecified)\n",
            "\n",
            "R[write to console]: trying URL 'https://cran.rstudio.com/src/contrib/xgboost_1.5.0.2.tar.gz'\n",
            "\n",
            "R[write to console]: Content type 'application/x-gzip'\n",
            "R[write to console]:  length 1001991 bytes (978 KB)\n",
            "\n",
            "R[write to console]: =\n",
            "R[write to console]: =\n",
            "R[write to console]: =\n",
            "R[write to console]: =\n",
            "R[write to console]: =\n",
            "R[write to console]: =\n",
            "R[write to console]: =\n",
            "R[write to console]: =\n",
            "R[write to console]: =\n",
            "R[write to console]: =\n",
            "R[write to console]: =\n",
            "R[write to console]: =\n",
            "R[write to console]: =\n",
            "R[write to console]: =\n",
            "R[write to console]: =\n",
            "R[write to console]: =\n",
            "R[write to console]: =\n",
            "R[write to console]: =\n",
            "R[write to console]: =\n",
            "R[write to console]: =\n",
            "R[write to console]: =\n",
            "R[write to console]: =\n",
            "R[write to console]: =\n",
            "R[write to console]: =\n",
            "R[write to console]: =\n",
            "R[write to console]: =\n",
            "R[write to console]: =\n",
            "R[write to console]: =\n",
            "R[write to console]: =\n",
            "R[write to console]: =\n",
            "R[write to console]: =\n",
            "R[write to console]: =\n",
            "R[write to console]: =\n",
            "R[write to console]: =\n",
            "R[write to console]: =\n",
            "R[write to console]: =\n",
            "R[write to console]: =\n",
            "R[write to console]: =\n",
            "R[write to console]: =\n",
            "R[write to console]: =\n",
            "R[write to console]: =\n",
            "R[write to console]: =\n",
            "R[write to console]: =\n",
            "R[write to console]: =\n",
            "R[write to console]: =\n",
            "R[write to console]: =\n",
            "R[write to console]: =\n",
            "R[write to console]: =\n",
            "R[write to console]: =\n",
            "R[write to console]: =\n",
            "R[write to console]: \n",
            "\n",
            "R[write to console]: downloaded 978 KB\n",
            "\n",
            "\n",
            "R[write to console]: \n",
            "\n",
            "R[write to console]: \n",
            "R[write to console]: The downloaded source packages are in\n",
            "\t‘/tmp/Rtmp7pjOSn/downloaded_packages’\n",
            "R[write to console]: \n",
            "R[write to console]: \n",
            "\n"
          ]
        }
      ]
    },
    {
      "cell_type": "code",
      "source": [
        "%%R\n",
        "library(xgboost)"
      ],
      "metadata": {
        "id": "9T2vetJQWaua",
        "colab": {
          "base_uri": "https://localhost:8080/"
        },
        "outputId": "a3ed1daf-e392-4041-af04-7714a78437c1"
      },
      "execution_count": 83,
      "outputs": [
        {
          "output_type": "stream",
          "name": "stderr",
          "text": [
            "R[write to console]: \n",
            "Attaching package: ‘xgboost’\n",
            "\n",
            "\n",
            "R[write to console]: The following object is masked from ‘package:dplyr’:\n",
            "\n",
            "    slice\n",
            "\n",
            "\n"
          ]
        }
      ]
    },
    {
      "cell_type": "code",
      "source": [
        "%%R\n",
        "bst <- xgboost(data = x1, label = y_train,max_depth = 6, eta = 0.07, subsample = 0.8, nthread = -1,nrounds = 50,objective = \"binary:logistic\")"
      ],
      "metadata": {
        "colab": {
          "base_uri": "https://localhost:8080/"
        },
        "id": "4I5wg-1oV30Z",
        "outputId": "b4b513b2-75a0-4c59-b59e-217c586cd412"
      },
      "execution_count": 84,
      "outputs": [
        {
          "output_type": "stream",
          "name": "stdout",
          "text": [
            "[18:52:48] WARNING: amalgamation/../src/learner.cc:1115: Starting in XGBoost 1.3.0, the default evaluation metric used with the objective 'binary:logistic' was changed from 'error' to 'logloss'. Explicitly set eval_metric if you'd like to restore the old behavior.\n",
            "[1]\ttrain-logloss:0.659837 \n",
            "[2]\ttrain-logloss:0.632006 \n",
            "[3]\ttrain-logloss:0.604432 \n",
            "[4]\ttrain-logloss:0.579628 \n",
            "[5]\ttrain-logloss:0.557193 \n",
            "[6]\ttrain-logloss:0.537548 \n",
            "[7]\ttrain-logloss:0.518484 \n",
            "[8]\ttrain-logloss:0.502203 \n",
            "[9]\ttrain-logloss:0.485118 \n",
            "[10]\ttrain-logloss:0.470060 \n",
            "[11]\ttrain-logloss:0.456526 \n",
            "[12]\ttrain-logloss:0.444972 \n",
            "[13]\ttrain-logloss:0.432871 \n",
            "[14]\ttrain-logloss:0.420261 \n",
            "[15]\ttrain-logloss:0.409267 \n",
            "[16]\ttrain-logloss:0.399157 \n",
            "[17]\ttrain-logloss:0.388958 \n",
            "[18]\ttrain-logloss:0.379544 \n",
            "[19]\ttrain-logloss:0.370639 \n",
            "[20]\ttrain-logloss:0.362539 \n",
            "[21]\ttrain-logloss:0.356025 \n",
            "[22]\ttrain-logloss:0.348808 \n",
            "[23]\ttrain-logloss:0.342262 \n",
            "[24]\ttrain-logloss:0.335839 \n",
            "[25]\ttrain-logloss:0.330035 \n",
            "[26]\ttrain-logloss:0.326149 \n",
            "[27]\ttrain-logloss:0.320802 \n",
            "[28]\ttrain-logloss:0.316939 \n",
            "[29]\ttrain-logloss:0.312124 \n",
            "[30]\ttrain-logloss:0.305933 \n",
            "[31]\ttrain-logloss:0.298670 \n",
            "[32]\ttrain-logloss:0.293896 \n",
            "[33]\ttrain-logloss:0.289043 \n",
            "[34]\ttrain-logloss:0.285346 \n",
            "[35]\ttrain-logloss:0.280718 \n",
            "[36]\ttrain-logloss:0.278315 \n",
            "[37]\ttrain-logloss:0.275125 \n",
            "[38]\ttrain-logloss:0.270288 \n",
            "[39]\ttrain-logloss:0.267097 \n",
            "[40]\ttrain-logloss:0.264313 \n",
            "[41]\ttrain-logloss:0.262479 \n",
            "[42]\ttrain-logloss:0.259199 \n",
            "[43]\ttrain-logloss:0.255979 \n",
            "[44]\ttrain-logloss:0.252331 \n",
            "[45]\ttrain-logloss:0.251118 \n",
            "[46]\ttrain-logloss:0.247152 \n",
            "[47]\ttrain-logloss:0.242393 \n",
            "[48]\ttrain-logloss:0.238947 \n",
            "[49]\ttrain-logloss:0.235887 \n",
            "[50]\ttrain-logloss:0.233765 \n"
          ]
        }
      ]
    },
    {
      "cell_type": "code",
      "source": [
        "%%R\n",
        "x2<-data.matrix(x2, rownames.force = NA)\n",
        "y_test<-test$Outcome"
      ],
      "metadata": {
        "id": "-O6qt0JzV3yD"
      },
      "execution_count": 85,
      "outputs": []
    },
    {
      "cell_type": "code",
      "source": [
        "%%R\n",
        "pred <- predict(bst, x2)\n",
        "# get & print the classification error\n",
        "err <- mean(as.numeric(pred > 0.5) != y_test)\n",
        "print(paste(\"test-error=\", err))\n",
        "accuracy = 1-err\n",
        "print(paste(\"Accuracy of XGBoost model is:\",accuracy))"
      ],
      "metadata": {
        "colab": {
          "base_uri": "https://localhost:8080/"
        },
        "id": "5Y9iTuzyV3vh",
        "outputId": "4d2fa26a-b3b3-4403-de24-7940e0ee1e02"
      },
      "execution_count": 86,
      "outputs": [
        {
          "output_type": "stream",
          "name": "stdout",
          "text": [
            "[1] \"test-error= 0.174887892376682\"\n",
            "[1] \"Accuracy of XGBoost model is: 0.825112107623318\"\n"
          ]
        }
      ]
    },
    {
      "cell_type": "code",
      "source": [
        "%%R\n",
        "pred_new<-as.numeric(pred>0.5)\n",
        "pred_new<-as.factor(pred_new)\n",
        "pred_new"
      ],
      "metadata": {
        "colab": {
          "base_uri": "https://localhost:8080/"
        },
        "id": "TocGLpXOV3s5",
        "outputId": "f174feed-8ed2-449e-8d42-6de1ce219f18"
      },
      "execution_count": 87,
      "outputs": [
        {
          "output_type": "stream",
          "name": "stdout",
          "text": [
            "  [1] 0 1 0 0 1 0 0 0 0 0 0 0 0 1 0 0 0 0 0 1 0 1 0 0 1 0 0 1 0 0 1 0 0 1 0 1 0\n",
            " [38] 0 0 1 1 0 0 0 0 0 0 1 0 0 0 0 1 0 0 1 0 0 0 0 1 0 0 0 0 1 1 0 1 0 0 1 0 0\n",
            " [75] 0 0 0 0 0 0 0 0 0 0 0 0 0 0 0 0 0 0 0 0 0 0 0 1 0 0 1 0 0 1 0 1 0 0 0 0 0\n",
            "[112] 1 1 0 1 1 1 1 1 1 1 0 1 1 1 1 1 0 1 0 1 1 1 1 1 1 0 1 1 1 1 0 1 1 1 1 1 1\n",
            "[149] 1 0 1 1 0 1 1 0 1 1 1 1 1 1 1 1 1 1 1 0 1 1 1 1 1 1 1 1 1 1 1 1 0 1 1 1 1\n",
            "[186] 0 1 1 0 1 1 1 1 1 1 1 1 1 1 1 1 1 0 1 1 0 1 1 1 1 1 1 1 1 1 1 1 1 1 1 1 1\n",
            "[223] 1\n",
            "Levels: 0 1\n"
          ]
        }
      ]
    },
    {
      "cell_type": "code",
      "source": [
        "%%R\n",
        "y_test<-as.factor(y_test)\n",
        "cm<- confusionMatrix(pred_new,y_test)\n",
        "cm"
      ],
      "metadata": {
        "colab": {
          "base_uri": "https://localhost:8080/"
        },
        "id": "AtmABq_0V3qa",
        "outputId": "fbc5da81-3ed3-45a4-c0cd-3a935d4ee1f2"
      },
      "execution_count": 88,
      "outputs": [
        {
          "output_type": "stream",
          "name": "stdout",
          "text": [
            "Confusion Matrix and Statistics\n",
            "\n",
            "          Reference\n",
            "Prediction  0  1\n",
            "         0 87 15\n",
            "         1 24 97\n",
            "                                          \n",
            "               Accuracy : 0.8251          \n",
            "                 95% CI : (0.7688, 0.8726)\n",
            "    No Information Rate : 0.5022          \n",
            "    P-Value [Acc > NIR] : <2e-16          \n",
            "                                          \n",
            "                  Kappa : 0.6501          \n",
            "                                          \n",
            " Mcnemar's Test P-Value : 0.2002          \n",
            "                                          \n",
            "            Sensitivity : 0.7838          \n",
            "            Specificity : 0.8661          \n",
            "         Pos Pred Value : 0.8529          \n",
            "         Neg Pred Value : 0.8017          \n",
            "             Prevalence : 0.4978          \n",
            "         Detection Rate : 0.3901          \n",
            "   Detection Prevalence : 0.4574          \n",
            "      Balanced Accuracy : 0.8249          \n",
            "                                          \n",
            "       'Positive' Class : 0               \n",
            "                                          \n"
          ]
        }
      ]
    },
    {
      "cell_type": "code",
      "source": [
        "%%R\n",
        "y_test<-as.numeric(y_test)\n",
        "pred_new<-as.numeric(pred_new)\n",
        "roc_xgb<- roc(y_test, pred_new)\n",
        "roc_xgb"
      ],
      "metadata": {
        "colab": {
          "base_uri": "https://localhost:8080/"
        },
        "id": "W458oX86YzZq",
        "outputId": "5b8e7470-ed08-43fa-d3c4-b792a8892762"
      },
      "execution_count": 89,
      "outputs": [
        {
          "output_type": "stream",
          "name": "stderr",
          "text": [
            "R[write to console]: Setting levels: control = 1, case = 2\n",
            "\n",
            "R[write to console]: Setting direction: controls < cases\n",
            "\n"
          ]
        },
        {
          "output_type": "stream",
          "name": "stdout",
          "text": [
            "\n",
            "Call:\n",
            "roc.default(response = y_test, predictor = pred_new)\n",
            "\n",
            "Data: pred_new in 111 controls (y_test 1) < 112 cases (y_test 2).\n",
            "Area under the curve: 0.8249\n"
          ]
        }
      ]
    },
    {
      "cell_type": "code",
      "source": [
        "%%R\n",
        "x_g = caTools::colAUC(pred_new, y_test, plotROC = T)"
      ],
      "metadata": {
        "colab": {
          "base_uri": "https://localhost:8080/",
          "height": 497
        },
        "id": "nSUzmNfsZMAY",
        "outputId": "7529ce8c-5d1c-47c6-cb04-ae7e10001877"
      },
      "execution_count": 90,
      "outputs": [
        {
          "output_type": "display_data",
          "data": {
            "image/png": "[encoded data removed]"
          },
          "metadata": {}
        }
      ]
    },
    {
      "cell_type": "code",
      "source": [
        "%%R\n",
        "plot_roc = ggroc(list(Random_Forest=roc_rf,XGBoost=roc_xgb,KNN=roc_knn,SVM=roc_svm))+ \n",
        "labs(x = \"1 - Specificity\", y = \"Sensitivity\",linetype = \"Different legend title\")  +theme_classic()\n",
        "plot_roc"
      ],
      "metadata": {
        "colab": {
          "base_uri": "https://localhost:8080/",
          "height": 497
        },
        "id": "govj75suaJOn",
        "outputId": "591108ad-de60-4164-b1ed-a0260be800e1"
      },
      "execution_count": 100,
      "outputs": [
        {
          "output_type": "display_data",
          "data": {
            "image/png": "[encoded data removed]"
          },
          "metadata": {}
        }
      ]
    },
    {
      "cell_type": "code",
      "source": [
        "%%R\n",
        "roclist= list(Random_Forest=roc_rf,XGBoost=roc_xgb,KNN=roc_knn,SVM=roc_svm)\n",
        "g <- ggroc(roclist, aes = \"linetype\", legacy.axes = TRUE) +\n",
        "  geom_abline() +\n",
        "  theme_classic() +\n",
        "  ggtitle(\"ROC comparison\") +\n",
        "  labs(x = \"1 - Specificity\",\n",
        "       y = \"Sensitivity\",\n",
        "       linetype = \"Different models\")\n",
        "g"
      ],
      "metadata": {
        "colab": {
          "base_uri": "https://localhost:8080/",
          "height": 497
        },
        "id": "CQAwMOmTXli2",
        "outputId": "97889bff-d064-4f36-f978-d41758309d53"
      },
      "execution_count": 105,
      "outputs": [
        {
          "output_type": "display_data",
          "data": {
            "image/png": "[encoded data removed]"
          },
          "metadata": {}
        }
      ]
    },
    {
      "cell_type": "code",
      "source": [
        "%%R\n",
        "ctable <- as.table(matrix(c(102, 11, 19, 39), nrow = 2, byrow = TRUE))\n",
        "fourfoldplot(ctable, color = c(\"cyan\", \"pink\"),\n",
        "             conf.level = 0, margin = 1, main = \"XGBoost : Confusion Matrix\")"
      ],
      "metadata": {
        "colab": {
          "base_uri": "https://localhost:8080/",
          "height": 497
        },
        "id": "wBygXzJHdisq",
        "outputId": "66808ea1-6a13-40f2-8ae6-e2f2935af178"
      },
      "execution_count": null,
      "outputs": [
        {
          "output_type": "display_data",
          "data": {
            "image/png": "[encoded data removed]"
          },
          "metadata": {}
        }
      ]
    }
  ]
}