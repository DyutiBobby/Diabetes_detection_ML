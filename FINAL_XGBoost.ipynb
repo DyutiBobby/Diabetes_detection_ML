{
  "cells": [
    {
      "cell_type": "code",
      "execution_count": 1,
      "metadata": {
        "id": "1IDeMVbAimQI"
      },
      "outputs": [],
      "source": [
        "#XGBOOST==>Extreme Gradient Boosting"
      ]
    },
    {
      "cell_type": "code",
      "execution_count": 2,
      "metadata": {
        "colab": {
          "base_uri": "https://localhost:8080/"
        },
        "id": "EBb9Iy5WooOf",
        "outputId": "9668c4e2-92c5-49df-8455-d64d4a159da5"
      },
      "outputs": [
        {
          "output_type": "stream",
          "name": "stdout",
          "text": [
            "Drive already mounted at /content/gdrive; to attempt to forcibly remount, call drive.mount(\"/content/gdrive\", force_remount=True).\n"
          ]
        }
      ],
      "source": [
        "from google.colab import drive\n",
        "drive.mount(\"/content/gdrive\")"
      ]
    },
    {
      "cell_type": "code",
      "execution_count": 3,
      "metadata": {
        "id": "2cFNmtguviRZ"
      },
      "outputs": [],
      "source": [
        "%load_ext rpy2.ipython"
      ]
    },
    {
      "cell_type": "code",
      "source": [
        "%cp gdrive/MyDrive/library.tar.gz ."
      ],
      "metadata": {
        "id": "0xX7h4K_1925"
      },
      "execution_count": 4,
      "outputs": []
    },
    {
      "cell_type": "code",
      "source": [
        "!tar xf library.tar.gz\n"
      ],
      "metadata": {
        "colab": {
          "base_uri": "https://localhost:8080/"
        },
        "id": "heG3dcPI2Dfn",
        "outputId": "bbd99a52-7bb2-4baa-af87-b442ac36e4ae"
      },
      "execution_count": 5,
      "outputs": [
        {
          "output_type": "stream",
          "name": "stdout",
          "text": [
            "tar: Removing leading `/' from member names\n"
          ]
        }
      ]
    },
    {
      "cell_type": "code",
      "source": [
        "%%R\n",
        ".libPaths('usr/local/lib/R/site-library/')"
      ],
      "metadata": {
        "id": "ilLqxw882VMy"
      },
      "execution_count": 6,
      "outputs": []
    },
    {
      "cell_type": "code",
      "source": [
        "%%R\n",
        "install.packages(\"caTools\")\n",
        "install.packages(\"pROC\")\n",
        "library(pROC)"
      ],
      "metadata": {
        "colab": {
          "base_uri": "https://localhost:8080/"
        },
        "id": "c8aRPFSvylPa",
        "outputId": "a970ff5d-d74b-40ff-b939-f28a3d79ba2e"
      },
      "execution_count": 7,
      "outputs": [
        {
          "output_type": "stream",
          "name": "stderr",
          "text": [
            "R[write to console]: Installing package into ‘/content/usr/local/lib/R/site-library’\n",
            "(as ‘lib’ is unspecified)\n",
            "\n",
            "R[write to console]: trying URL 'https://cran.rstudio.com/src/contrib/caTools_1.18.2.tar.gz'\n",
            "\n",
            "R[write to console]: Content type 'application/x-gzip'\n",
            "R[write to console]:  length 64960 bytes (63 KB)\n",
            "\n",
            "R[write to console]: =\n",
            "R[write to console]: =\n",
            "R[write to console]: =\n",
            "R[write to console]: =\n",
            "R[write to console]: =\n",
            "R[write to console]: =\n",
            "R[write to console]: =\n",
            "R[write to console]: =\n",
            "R[write to console]: =\n",
            "R[write to console]: =\n",
            "R[write to console]: =\n",
            "R[write to console]: =\n",
            "R[write to console]: =\n",
            "R[write to console]: =\n",
            "R[write to console]: =\n",
            "R[write to console]: =\n",
            "R[write to console]: =\n",
            "R[write to console]: =\n",
            "R[write to console]: =\n",
            "R[write to console]: =\n",
            "R[write to console]: =\n",
            "R[write to console]: =\n",
            "R[write to console]: =\n",
            "R[write to console]: =\n",
            "R[write to console]: =\n",
            "R[write to console]: =\n",
            "R[write to console]: =\n",
            "R[write to console]: =\n",
            "R[write to console]: =\n",
            "R[write to console]: =\n",
            "R[write to console]: =\n",
            "R[write to console]: =\n",
            "R[write to console]: =\n",
            "R[write to console]: =\n",
            "R[write to console]: =\n",
            "R[write to console]: =\n",
            "R[write to console]: =\n",
            "R[write to console]: =\n",
            "R[write to console]: =\n",
            "R[write to console]: =\n",
            "R[write to console]: =\n",
            "R[write to console]: =\n",
            "R[write to console]: =\n",
            "R[write to console]: =\n",
            "R[write to console]: =\n",
            "R[write to console]: =\n",
            "R[write to console]: =\n",
            "R[write to console]: =\n",
            "R[write to console]: =\n",
            "R[write to console]: =\n",
            "R[write to console]: \n",
            "\n",
            "R[write to console]: downloaded 63 KB\n",
            "\n",
            "\n",
            "R[write to console]: \n",
            "\n",
            "R[write to console]: \n",
            "R[write to console]: The downloaded source packages are in\n",
            "\t‘/tmp/RtmpJE0V8O/downloaded_packages’\n",
            "R[write to console]: \n",
            "R[write to console]: \n",
            "\n",
            "R[write to console]: Installing package into ‘/content/usr/local/lib/R/site-library’\n",
            "(as ‘lib’ is unspecified)\n",
            "\n",
            "R[write to console]: trying URL 'https://cran.rstudio.com/src/contrib/pROC_1.18.0.tar.gz'\n",
            "\n",
            "R[write to console]: Content type 'application/x-gzip'\n",
            "R[write to console]:  length 688430 bytes (672 KB)\n",
            "\n",
            "R[write to console]: =\n",
            "R[write to console]: =\n",
            "R[write to console]: =\n",
            "R[write to console]: =\n",
            "R[write to console]: =\n",
            "R[write to console]: =\n",
            "R[write to console]: =\n",
            "R[write to console]: =\n",
            "R[write to console]: =\n",
            "R[write to console]: =\n",
            "R[write to console]: =\n",
            "R[write to console]: =\n",
            "R[write to console]: =\n",
            "R[write to console]: =\n",
            "R[write to console]: =\n",
            "R[write to console]: =\n",
            "R[write to console]: =\n",
            "R[write to console]: =\n",
            "R[write to console]: =\n",
            "R[write to console]: =\n",
            "R[write to console]: =\n",
            "R[write to console]: =\n",
            "R[write to console]: =\n",
            "R[write to console]: =\n",
            "R[write to console]: =\n",
            "R[write to console]: =\n",
            "R[write to console]: =\n",
            "R[write to console]: =\n",
            "R[write to console]: =\n",
            "R[write to console]: =\n",
            "R[write to console]: =\n",
            "R[write to console]: =\n",
            "R[write to console]: =\n",
            "R[write to console]: =\n",
            "R[write to console]: =\n",
            "R[write to console]: =\n",
            "R[write to console]: =\n",
            "R[write to console]: =\n",
            "R[write to console]: =\n",
            "R[write to console]: =\n",
            "R[write to console]: =\n",
            "R[write to console]: =\n",
            "R[write to console]: =\n",
            "R[write to console]: =\n",
            "R[write to console]: =\n",
            "R[write to console]: =\n",
            "R[write to console]: =\n",
            "R[write to console]: =\n",
            "R[write to console]: =\n",
            "R[write to console]: =\n",
            "R[write to console]: \n",
            "\n",
            "R[write to console]: downloaded 672 KB\n",
            "\n",
            "\n",
            "R[write to console]: \n",
            "\n",
            "R[write to console]: \n",
            "R[write to console]: The downloaded source packages are in\n",
            "\t‘/tmp/RtmpJE0V8O/downloaded_packages’\n",
            "R[write to console]: \n",
            "R[write to console]: \n",
            "\n",
            "R[write to console]: Type 'citation(\"pROC\")' for a citation.\n",
            "\n",
            "R[write to console]: \n",
            "Attaching package: ‘pROC’\n",
            "\n",
            "\n",
            "R[write to console]: The following objects are masked from ‘package:stats’:\n",
            "\n",
            "    cov, smooth, var\n",
            "\n",
            "\n"
          ]
        }
      ]
    },
    {
      "cell_type": "code",
      "execution_count": 8,
      "metadata": {
        "colab": {
          "base_uri": "https://localhost:8080/"
        },
        "id": "rphDKCXemI85",
        "outputId": "3ba7e74f-9d1d-4340-d0e1-2ee24010b864"
      },
      "outputs": [
        {
          "output_type": "stream",
          "name": "stderr",
          "text": [
            "R[write to console]: data.table 1.14.2 using 1 threads (see ?getDTthreads).  Latest news: r-datatable.com\n",
            "\n",
            "R[write to console]: \n",
            "Attaching package: ‘dplyr’\n",
            "\n",
            "\n",
            "R[write to console]: The following objects are masked from ‘package:data.table’:\n",
            "\n",
            "    between, first, last\n",
            "\n",
            "\n",
            "R[write to console]: The following objects are masked from ‘package:stats’:\n",
            "\n",
            "    filter, lag\n",
            "\n",
            "\n",
            "R[write to console]: The following objects are masked from ‘package:base’:\n",
            "\n",
            "    intersect, setdiff, setequal, union\n",
            "\n",
            "\n",
            "R[write to console]: Loading required package: lattice\n",
            "\n",
            "R[write to console]: \n",
            "Attaching package: ‘xgboost’\n",
            "\n",
            "\n",
            "R[write to console]: The following object is masked from ‘package:dplyr’:\n",
            "\n",
            "    slice\n",
            "\n",
            "\n",
            "R[write to console]: Loaded glmnet 4.1-3\n",
            "\n"
          ]
        }
      ],
      "source": [
        "%%R\n",
        "library(data.table) \n",
        "library(dplyr)      \n",
        "library(ggplot2)  \n",
        "library(caret)     \n",
        "library(xgboost)    \n",
        "library(e1071)      \n",
        "library(cowplot)    \n",
        "library(Matrix)\n",
        "library(magrittr)\n",
        "library(glmnet)\n",
        "library(groupdata2)\n",
        "library(caTools)"
      ]
    },
    {
      "cell_type": "code",
      "execution_count": 9,
      "metadata": {
        "id": "4Np0hNV9X-4u"
      },
      "outputs": [],
      "source": [
        "%%R\n",
        "data = read.csv('/content/gdrive/My Drive/DS_CP/diabetes.csv')"
      ]
    },
    {
      "cell_type": "code",
      "execution_count": 10,
      "metadata": {
        "colab": {
          "base_uri": "https://localhost:8080/"
        },
        "id": "YwKhySNZedRX",
        "outputId": "0febf6a5-4650-4b41-c413-c2c63e107046"
      },
      "outputs": [
        {
          "output_type": "stream",
          "name": "stdout",
          "text": [
            "[1] \"Pregnancies\"              \"Glucose\"                 \n",
            "[3] \"BloodPressure\"            \"SkinThickness\"           \n",
            "[5] \"Insulin\"                  \"BMI\"                     \n",
            "[7] \"DiabetesPedigreeFunction\" \"Age\"                     \n",
            "[9] \"Outcome\"                 \n"
          ]
        }
      ],
      "source": [
        "%%R\n",
        "colnames(data)"
      ]
    },
    {
      "cell_type": "code",
      "execution_count": 11,
      "metadata": {
        "colab": {
          "base_uri": "https://localhost:8080/"
        },
        "id": "UAS68CGJeo8j",
        "outputId": "90dd3f5a-018b-4918-b227-8822bc47f299"
      },
      "outputs": [
        {
          "output_type": "stream",
          "name": "stdout",
          "text": [
            "[1] 768   9\n"
          ]
        }
      ],
      "source": [
        "%%R\n",
        "dim(data)"
      ]
    },
    {
      "cell_type": "code",
      "execution_count": 12,
      "metadata": {
        "colab": {
          "base_uri": "https://localhost:8080/"
        },
        "id": "Jco0zaFTkOPB",
        "outputId": "5f956189-be08-412c-d7b0-15b1248ee413"
      },
      "outputs": [
        {
          "output_type": "stream",
          "name": "stdout",
          "text": [
            "             Pregnancies                  Glucose            BloodPressure \n",
            "                       0                        0                        0 \n",
            "           SkinThickness                  Insulin                      BMI \n",
            "                       0                        0                        0 \n",
            "DiabetesPedigreeFunction                      Age                  Outcome \n",
            "                       0                        0                        0 \n"
          ]
        }
      ],
      "source": [
        "%%R\n",
        "sapply(data, function(x) sum(is.na(x)))"
      ]
    },
    {
      "cell_type": "code",
      "execution_count": 13,
      "metadata": {
        "colab": {
          "base_uri": "https://localhost:8080/"
        },
        "id": "o_C_MKX4bX6r",
        "outputId": "96328fda-050f-405b-d328-ef656e283e8c"
      },
      "outputs": [
        {
          "output_type": "stream",
          "name": "stdout",
          "text": [
            "  Pregnancies        Glucose      BloodPressure    SkinThickness  \n",
            " Min.   : 0.000   Min.   :  0.0   Min.   :  0.00   Min.   : 0.00  \n",
            " 1st Qu.: 1.000   1st Qu.: 99.0   1st Qu.: 62.00   1st Qu.: 0.00  \n",
            " Median : 3.000   Median :117.0   Median : 72.00   Median :23.00  \n",
            " Mean   : 3.845   Mean   :120.9   Mean   : 69.11   Mean   :20.54  \n",
            " 3rd Qu.: 6.000   3rd Qu.:140.2   3rd Qu.: 80.00   3rd Qu.:32.00  \n",
            " Max.   :17.000   Max.   :199.0   Max.   :122.00   Max.   :99.00  \n",
            "    Insulin           BMI        DiabetesPedigreeFunction      Age       \n",
            " Min.   :  0.0   Min.   : 0.00   Min.   :0.0780           Min.   :21.00  \n",
            " 1st Qu.:  0.0   1st Qu.:27.30   1st Qu.:0.2437           1st Qu.:24.00  \n",
            " Median : 30.5   Median :32.00   Median :0.3725           Median :29.00  \n",
            " Mean   : 79.8   Mean   :31.99   Mean   :0.4719           Mean   :33.24  \n",
            " 3rd Qu.:127.2   3rd Qu.:36.60   3rd Qu.:0.6262           3rd Qu.:41.00  \n",
            " Max.   :846.0   Max.   :67.10   Max.   :2.4200           Max.   :81.00  \n",
            "    Outcome     \n",
            " Min.   :0.000  \n",
            " 1st Qu.:0.000  \n",
            " Median :0.000  \n",
            " Mean   :0.349  \n",
            " 3rd Qu.:1.000  \n",
            " Max.   :1.000  \n"
          ]
        }
      ],
      "source": [
        "%%R\n",
        "summary(data)"
      ]
    },
    {
      "cell_type": "code",
      "execution_count": 14,
      "metadata": {
        "colab": {
          "base_uri": "https://localhost:8080/"
        },
        "id": "ZllpvU1hG_Qs",
        "outputId": "52f12269-5da9-4b9d-f6c0-39cf20076122"
      },
      "outputs": [
        {
          "output_type": "stream",
          "name": "stdout",
          "text": [
            "'data.frame':\t768 obs. of  9 variables:\n",
            " $ Pregnancies             : int  6 1 8 1 0 5 3 10 2 8 ...\n",
            " $ Glucose                 : int  148 85 183 89 137 116 78 115 197 125 ...\n",
            " $ BloodPressure           : int  72 66 64 66 40 74 50 0 70 96 ...\n",
            " $ SkinThickness           : int  35 29 0 23 35 0 32 0 45 0 ...\n",
            " $ Insulin                 : int  0 0 0 94 168 0 88 0 543 0 ...\n",
            " $ BMI                     : num  33.6 26.6 23.3 28.1 43.1 25.6 31 35.3 30.5 0 ...\n",
            " $ DiabetesPedigreeFunction: num  0.627 0.351 0.672 0.167 2.288 ...\n",
            " $ Age                     : int  50 31 32 21 33 30 26 29 53 54 ...\n",
            " $ Outcome                 : int  1 0 1 0 1 0 1 0 1 1 ...\n"
          ]
        }
      ],
      "source": [
        "%%R\n",
        "str(data)"
      ]
    },
    {
      "cell_type": "code",
      "execution_count": 15,
      "metadata": {
        "id": "ieMnXHAzPHHk",
        "colab": {
          "base_uri": "https://localhost:8080/"
        },
        "outputId": "3a6ba509-ce2c-4357-a28d-4502d801c9a9"
      },
      "outputs": [
        {
          "output_type": "stream",
          "name": "stdout",
          "text": [
            "[1] \"Dimensions of training set are:\"\n",
            "[1] 597   9\n",
            "[1] \"Dimensions of testing set are:\"\n",
            "[1] 171   9\n"
          ]
        }
      ],
      "source": [
        "%%R\n",
        "set.seed(222) \n",
        "train_ind = sample.split(data, SplitRatio = 0.8)\n",
        "train = data[train_ind,] #creates the training dataset with row numbers stored in train_ind\n",
        "test= data[!train_ind,]\n",
        "print(\"Dimensions of training set are:\")\n",
        "print(dim(train))\n",
        "print(\"Dimensions of testing set are:\")\n",
        "dim(test)"
      ]
    },
    {
      "cell_type": "code",
      "source": [
        "%%R\n",
        "train<-upsample(\n",
        "  train,\n",
        "  cat_col= \"Outcome\",\n",
        "  id_method = \"n_ids\",\n",
        ")"
      ],
      "metadata": {
        "id": "aWXhCgMFTHfv"
      },
      "execution_count": 16,
      "outputs": []
    },
    {
      "cell_type": "code",
      "source": [
        "%%R\n",
        "table(as.factor(train$Outcome))"
      ],
      "metadata": {
        "colab": {
          "base_uri": "https://localhost:8080/"
        },
        "id": "3aUlWU0rT8k4",
        "outputId": "d34e03b0-639b-4c90-c251-860acc9796e1"
      },
      "execution_count": 17,
      "outputs": [
        {
          "output_type": "stream",
          "name": "stdout",
          "text": [
            "\n",
            "  0   1 \n",
            "379 379 \n"
          ]
        }
      ]
    },
    {
      "cell_type": "code",
      "execution_count": 18,
      "metadata": {
        "id": "cbO4DKXoMIQE"
      },
      "outputs": [],
      "source": [
        "%%R\n",
        "x1<- train[-c(9)]\n",
        "x2<- test[-c(9)]"
      ]
    },
    {
      "cell_type": "code",
      "source": [
        "%%R\n",
        "x1<-data.matrix(x1, rownames.force = NA)"
      ],
      "metadata": {
        "id": "1bBMoqAYTw_T"
      },
      "execution_count": 19,
      "outputs": []
    },
    {
      "cell_type": "code",
      "execution_count": 20,
      "metadata": {
        "id": "A1P5DCD6MWQH"
      },
      "outputs": [],
      "source": [
        "%%R\n",
        "y_train<-train$Outcome"
      ]
    },
    {
      "cell_type": "code",
      "execution_count": 21,
      "metadata": {
        "id": "SaGFecBKNb55",
        "colab": {
          "base_uri": "https://localhost:8080/"
        },
        "outputId": "70a6cdc4-04e3-4604-eaa5-13c5248b50ca"
      },
      "outputs": [
        {
          "output_type": "stream",
          "name": "stdout",
          "text": [
            "[02:10:09] WARNING: amalgamation/../src/learner.cc:1115: Starting in XGBoost 1.3.0, the default evaluation metric used with the objective 'binary:logistic' was changed from 'error' to 'logloss'. Explicitly set eval_metric if you'd like to restore the old behavior.\n",
            "[1]\ttrain-logloss:0.659279 \n",
            "[2]\ttrain-logloss:0.629156 \n",
            "[3]\ttrain-logloss:0.602607 \n",
            "[4]\ttrain-logloss:0.577689 \n",
            "[5]\ttrain-logloss:0.555930 \n",
            "[6]\ttrain-logloss:0.535734 \n",
            "[7]\ttrain-logloss:0.517192 \n",
            "[8]\ttrain-logloss:0.498976 \n",
            "[9]\ttrain-logloss:0.484189 \n",
            "[10]\ttrain-logloss:0.469153 \n",
            "[11]\ttrain-logloss:0.456878 \n",
            "[12]\ttrain-logloss:0.443719 \n",
            "[13]\ttrain-logloss:0.433039 \n",
            "[14]\ttrain-logloss:0.423200 \n",
            "[15]\ttrain-logloss:0.412482 \n",
            "[16]\ttrain-logloss:0.402907 \n",
            "[17]\ttrain-logloss:0.392734 \n",
            "[18]\ttrain-logloss:0.383430 \n",
            "[19]\ttrain-logloss:0.374366 \n",
            "[20]\ttrain-logloss:0.367149 \n",
            "[21]\ttrain-logloss:0.358491 \n",
            "[22]\ttrain-logloss:0.350900 \n",
            "[23]\ttrain-logloss:0.343561 \n",
            "[24]\ttrain-logloss:0.336648 \n",
            "[25]\ttrain-logloss:0.330309 \n",
            "[26]\ttrain-logloss:0.323725 \n",
            "[27]\ttrain-logloss:0.317509 \n",
            "[28]\ttrain-logloss:0.311647 \n",
            "[29]\ttrain-logloss:0.306746 \n",
            "[30]\ttrain-logloss:0.302310 \n",
            "[31]\ttrain-logloss:0.298106 \n",
            "[32]\ttrain-logloss:0.294670 \n",
            "[33]\ttrain-logloss:0.290506 \n",
            "[34]\ttrain-logloss:0.287001 \n",
            "[35]\ttrain-logloss:0.282799 \n",
            "[36]\ttrain-logloss:0.278900 \n",
            "[37]\ttrain-logloss:0.274655 \n",
            "[38]\ttrain-logloss:0.272403 \n",
            "[39]\ttrain-logloss:0.269130 \n",
            "[40]\ttrain-logloss:0.265329 \n",
            "[41]\ttrain-logloss:0.260763 \n",
            "[42]\ttrain-logloss:0.256969 \n",
            "[43]\ttrain-logloss:0.253075 \n",
            "[44]\ttrain-logloss:0.250859 \n",
            "[45]\ttrain-logloss:0.249023 \n",
            "[46]\ttrain-logloss:0.245829 \n",
            "[47]\ttrain-logloss:0.243654 \n",
            "[48]\ttrain-logloss:0.240530 \n",
            "[49]\ttrain-logloss:0.239309 \n",
            "[50]\ttrain-logloss:0.237455 \n"
          ]
        }
      ],
      "source": [
        "%%R\n",
        "bst <- xgboost(data = x1, label = y_train,max_depth = 6, eta = 0.07, subsample = 0.8, nthread = -1,nrounds = 50,objective = \"binary:logistic\")"
      ]
    },
    {
      "cell_type": "code",
      "execution_count": 22,
      "metadata": {
        "id": "EYyNfl_4Qms0"
      },
      "outputs": [],
      "source": [
        "%%R\n",
        "x2<-data.matrix(x2, rownames.force = NA)\n",
        "y_test<-test$Outcome"
      ]
    },
    {
      "cell_type": "code",
      "execution_count": 23,
      "metadata": {
        "id": "hBTUlEzcRSTw",
        "colab": {
          "base_uri": "https://localhost:8080/"
        },
        "outputId": "798948c8-ace3-48ed-b0e0-ed4420d692f6"
      },
      "outputs": [
        {
          "output_type": "stream",
          "name": "stdout",
          "text": [
            "[1] \"test-error= 0.175438596491228\"\n",
            "[1] \"Accuracy of XGBoost model is: 0.824561403508772\"\n"
          ]
        }
      ],
      "source": [
        "%%R\n",
        "pred <- predict(bst, x2)\n",
        "# get & print the classification error\n",
        "err <- mean(as.numeric(pred > 0.5) != y_test)\n",
        "print(paste(\"test-error=\", err))\n",
        "accuracy = 1-err\n",
        "print(paste(\"Accuracy of XGBoost model is:\",accuracy))"
      ]
    },
    {
      "cell_type": "code",
      "source": [
        "%%R\n",
        "pred_new<-as.numeric(pred>0.5)\n",
        "pred_new<-as.factor(pred_new)\n",
        "pred_new"
      ],
      "metadata": {
        "colab": {
          "base_uri": "https://localhost:8080/"
        },
        "id": "ClKcZDYjnBU7",
        "outputId": "a7aac935-90bb-48b1-f9f3-64ada3c91dd6"
      },
      "execution_count": 24,
      "outputs": [
        {
          "output_type": "stream",
          "name": "stdout",
          "text": [
            "  [1] 1 0 0 1 0 1 0 0 1 1 1 0 1 0 0 0 1 0 0 0 0 1 1 0 0 0 0 0 1 1 1 0 0 0 0 0 0\n",
            " [38] 1 1 0 0 1 0 0 0 0 1 1 0 1 0 1 0 0 0 1 0 0 1 1 1 0 0 0 0 0 0 0 1 0 0 0 0 0\n",
            " [75] 0 1 0 0 1 1 1 0 1 1 1 0 0 0 0 0 0 0 1 0 0 0 0 1 0 0 0 1 0 0 1 1 0 0 0 0 0\n",
            "[112] 0 0 0 0 0 0 0 0 0 1 1 1 0 1 0 0 0 0 0 0 1 1 0 1 0 1 0 0 0 1 1 0 0 0 0 1 1\n",
            "[149] 0 0 1 0 0 1 1 0 1 0 1 1 0 0 0 0 0 1 0 0 1 1 0\n",
            "Levels: 0 1\n"
          ]
        }
      ]
    },
    {
      "cell_type": "code",
      "source": [
        "%%R\n",
        "y_test<-as.factor(y_test)\n",
        "cm<- confusionMatrix(pred_new,y_test)\n",
        "cm"
      ],
      "metadata": {
        "colab": {
          "base_uri": "https://localhost:8080/"
        },
        "id": "gAgoXyZRoauN",
        "outputId": "f7b0becd-797c-429a-8b5f-8601d192daa4"
      },
      "execution_count": 25,
      "outputs": [
        {
          "output_type": "stream",
          "name": "stdout",
          "text": [
            "Confusion Matrix and Statistics\n",
            "\n",
            "          Reference\n",
            "Prediction   0   1\n",
            "         0 102  11\n",
            "         1  19  39\n",
            "                                          \n",
            "               Accuracy : 0.8246          \n",
            "                 95% CI : (0.7591, 0.8784)\n",
            "    No Information Rate : 0.7076          \n",
            "    P-Value [Acc > NIR] : 0.0003063       \n",
            "                                          \n",
            "                  Kappa : 0.595           \n",
            "                                          \n",
            " Mcnemar's Test P-Value : 0.2012426       \n",
            "                                          \n",
            "            Sensitivity : 0.8430          \n",
            "            Specificity : 0.7800          \n",
            "         Pos Pred Value : 0.9027          \n",
            "         Neg Pred Value : 0.6724          \n",
            "             Prevalence : 0.7076          \n",
            "         Detection Rate : 0.5965          \n",
            "   Detection Prevalence : 0.6608          \n",
            "      Balanced Accuracy : 0.8115          \n",
            "                                          \n",
            "       'Positive' Class : 0               \n",
            "                                          \n"
          ]
        }
      ]
    },
    {
      "cell_type": "code",
      "source": [
        "%%R\n",
        "y_test<-as.numeric(y_test)\n",
        "pred_new<-as.numeric(pred_new)\n",
        "roc_xgb<- roc(y_test, pred_new)\n",
        "roc_xgb"
      ],
      "metadata": {
        "colab": {
          "base_uri": "https://localhost:8080/"
        },
        "id": "oxGnbFhVucrv",
        "outputId": "0f921cac-4f2f-4c63-8e76-ec30946c1df9"
      },
      "execution_count": 26,
      "outputs": [
        {
          "output_type": "stream",
          "name": "stderr",
          "text": [
            "R[write to console]: Setting levels: control = 1, case = 2\n",
            "\n",
            "R[write to console]: Setting direction: controls < cases\n",
            "\n"
          ]
        },
        {
          "output_type": "stream",
          "name": "stdout",
          "text": [
            "\n",
            "Call:\n",
            "roc.default(response = y_test, predictor = pred_new)\n",
            "\n",
            "Data: pred_new in 121 controls (y_test 1) < 50 cases (y_test 2).\n",
            "Area under the curve: 0.8115\n"
          ]
        }
      ]
    },
    {
      "cell_type": "code",
      "source": [
        "%%R\n",
        "caTools::colAUC(pred_new, y_test, plotROC = T)"
      ],
      "metadata": {
        "colab": {
          "base_uri": "https://localhost:8080/",
          "height": 532
        },
        "id": "_2i_Z8P-v7Rc",
        "outputId": "d1272b59-2845-46dc-f88f-6ea61f11bf7a"
      },
      "execution_count": 27,
      "outputs": [
        {
          "output_type": "stream",
          "name": "stdout",
          "text": [
            "             [,1]\n",
            "1 vs. 2 0.8114876\n"
          ]
        },
        {
          "output_type": "display_data",
          "data": {
            "image/png": "[encoded data removed]"
          },
          "metadata": {}
        }
      ]
    },
    {
      "cell_type": "code",
      "execution_count": 28,
      "metadata": {
        "id": "WdXO05wpN9DF",
        "colab": {
          "base_uri": "https://localhost:8080/"
        },
        "outputId": "21dfde69-c748-43d8-8477-d2bd111c9624"
      },
      "outputs": [
        {
          "output_type": "stream",
          "name": "stdout",
          "text": [
            "                    Feature       Gain\n",
            "1:                  Glucose 0.34081723\n",
            "2:                      BMI 0.17987347\n",
            "3:                      Age 0.13087373\n",
            "4: DiabetesPedigreeFunction 0.12255579\n",
            "5:            BloodPressure 0.07085053\n",
            "6:            SkinThickness 0.05426450\n",
            "7:                  Insulin 0.05265465\n",
            "8:              Pregnancies 0.04811009\n"
          ]
        }
      ],
      "source": [
        "%%R\n",
        "importanceRaw <- xgb.importance(feature_names = colnames(x1), model = bst, data = x1, label = y_train)\n",
        "importanceClean <- importanceRaw[,`:=`(Cover=NULL, Frequency=NULL)]\n",
        "importanceClean"
      ]
    },
    {
      "cell_type": "code",
      "execution_count": 29,
      "metadata": {
        "id": "4A4MNWgpOAYJ",
        "colab": {
          "base_uri": "https://localhost:8080/",
          "height": 497
        },
        "outputId": "58a0a163-ab06-49a1-a430-cd897773a3b9"
      },
      "outputs": [
        {
          "output_type": "display_data",
          "data": {
            "image/png": "[encoded data removed]"
          },
          "metadata": {}
        }
      ],
      "source": [
        "%%R\n",
        "xgb.plot.importance(importance_matrix = importanceRaw)"
      ]
    }
  ],
  "metadata": {
    "accelerator": "GPU",
    "colab": {
      "collapsed_sections": [],
      "name": "XGBoost.ipynb",
      "provenance": []
    },
    "kernelspec": {
      "display_name": "Python 3",
      "name": "python3"
    },
    "language_info": {
      "name": "python"
    }
  },
  "nbformat": 4,
  "nbformat_minor": 0
}